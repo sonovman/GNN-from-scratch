{
  "nbformat": 4,
  "nbformat_minor": 0,
  "metadata": {
    "colab": {
      "provenance": [],
      "private_outputs": true,
      "collapsed_sections": [
        "-1nRsFTZ1z1q",
        "v4DkN4aBMjbG",
        "nPl-bF5eNBy-"
      ],
      "include_colab_link": true
    },
    "kernelspec": {
      "name": "python3",
      "display_name": "Python 3"
    },
    "language_info": {
      "name": "python"
    },
    "accelerator": "TPU",
    "gpuClass": "standard"
  },
  "cells": [
    {
      "cell_type": "markdown",
      "metadata": {
        "id": "view-in-github",
        "colab_type": "text"
      },
      "source": [
        "<a href=\"https://colab.research.google.com/github/sonovman/GNN-from-scratch/blob/main/Part1_GNN_cora_dataset_Study_2_2.ipynb\" target=\"_parent\"><img src=\"https://colab.research.google.com/assets/colab-badge.svg\" alt=\"Open In Colab\"/></a>"
      ]
    },
    {
      "cell_type": "markdown",
      "source": [
        "파이토치 데이터세트 샘플 설명\n",
        "https://baeseongsu.github.io/posts/pytorch-geometric-introduction/"
      ],
      "metadata": {
        "id": "LMvOMHHzO6Gu"
      }
    },
    {
      "cell_type": "markdown",
      "source": [
        "파이토치(PYTORCH) 한국어 튜토리얼\n",
        "https://tutorials.pytorch.kr/"
      ],
      "metadata": {
        "id": "x4jmNrW5PULa"
      }
    },
    {
      "cell_type": "code",
      "source": [
        "!python -c \"import torch; print(torch.version.cuda)\""
      ],
      "metadata": {
        "id": "CS97m_n6IRaA"
      },
      "execution_count": null,
      "outputs": []
    },
    {
      "cell_type": "code",
      "source": [
        "# PyTorch version\n",
        "!python -c \"import torch; print(torch.__version__)\"  #install 패키지 버전를 맞추기 위해서..."
      ],
      "metadata": {
        "id": "FFj1SwVJIUVg"
      },
      "execution_count": null,
      "outputs": []
    },
    {
      "cell_type": "code",
      "source": [
        "#https://pytorch-geometric.readthedocs.io/en/latest/"
      ],
      "metadata": {
        "id": "11QK0mCO_va4"
      },
      "execution_count": null,
      "outputs": []
    },
    {
      "cell_type": "code",
      "source": [
        "#https://github.com/pyg-team/pytorch_geometric"
      ],
      "metadata": {
        "id": "IJohlYUEAcku"
      },
      "execution_count": null,
      "outputs": []
    },
    {
      "cell_type": "code",
      "source": [
        "# Pytorch 버전에 맞추어 패키지 버전 install\n",
        "\n",
        "!pip install torch-geometric\n",
        "!pip install torch-sparse -f https://data.pyg.org/whl/torch-1.12.1+cu113.html\n",
        "!pip install torch-scatter -f https://data.pyg.org/whl/torch-1.12.1+cu113.html\n",
        "\n",
        "#!pip install torch-sparse -f https://data.pyg.org/whl/torch-1.10.0+cu111.html\n",
        "#!pip install torch-scatter -f https://data.pyg.org/whl/torch-1.10.0+cu111.html"
      ],
      "metadata": {
        "id": "tc0QG_-A2Hmc"
      },
      "execution_count": null,
      "outputs": []
    },
    {
      "cell_type": "code",
      "execution_count": null,
      "metadata": {
        "id": "IR_koZjM1yfv"
      },
      "outputs": [],
      "source": [
        "# PyG에서 제공하는 샘플 데이터 불러오기\n",
        "\n",
        "import torch\n",
        "from torch_geometric.data import Data"
      ]
    },
    {
      "cell_type": "code",
      "source": [
        "#https://pytorch-geometric.readthedocs.io/en/latest/notes/introduction.html"
      ],
      "metadata": {
        "id": "EYh6AXT9thB3"
      },
      "execution_count": null,
      "outputs": []
    },
    {
      "cell_type": "markdown",
      "source": [
        "# **Common Benchmark Datasets**\n",
        "**PyG contains a large number of common benchmark datasets, e.g., all Planetoid datasets (Cora, Citeseer, Pubmed)**, all graph classification datasets from http://graphkernels.cs.tu-dortmund.de and their cleaned versions, the QM7 and QM9 dataset, and a handful of 3D mesh/point cloud datasets like FAUST, ModelNet10/40 and ShapeNet.\n",
        "\n",
        "Initializing a dataset is straightforward. An initialization of a dataset will automatically download its raw files and process them to the previously described Data format. E.g., to load the ENZYMES dataset (consisting of 600 graphs within 6 classes), type:\n",
        "\n"
      ],
      "metadata": {
        "id": "UB7c_aa0thoc"
      }
    },
    {
      "cell_type": "code",
      "source": [
        "#https://pytorch-geometric.readthedocs.io/en/latest/notes/data_cheatsheet.html"
      ],
      "metadata": {
        "id": "7cLXAnlbByci"
      },
      "execution_count": null,
      "outputs": []
    },
    {
      "cell_type": "markdown",
      "source": [
        "![image.png](data:image/png;base64,iVBORw0KGgoAAAANSUhEUgAAArYAAADfCAYAAAADZ5BXAAAAAXNSR0IArs4c6QAAAARnQU1BAACxjwv8YQUAAAAJcEhZcwAADsMAAA7DAcdvqGQAAEeMSURBVHhe7d0LXBRV/z/wT5kb/kATo8BC84I9QqWYeMHwp3gpMUkxNa+PiZqmReZDangJL5ElmaERpkGGd1Q0NDR9JP+SmukPMBWegFS0XIqEcnnEFd3/mdlZ2F2WBRUTdj/vXid3zszO7p6Zc+Y7Z84M95SWlupARERERFTH3av8S0RERERUpzGwJSIiIiKbwMCWiIiIiGwCA1siIiIisgkMbImIiIjIJjCwJSIiIiKbwMCWiIiIiGwCA1siIiIisgkMbImIiIjIJlQ7sC0pKkKJ8tpUCYrEvCLLM4nsQomhApSIelKqf3k3FGWlIOXbTBQp0zZFlG15Md/ZBkdfjulQs12rWk1tl4JMUeYpSL/AQrem7FhcKo69FopKmi8dk+9mO1TXVVXGFZVAfbwOtL1FZ3DkuzOm31H6jRr9yzvWrip1O7NAmb7DqhnYHsFSFxd4vLwBZ5ScMhcSMVHMm7hdrWQQ2Rf1xqFwGr5erhtHIl3gFJpcyUngnZe1pS/69klEljJtO44gwsMFEamiZC9swBiXPog+pcy6A/Tl+C5S/qaGuO6qwe2SmyjKvC/eTbXJ07Ka8X0EPFwicFgUt3rLGLj0jkamMksKro4s7ivmu8DF5UkszVCyb5k+WPu7gpFaw2oZV6YIKUtqe9tbhMTQNnjt8J9orOSIX4gNo50wdKN89BJxnhNCdhsdvaSA9Lj69o9nSt1OzFWm77CbGoqgXjsGYxYduWsHbaLa6GxWItDVCy1FaHsmHfB/si0clHlUQ86eQZo6CB08RMmey0QiusGztTKP7h5ul7/Vmew0qAd1QAtR3HK7091TtDuKC4n4cE4KOqz4EaWlFxDWUcm/ZemI7vL3BSO1hdUyrstytiH2iwBMGeStZEjOInML4OspfqFUl+EPb6kuK87snoe+S1Lq3BXAmx5jeyT8NUR8V3VoW1KkRmZGJtRKF7eeftiC/G7p8pXx5RKNftpiT7jUVS7NM7yXqDaQ98t0/N8RIMDNAUXqdBzeDng2boCiAqM9Vezr6qx0ZJpf15bfr+RpziAzq7z5kC6FnclIxxmzCiFfZlSyStSZyDxbeZ0ouySpTJczqk914HKl9DvU6YdF0NQSjZ2KkJ52GHjGDQ0Ml8CltqPsUlplv1lQ2hxr889kmbdZRqy2Q3WrTGtCldtFYdgmhm1kSpTbWbEfVzbmQyrzs+lIr2w/t5ttIv0WNdKPiUDLozGclXanq1sDlBRIv0/MPymdWAAdWjStUB5l28BCIUrzLLU1OHta7qksKTQqQ6W8jctTv27lvfJ85bVZm2Z1W5XVTQtf8G9TRRkrS0mslacxy3GQwhDzmK/EWlnc6jzhTGoikl8OxmAPJUP6/OP/h8MIgJuov/q67AlnB5GvfF85sC+9gkLz9UqfVVm9rOa2NJRh2VLVfF+1lJaW6qpOqboFgA6vLdAt6CL+dRuhi89R5p2N1wWJeUFrL+inc5J003u66cSqldRSF7wx23TZ16br/N30891Gx+v2rg3WifMFZfmuugXfaZTPLdUVHFhQtqy8fM/puiTDZzMx3cWU/UVQ2X5pnrou+1Fe5sLO8n3dOMn15bsF4rW/7oOYBbqucv4CXWrRMV3UkJZGy7rp/Bel6jTyZ17QxQ8ReUMW6D54uXwZt54f6I5p9N8pNVzKC9JNea2r0Xxpvcr3LhJ12bh+uonP/16ZVytTqi7M8F3Nk9sUXVKB8pvbT9GFVfabRcreGKzzNN4OHsG6z06WtzPZ26co20BKLXUtPaR/g3TxZ/XzrbZDda5MayJVvV1KS7J18Ub7qVSuQcuOKfuySOJYMUU6nijzW3rolzUcSzTHo3RB8nYwS+Gp8ny72iYHwsp/i1lyey1JV/D9Ap2bSb6y7xZULIfp25XjsZW25sLGEUb5+rTgO/Eeuc1SXsvfzdAmxesuSNOW2jSRb21bacR7TOeJ9qzEsP6/MVVVxtIy5uUpxTdfSOWplIPye63GQSJJ7VF5zCP2/QlJcvlZK4tskzhJvGdIlO6Y0sZVXYbHdB+0hy54S4EyLermoPLlTVNXXVTGMd0Co/XJSd7GGt2xZUEm38O4ra30e8j7Rfl+Iy0n7R9dRV2W9rea3gduLrCVGpSceN0I6Qt0UX6MeWArKkv8sgTdMbU4aIiG7TNpY7uF6fZKB15lWSmYzZamcz6Tp6WGMOGCmC7YqwsThY/RCfpKohYNn/gs6cfLO5WyvrKdjInpbqesz3T+0kFEaqTlhnG6fl+X5+sbB+85SmBaJPZnsb93jTymn69UdrgF6BZs2avb+/0FsVy2bu+yz3R7c6Sgq0C3d463WCZA91mWtD5D49lVF7ZTX9+yvxghH9AM9U8f2HbVTdmSLX9mwb4wnbeYP2KjsnyMv5ivBB6ikbpw/Mc6UJc0ur2h4neJcjQ0yP4x5QeJqn5z6fEPlEZ0r65AaizVe/Un6O1FGyZtK6Wdkdslab6h3TIEB1W0Q3WzTGsiWd8uxyLFiYZRJ4h+u0gHTWm6QJc0WRz4jeZnr9afKOr35Qu6hNFi3eJgmi2v70ddVB8xPTlBX7b2uE00e3XTRfmEHRCvxXE4SASQ+nZBSUpgFhQjfmtBgagLShlLx2q5HJQyNpx4WG1rNLqCnfr1he0s0K/PQoBiObAV08ZtmtVtJV5L29VwTNdc0B3LMARfdyFZLWOjfTZLf1JccDxJlyrvv2aBrbU4SPkMf6Xzo1T9o+6YvA2slIXchrnpRshBtJhWYiV9B0rVZagRdc/N8PlG+XI9GaSvY6lzxDpC9+qPVVIq+lH3mRT8DvpM96PY/gUF+t+cvTtK99k+0daK/cHQ1gaslr6Xle9hvN8oMaTc3sqfVfP7wM0/7qvFCKz6Yjrcvp+HIYtSKnZDO3ljxGtB8HZxAO5rCf9+InRVZ0JtNADdt58/WkrDOFp4oYOU4ecLX3F0RmNPeLYR/67NxFnxj/rb9YhWe6Kb+xWkfZuClNSzcG7rD/WKNBu8OYbqGulSivpkOlKML8UOaAHnErNa4eSgH3Pr5CwP2m/g9IA0VSZ4RTzCBvnDv6ObWE7UmdeC4S8N8BJL+/fsL/5NhvoPeVG9IVMxpZ9UYYCWQ4IxUvybmJpmNA6qP0YOail/ZmMP/fiwDVlSjRLuk3K3ITpyA46ILLf2nkY3EtRC8uXLLGSmmw736ODmbHZ5ufLfnJ6yHkcQhKmj/dH4PpHh4o/gN0cAGdHYfwooOpIs2hmxHSaOQEtpvmi3vJ6U3yqrsh2qa2VaE6rcLun4OvKIaNs7oPFZ6W7xFKTBDU+LLZHyoyjsosNIjhH/TpiKES3kNaKlp3w0MCXqjrP8QvzrJE03lrex3W0T6bLxqUxRhsaXjTugaWOjtkb+zYLUzjQW5aROwXpRxp7i4HolXb8Nzjp5wl8djbT/SAtaa2sc0NhZvz4H58b69Ul1o5qM27SiKreVSFuisXTjEZwpdYP3E3dpS1VVxsb7rDIOtXH7AHRV9l8TVcRBDqL5TtnwEaJ3Z6JIbBNveRsIlZRFevJSUXN80cHlrLwdU0S9c+sEHElNh3zbvtUyLMHhfbFwmzYY/srHSHnysIuTKSbDLgJaiPpr2KXEftRAbg8bwFls/8aN9W9u2WcKgnuKtlbMa+znL1pesddcyJfnVbUtz6ZtwLxRY5DSdgG2rBDtrZJf0/vAzQe2gkMf8aXCu0IdOQYTvzC/X7AIR1aEILC9O+677z60mSCN+rlFovEE7sfFnDSkHdOnM04B+GBxB7jqlyC6S9RInOwC9yHR4vVSBLq5wGeaaCR2hsDHZShic6RlROO2LBh/zhqAp/r0Rd/2QxDbcwEWDi+rzrIWTU0bocztEXjlmTZy/bmvT4SSXwmHBvoDttkYsMq0fDkKe8P9cfaLMfDzcIK7WP+RysaU1gbHl8LFxQch+0Tj+ZoPXNyHQi7xQS5wmmPhxNqCEo04CkikxlPh1sxT/F8cEkQQVqK5KOdVeuCuoh2qc2VaE6rcLqLMpCOu5iwylTJLO1aCtos/QIDUqyGCCLnUKytzEQQHvLoA/ruHotMzou488yzGnAxGwmR/ObC1t21yZJkLXLqEiJPoZIR0NG53nDDj20pqgSgjuZQKzpaVUdrZxggQ26DDg9ICN9nW3ASTNs3qtmopguC9WNDzLGJH+6FNY3f0XXx3blCvsoyVfTbIozrRh5U4yMEfYbs+wxTnFIQMeAouTm3wyhbpqQSVl0VJqVSZSnD2ZHkZlnh8gA/6SSfzVZRhQTI2LHbDyL5GN43JT7Nyx9AV4nVkoGldHhJb8elXRkqyEhExQXyOtM849EX5XlP1tkyJj8V+ceKkFpG9q3SiKrsD+4ClbtyKyWgoQlleti5+dPkYEv3lI40uNdxb31WvjF+7sFa6vKRc0jMftmBYr+Eyhll3vmb3dPHaTRe2T78uJqZalYou6BImi/11VpKuoOCYLmqAdHnpmHIZUL9M9toROrchUbq93+3VHcspz5dThct6hvrSVbdgn7KsyTJml/2kpE7QBYv5bkrd1F+WVy6HSUmpc6Z1V6QSjS57+3T5MlJ5fayNSaMr+E66DBek+yyjQFcgvrN0iTnhgnitjOuq6jfrL0ubXrbVj4/21n1wvFSsc4p4Dd303eXtjH6d+nar2u1QnSnTmkhVbRfl8mK/z5TLjWapQD8sx+TSp7KvG8pOHofXPkyXIOpO6skL+kvhyrJ2t000BbpUaWiHclk4SRoC8lqC7oJhiIC0jFn5GS55u80yKmOjZL2tsTBtMc/yUATj91R7WxVli98lDYdQ4gVLy9zJVFUZK+Vpss+WJePYpYo4yOh9GrU0ztnwPqN5ZmWhb8MMw0SsJAtlmL06wGI91JxNkOugPNTkeJQuQLSRUd+L18qQA4vHG6VtlYd1ycMaLMWGIpl/D6P9QvO9Mr7WMCTP2vvM51cz3VKPrV5LjFixBQu6KJMycUaTkw486QvPFg4oKUjH17sPK/NunoPfSLF+NSJmz8CGDDWK1JlIjnwFQyPvzhkdkQmnKyjMEVWwbVs0dijE2Z2Abwdv/WU7eYEiZKVugHrLR5j7TgTemjwRM8KXIvZb+eKRReqzUn15Gp5PinVoziA56Wv9DGOp68U6zsj1IXHZh4hFV0wPFE1FNZRkbED09nQUlQLOD7mhKURSLjHVTg5wuKzGEXjC64nGKFSnAYN84e3WGI3Lzvita9lvCka4pWDeomgcOVsEtSiDjz5KBER+UHugcVd/iJMDLF22FCln1cjcHYF3Y/TvlVTVDtW9Mq0JVW2Xlug/YQTcds9DyOIUnCkqwpnvYzFjeAgSpREijX3h/7L4N3Iplop9WZ2VjIj3pB6yclmHt+FIRizmzY7A3GljEDJnqShn/QPw7W6bODjgivqIOLZ6wbNxIS6Kw2yQjzfcrA0RcPDFyEVdoV48FzM2pkMt3aG/eyleGb5U7r2usq0R65UGPKWlHUH6t+n6XrwH3RAg/tmWmIhM9Rkc+SICn2yRZlTO+rYqQfraaCRmFKHkPmc4uzUVH9q02nW7RlVVxqI8B4eLU6TIuYgQ+6G66AxSxO8IkXtbjVUVB4n3rYgVbY3YU53EfukiSrlLYzxgpSz0bVgy5oVGiPcVoejsEcTOGqp8trUyFJ+1MRnBEwaLGmnKoaQQmQiCZ1vx+34/i2T44umO5UMOJKJIgOw0pGUcQUqW+L75ZyDvNU92QOP7SnBm99co32uqty0dOk7HCrFfHgl9DRHH5dpa4/vAbQS2gpM4oC5dAH/9cD9BuXx0MgQ+TvfBY/h6NBg0Xa4It8TBG2E7UvFBs2SM6egOF/enMDH+Cvz9+ZxQqgWKspC+ryv8O4gmQxy4L0qNxKPKPIWzWwC6vjwCg/sEIKBPSxQmigNLnwGVPjzde/hyBHtEY6jbfbjPZwYy/aZieln9UjzZEkUxz8r1YegXDTB9ezymiwCtOi6eSUPyLB+4ODnB5ZlPgfB4LOh3e+OZ7rSsk/vh9pov2orXfxZkyr/fvJG2yj0Iq3ZFwT8tAn4eLnDv+BZSPKNwbG2wfj0uQXh7+3T4p89DXw8fDNvuhtmLp8hvlVXRDtXFMq0JVW0XtyGrsHftSJSs6Is2Li5o88x7yGzhD293aW5jBM1JwvSeaZjXpw18XkqE21tLUF7qJbjfpRu6DhiJcf2kuuMLh5OfImTIU5i3U4S2drdNspC21w1TusqlDfVJwLNlVbXAAd6zdiJ1cVMkj/aBu4s7npoQhyt+vdBWBA1VtjUdg7BggBsSX/ODz+S5SM4QQYjHSCxcFoQ/I4fiKffumHvSH1PnmDdQZqxtq9KLOHMyGTM6usDJyQV+4oRywRcLEHBXNlVVZeyArrMSkDCtAWLFfuju0gZjdjeG75MiEDNRRRxU9CfSjnyEMR5O4je74/WD/fHZ58HwtFYWUhu2Lx4jNdGijXKBi4cf3jvZEv4+4vtZe19GIqL3BSPAr2KBFmWlI6WLqI8tpMPXRXFi6mk2xNNNnHxOR9eMpQjsOAQhMSko6jgCy19uieghLrjP4SnMOOmLqaHK9q/2thT75bQV4mTnCOaFiJMs8dk1vQ/cI3XbKq9rlDQAWY72a4o8XsjhpgawE91VxyPg3iUNS3ISym6Qwalo+LWPxeDjx6wGo5brjxobhrtjDOJxYeMIuN1OJdOI9zrVZAWtI0SZlYgyq/SXl4pkrY2x1g7Za5lWQ4koG4fKysZSmasTMcZ9KFoeKMWCZ5S8omSEuAQC2wsQNcDoqMdtUi0lGtFcWOgFq7IZsbiAKPPSWzgeW9lWlX2/2ql6v9962Yp1lIh1WJhvtSystGGm75PGUEcjxSkIU/pUdRJkjYXfWsVOc6vbsqb2gTsW2BLZvZJ0RPT2wbw/usK/RQM5S30yE26vbUHSrK6VB1eVMgtslVwi26NG4ss+GLrPGf5P6vf0K2dTkO+XgG9WB91cjz0R2RUGtkR3UmkRMo8fRvoPmSh08UQ3P+lS7M2HtHrS324/jEx4wld+NBiRLRP7e8ZhHE5LwxkRynbr6o+ubW/j+iQR2QUGtkRERERkE27v5jEiIiIiolqCgS0RERER2QQGtkRERERkExjYEhEREZFNYGBLRERERDaBgS0RERER2QQGtkRERERkExjYEhEREZFNYGBLRERERDaBgS0RERER2QQGtkRERERkExjYEhEREZFNYGBLRERERDaBgS0RERER2YR7Lmuu6JTXRERERER1SgOH+sor9tgSERERkY1gYEtERERENoGBLRERERHZBAa2RERERGQTGNgSERERkU1gYEtERERENoGBLRERERHZBAa2RERERGQTGNgSERERkU1gYEtERERENoGBLRERERHZBAa2RERERGQTGNgSERERkU2457Lmik55XS3aa9dw/fp13LhxXcmxbffeWw/16tWDqn59JYeIiIiIaosGDuUxWrV7bG/cuIErJSW4dk1rN0GtRPqt0m+WfrtUBpXK34OoDZnQKpO1hxoHVifhvP1sMiKLtH8VQ8t6QGTZdS2Ki2vfEYzoZlU7sL2qta+A1pz026UysEyLw+uiUejqBpU0eSIdnSP/X3lamorxX57EsQIrgfEd0wSqv1Yj9kChMk11xoUkzB4SgLeS1EoG3bxi5G6dh+GDA/DiyCF4cegQzN+aK3Ity0+ajhcHROOEMk016K8fEDN+IAKjM5QMYxmIEdsocIBRCk1CvjLXWHFaNP45eDoSLygZdHuKc5EYLurGwIEY/tJAUU/mITG7khpyXY1dMyrbhlQrFIu69LJ9HzeqFdhKww/sOag1kMpAKosKClOw89gAvNTDWcmQNMLnof+Lo1Ka1BbB9YswZcNJ/Odvj21V8H1xBM5vTcF5JYdqv+Jj0ZgwbQPOy2dKdKu0h1ZgRpIbQj9PRtJOkaJGQrNuLrZlKwsY0Z6Ixltb1XBUpqkGSSdpwYtw6HolQ7oK8pDrEIh31m/BRiVtfT8QrsrsMsWH8OnCPWg3fSGC3JU8ug1aHF4pThIenonVO/R1ZNkwDda+uwW5yhLltDixejo2/cYaUnuJE4/583DIzluxagW20pjav92J1Rg+bDVOKZO35PfdmDdsiFiPSKtPKpmVycc3s4dgXrKlPoJylsqi8PAeZPl1Rtt6SoY5Rxc8098N/a7+hUM5Sp6kuBiaP4tx1UKsLLtWYmX+dVwV8zTFlW0b/Xz5vY91w7PaJBw+p59DtZs2LRrjF+fh+fcW4qVHlEy6BeJAfDoLvuNGwMdwzuneDT1bFeJEttkVjOIMxH6cg5feexPdlCyqIReT8Na0bXCd9gVCOlfSE/jrefz8uBc8GznCUUkq8/ZU6i2c/z5O9FmAV/0YXNUIbQYyM7th/IhOcFbKu5mvP1oVZCCrQD9tUJy2GlG5I7DkNT8lh2qb/KQPkNhiAd55sbmSY5+qFdhW6K01DjoNwWOVgeMdJn8nJYgdNhvf/C7yHuqHBZu3YO6z+kVqgqWe69zsTPi281SmKuFwLxriBkpKxetiNb5a+x16rUrDq1+moc/yo9j9q6ErNw8fRx7FVz+cwJToY8r87/DpiRJlPnA19zTmLTuMMWvT8WrsYQTE/gTD2//49xF0T8jC7tjv0H3Vccw6VCRym6PVk2pk5lZ2AZZqE1W7Cfhy/WIEteHB+/ao4DMhDqHGV1KKzyP31+bo1s4oTw6Y5iF30Aw835Rd5DWuaSDeXRuHED9n/VAtC/LP5cDx4avI/f4HHPs+E/kWRn1JB+1YTMC7Yz2kcxaqCapOCF41E6ZVJBfnH/NDOxclQyJOTsLfzUHQm4FwrawDh+4qaYjOW1s9EDK2PZyUPHtV7TG2lTm1YzV+ajMBUROeFFMnEVsWXBoHu1K+CDaTDcGnEnhaXF7fczp80W7xejcWmiwP/JY8u2z5st5VKagVyz87Zws2ikB24+Z38exD+lkVmfbMyuubvRu/yVPCL0llvbxV9d7qqZF/XgWnRlYOiDf+i//s/Q0J9RvBr7WYvu8GGrb5B/ZP80P8690Q73UN8775GRr90kIJUv54GB+9oZ+/6al6iEv5Cf+RZl3NQ8zOS3iwlw82T31GzPfFpw//jrn7yk+vr57/A2c6+sjDID7q0VjOa9bKE4V/XZZfUy1XTwUV46ua9VcGElfMw5Spa6B6Q5w0GF3Gzv/6A2x6dA7CA92UHKppKgflRSU0V7RQZX+Hb9N/wKFvlmHK4JGISTM6ET+3EfNX58Hxj22YP+01jB8+EBMWf4v8u3Ax0VYVn9iGqIWT8OqXKoTOH4xmSr584vfRBjSbtVCc+Cl5VLsUZyD+Y3Hi8d4UtGN/yG0Gtr/vxqZv/oHgaf3wsJzxJILlwFKkTybg8W82lAWkEGFZbKo7ouQeVPF6hxTEWlreFc++K6bn9BPz+2GuPF8JVEUAG5LaXV6HtDziouT1nzoqgmARXA9oJ33O7fnpG+Alaf3i83+KS6rmUIjWaFZhMNhfWPjJdxgj0rBlxzDh3H1YMPgpPHW/mHX/I/DvYjgdvhctHhF74rVSXFVypJ4mf283SItK8x/p7IJ+10RwLI0F/88lrNM54BHR2BxLOyvSeRTcWx8/nivAH/LywsNNEdz+f5SJcrm/VidQJ7JBKle07hSIID9g76crcECpCoZejtAJnTi29i5qPWwFVn+0ACGTpiBk7kp8Oas99i5cgxNy4KrF4a0bkO81Eu9+FofVq+KwMWE5ni94H/O358nvp9tX/6HW6PbsYPSstwdRn4mTBjm3GCdWTsemFjMx3oc1pFYyXHF6cQaCeOIhu43AdjcWTl0NjAsx6R09tVrf2zlczJP6GC9cVGYIz76kD4CfmCACR7mH1/ry5n775QyQLYJbS8u3dFeC69vz+LhAPCG9aOqOx3EGv5QF5tbkIb/CQwcc8cZob3wqUuzErjg41Qf9mhmu4VzHHyez8HGsPvAdk/KXkl+JB1R4UBozew3QXNaKFugeNFRmyZo+jOhnHi6//HD/fUpQbMrV2fjmNiI74uCGdl06oe+EFXi7wyF8+nWmyMzEpiVJULUADq2NRsxKKW3FCWQgUbxOPMGhO3eLY4cu6KjNwXn5QpQa6lwtegwbjLImtF5zPNu/E84fzrD45AS6eaqm7eHT5TkER86Bz6EV2JUlMrPWI+Lr+9Ea3yFerh8i7cwATmwVr7fhRBWHLrrzig+IbXKuGVx/3aa0YdHYdDAP5w9uFK+/tcubxm8jsO2Huea9midWY6HUg/uJ1MsajiqHtt7k8r//8h8RHYfre3iVFGzopT1zoXw4wd+qCZq4FkNTPo5AUQ+NHnCEk5Qaml5X/uPADxh6BBg4yhfx0nAC/0bKnEr8+l8RwtdDwwaA00MOeKS0Plq2bwGfDkbJq4nFYNYg/9dcOD9gEg4T2bg87Aqbh71mkY9TI0dckx/d54mg+QswOaATfLwNyQvO4j9P8br1Q/X1b6C/X4EaP4tTdSfR5kGcxqssdBZqikWj69TQ7scT3pZzSZi9cI/pyUE9Ue6NrkGuIm2G4N25U/B8R6M64uEMPOQlXreGK4dM3XWOXSbg3elj0bOsDesEz+aiXjT3FK+b2WX9uL2hCO0CEdxmNxYaj1FFSzz6kDR2dQO+UXKss7a8aY/pE537ASbDG/Tk/OzV2Fmth0+64tGWwE/yik9iZ5w8crUC/djh7vCudKyugQqt2rTGoR+lHqDq+fU3LR51b4IW90vFX4KzeeU3humV4j/nlFPhG//Fse8K8KOLC/yk0QseLhh4bxFi/m0YU3sDV389i++yzNdhTI3cU/Xh2Yo9tmRPmqN1mxzEfLgN55WbjYqzN+LzJKBvZ/3Nns5txIGgi3HyRDPxvrbidTveSPb3uK7G4c17kGW46qXNQ+InG6ANfBG+8jm/M3y6e+LA5o3INfQQ5n+L+K256NGHQ0hui7sHWudGI3J7nv6Pl1wvRu6GVdiF59DtcTFdzxmtTeqHSG2bA01F0NSlPVyrGDtNfwPH5vLVKONt1O4xcXr+mNQD31rUHvtze4GtCBKfnTYBj0vDA6Qbv9p1xbPKDV8hv3QXQa+yWGWsLS8Hzf9B7FRpqIJy81i7CfrxuXKelJQnM4j8qHH/wDeLDPn65Q03mi2UIuZvwuXXsSL41QfI0nQ48Kw0lrfcT3FTlff0w9x3DWOHrXP16YUme1MhXbmpjsfbN0HD01kYJg1DWHkKJ1wb4Rllnt59UP0q5n+cKo/PnVHUGKuHeujPvO59BONGtEC7c1novjQVY5alImDHH/jDWudS/g84VCAaqqq2B9USGYiRH1I/DjFip8paOU5+YD3/UMPNa/vPxZj80B5MUx7+P/ztFLi+tgKTOzBo/fuosStUX/6zvxaTX8/S/wGGsof8NxTB6XeImqhfJnD4dBx6fA4+ntC+7CkKrv0X4p32RzH7ZWWZqRuAUcsRysd+3Z56ngheNAWuu1/HiwNFuQ4cghkHXBHy4RS0Y9BKddQ9lzVXdMrrSun/nCxvP5Xce289NHAwr/GF2Dv3ZWQEJCC0W3UPmNdx9eo9uF/utTUmPe7rV7Qc3RUv1NBN2llxIxHVaDGi7fzZdmTftCVV351Pd5l0/buKR4JUYxG6Fde10IpTiQrPDyaqAxo4lPfuVavHtl497ukGlsvCGX1HDcDP3x2r9E91VlTPQlB7J+TiRKYfJj/PoJbsG4PaOqAaESuD2jtEeswgD/VkA6rVYythr21lvbU1rRhn0wqh8nLHI9buBiMiIiIikx7bage2N27cwFWt1m6DWymovV+lEv/+Hb2sRERERFQdNz0UQSIFdFJvZf36UnBnP9crpN8q/WbptzOoJSIiIqq9qt1jS0RERERU29xSjy0RERERUW3GwJaIiIiIbAIDWyIiIiKyCQxsiYiIiMgmMLAlIiIiIpvAwJaIiIiIbAIDWyIiIiKyCQxsiYiIiMgmMLAlIiIiIpvAwJaIiIiIbAIDWyIiIiKyCQxsiYiIiMgmMLAlIiIiIptwT2lpqU55TURERERUZ7HHloiIiIhsAgNbIiIiIrIJDGyJiIiIyCYwsCUiIiIim8DAloiIiIhsAgNbIiIiIrIJDGyJiIiIyCYwsCUiIiIim8DAloiIiIhsAgNbIiIiIrIJDGyJiIiIyCYwsCUiIiIim8DAloiIiIhswj2lpaU65XW1aK9dw/Xr1+VkS+rVqycnVf36Sg4RERER1SXV7rG9ceMGrpSUQKvV2lxQK5F+k/TbpN8o/dZKqZPxYfxpaJXJ2uMi9sfswDnb2zRERERE1VLtHlsp4DMEtA+s85f/tTV/jkqR/5V6bhs4OMivTWmR+v4gfP30WkT0bSJiyVOY8rkaB5W5klYuD+CV3k/g+TYNlJy/i9l3IyIiIrIz1eqxNQw/sBdy7634zRVc+je2Hx2I0b2MA8f7MX98b/w4R6RQH7z/aAneSUjDvgJl9t9GBb+XRuH8pn/jnJJDREREZE+qFdjelaD2WAHumVKANcpkTVvz+f/hns9LlKmKLP3mS6nJON2jC7zqKRnmHB5A28AWeOW+K9h3SqNkChoNLhdpcLWy8QvaK1bml+KqmHdZU6pMm9PPl9/bwg/9rn2F1LP6OURERET25JYC24ydeSLoFIGhcRJBopwf8RcylOUMwWOF5a0ElLWFpcA256fT8GvvpUxV5j40vA/4q/SaCGh/xbbPD6Dbih8QvPoHPBN5CLt+MYzfPYPIRYew7fD/YfyyI8r8A1iedkWZD1zN/hGzFh/EsNjjCI45CP+YTFxQ3l6wJxU+605hV8wB+Kz4Hm8eLBS5j6HNUxdxKtsoqCYiIiKyE7f0uK/2A5pDF/00vugoJtw9kC5e68ZbGpNqxLDcHA+0On4arXdKgWMJBlQIeK9jeoR4HZsnXufhZXleHqb/KiZ//QutjZbXr0NPDqIN84wCZ+OgWl5eWcfLx8VM8T3keUbBeOUu4uI5FRo+oFKmLSlFwcGz+PK/96OPl7OIcW+gUVtPHJrlj4TQHtj81DXM2pmNy8rSwBXsK3BD9Az9/O0d6uGzvZnIkmaVnMHyxAK4PNcVO6b3EPO743PX3zAr+Tf5nZKr5wrwc6eu8jCI6N7i84Rmrb1w6c/yTyAiIiKyF7cU2N6WRxphngiIfz5RLIJJB+yUgt2ygPc3EcDWw9IwMR3cXCzcHF/I85tj6SP69+Yalhfzf/66UD9U4ViBCFRd8OYcZZ4hyBb53icalwXU+PoXTId+HXJQ3tFLv3xYI7TXv6MKHmjuprwscxXL1x3A0KUiLT4A/4OleGlgBwxuKmY5uKPPMw/rFxNF3crdEbhWKt5hIAJgn0fE/yX3wt33ITyv/S9OXxSTmX9gzY0GeLT0Io7+8LNIeSi4tz4yzvyOsuG7ro/ilY5inWZyfs1XXhERERHZj78/sDVT1tO6KAc/i5DtJ6lntlJKb660vNyj+19kSMs/okIr8d6PFol8495a9X+BCznwrvb6q5IHtXTF38T9eCWwI2KDRZrcDT+G+eHlpwzBZikKMk4hMkYJfPf+qeRXorEKLuI3SuNlL/8l/qe6R4ThRh5xw+c93NBQmYRDPSUoNtXUWd97S0RERGRP7l5g66pCe5OeVi88r8yqTMbOX/DRBaUXV+rhVfINPbnp/V2U4QX6m87S8wvKe2WVtNNH/5ab9yAebKqBxsJV/vsbOaFhYymZPuKr4N9H8MJ3wOCXuyNBGk7Q9wFlTiV++S8yUQ+N/gdo+LAD3Evro3XHVujcySg99aDFYNYg/9ccOD9QFvoSERER2Y0aDWzbu4mI7IIW6fLUdWTkA61czf6S169/YcFx4Pn2hjG5/4P2j0hB62/YpeSUU3pkjbmr4C3+WZMs9cCaksf+ykMY9O8b2168loc36OdXkK+txthaAxVaP+6Bgxmnlemq/aK+ikebPYhWDlIxX8HPZ81vmruGrJ+VXtwbxTj67W/IeOgh/O9DYvofDyPo3kJE7TGMqb2Bq7/8jIOnym8uq+gisk+o8EQbPseWiIiI7E/N9tj6OONNd8MNXxn4yNULuQOUZ2MZDQnwDFZ6Tn2c8Lxyg5h3fmPxXv2iMnldyvAC5eax9k83RitlPQtcPcp7eOVHg0nLiRSbh1b9H9WPyfVxwRcdDeuQUvnjw8YGeJStq3o3jwFNO/fGg7sPorqhbdunH0SjH09hoDQMIeoE0t0eQHdlnl59qC6I+R+kYODiI5hW6Iy1o/6hH2pwrzteGdsK3mdOwSciBUMXp8A/4Xf8bu3eNfVRHCwIQPfHlWkiIiIiO1Ktvzxm/FfHJLb+l8cklv/62CUkzxyNtMDtCPOzFmEaK8XVkntxv9xra0x63NcvaDXeT3+jWQ04vWoYPmy0BJ+/9JiSQ0RERGQ/qtVjKwV59sbyb26CgJcHIvf/HUX1nxR7n4Wg9k7IQdqp7nj9BQa1REREZJ+q1WMrMe61tfUeW8u9tTVNg59/+AOqpx6D+53+KCIiIiI7UO3A9saNG7iq1Vr8i1y2RApq71epcO+9f0cvKxERERHVlGoHtgbaa9fk4NbWAlwpoJWSqr7ZUxyIiIiIqE646cCWiIiIiKg24vV2IiIiIrIJDGyJiIiIyCYwsCUiIiIim8DAloiIiIhsAgNbIiIiIrIJDGyJiIiIyCYwsCUiIiIim8DAloiIiIhsAgNbIiIiIrIJDGyJiIiIyCYwsCUiIiIim8DAloiIiIhsAgNbIiIiIrIJ91zWXNEpr4mIiIiI6pQGDvWVV+yxJSIiIiIbwcCWiIiIiGwCA1siIiIisgkMbImIiIjIJjCwJSIiIiKbwMCWiIiIiGwCA1siIiIisgkMbImIiIjIJjCwJSIiIiKbwMCWiIiIiGwCA1siIiIisgkMbImIiIjIJjCwJSIiIiKbcGuBbVo03kpSKxNERERERHcfe2xvV0kxiou1ygRRDbquRfFf1vct7V/F0F5XJujvIdV5VvnbI+3bVRQi922im1SNY4Y9uOey5opOeV19Uo/thcFYEuimZNSME9EBmH1UrPfziWhbT8k0dj0Pm0MmIf6JxUia0l6fJ75L4Fzg3Z1T0E6fU0ZeH6RlXbErdBxispQZFQSavP9E9EDM/toTIfGL0ddZyTR2vRDHNn6E2MQfcL5EyVM5opnvWPxrSiBaOyp5RFacT5qFaSu1CP58KZ53VTJlxchaNxOzt6rh/KAKhYUN4TtlPkJ7lde3/P0LMXvFMWgfbAJt4WU0C1qI8FGe4K5n5q8fEPPmIuzquKC8zZCciMaLYUmwdAhoOynOYttWnJ2EjxevxuF86V0qOHoNRvg7Y9GWhV59xblIXDITa4+JoFVMqhp1wuj5MxHUxlCIxchNWor34g5BX8yOaPti9fbtYnEseHVhDoKiliLIXcmkm5SBmMGzsMtixZiC1ZGBMGmqqJaQjhlzEb41U3/SrXKD72vvIczomGHrGjjUV17Vxh7bgm34/GvLwxwKD6zGpnPKxE1xQ9/5W7BxvT4t+2droNVYLFOmN66fUB4UlxzCN/vc0LpVJhL35ymZRq6rsevtlzF/b308vygOW3ckI2lnMrZGzUXf6zux6ftCZUGiSlwvxrGV4zBtax7Kq2K54gNLMftQJ3yQsAWrV63H1uUDkL/iHSReUBbIXoO3Vqgw5osd+HJVHDaumYvWe2fh00OWjkZ27EISZgcvwqHrFkq53RRsKKv/Slo1Ez0cneHZxsLBQLQLn87cANU/V8r1PWnHeoS22IPZKw9ZDI7JEi0Or5yOxIdnYrXSbi4bpsHad7cg17DEoRWYsVXs25/q5yd9MbN6+3ax2D4L96Dd9IUMam9Le0w2rxfr4xDawxHOT3gwqK2lCve/j9l7PRD6hVJvogJRuHQ64rOVBexMrQtsW/t0Qn7cGhwuVjIMSjKwaXUO2vmIoPQWqBwd4dhIn5waqOSeACdl2rGRmFYUHvwKB54YjLeHd0P+1j3IMrsUVrh/GWJyuiHsk7l4vq0bVErPssq9PYJmrRRnSJa6eIkMtDixcizeuxCID2aPQDMl11juKREsPeGN1oarFk07oWerPBw7qT9pys/KQGErL7RtJE8Cju3RrbMIGk4bwgPCxSS8NW0bXKd9gZDO5o2Jnqqs/uuT5thXOOz5CoLaKgsY0R47iAPuQzCmhxL01nOET9AQNNufjkovBJEpbQYyM7th/IhOcFb27Wa+/mhVkIGsAmlKi+PffYtmg8aihyGCatQJQYOa4UB6ppJhgdTZMP99nOizAK/6sfv8tjmY1gvHKz9g52EvjB/kqSxAtYsWudnn0WPCWPgYjgnu3dCzbSFOZNnnvVC1LrCt33EsXvUVZ9+bTRuy84nR2NvhNYzuWB6E1rw8fLs9A+3+tzNcu7yA57ET355QZsnUOLQnA46BL8CX7SfdEhXaTViPDeGD0drQCJlp/UQ3qH7ORb7hpKr4Z2T+3Bw+T+pPmlzbtofzr7k4b4jXruch65QKvl63dtJnk5oG4t21cQjxcxYlXg3ixDlxgxrPD++JSk9Nr2hNe2e1WmhEDseBVpOqE4KlXnGjAi4+L/bjx/zQzkXJEDSinI1pr4gd/VrlPbb5SR8gFhPw7lgP6RhPNUqciG9dg/zAESbbjWoTFXwmSW2dcVCiRfGfKrg+2ESZti+18OYxR/j+cwJct67Crnwlq/BbxCY4Ivif3eCkZN0Rp/dg08WeGNBd1OB6nugb2AR7U4wvNebjfBbg04YBBN0Glaqsp98Sxx7T8U67/XhjzDhMmDgO/xy7CqqZi8svsbYZiyUTLiNq7Eh5/oQx05HRayle7XYnT/rqgMJcHPu5fCiQykF5UQ3nd4kT58ct99ZKVB26o8cfGxC1IROFokHQFmZi8ycbkN+2NZpZ2ZakRf6JDOQb7kVQFJ/YhqiFk/DqlyqEzh+sXLkQJ32+PVGYsAybswrFCYMWhVkbEZWgRttWlq5tCOc2Yv7qPDj+sQ3zp72G8cMHYsLib8tPCun2XNiJmH3sra1rCvevxqZrAzCgi30eE245sD1/cCNiVkYbpY/x7vvvm+VVng5YGyvrGojxL6oR++UhSLcYnNiwArmBE81usKl5WYf24FqffvBVDojNugfCdf9XOFDVsNnTa/QBhpQW7wFH2dLtKE5bg6ivgJ7jpiDk9WkYP6IVjn26AgcuKgtcTEJUdCbajnhFnj95XC8Ub/gIm05bvuRui7Qi4Jk2JACBg4fgrRVJOCCCp72rZ2LTqavKEjeh5BA2rbtsvbfWsRtCo95Esx8/wFtTx2HGyq+Qca4+nh/1HMcdllHjwOJxeHFAAF6cPA/xezNw4vs1iAz/Dvlmw5zrP9Qa3Z4djJ719iDqMxGIKvmOfjOx7I3myPhwOqZMno5Pk9Jx3iEQY/pauglGi8NbxcmF10i8+1kcVkvjzROW4/mC9zF/u4X7I+gmifLdvAYa9tbWKcWnV2F+tAbB71VyE74duLWnIsiParmmTJS7JrLqW7obxoL6jo4Veq2kpxjEN1PuSC4+hMgxK9Bkwgs4tvocxsTPlC//5ydNx4TzY82eiqDFOzumwcdkfaJSLhmIyEaLsXWS0d3QgryOA/6md3iKg1vkyIU47OAG57Ie/asovFgI13ErEf1iczFdiF0zRiLecyk2jjM6g1XKQ717JqYdfY53jlL15CfhrfEp6GnyVIQ8bJ44CTmjtyCsR/mlpazVQzBbOxdbp3jK+/Xnj6zA6lHlVw4K987CP/c8Yyf7XjEOhI9FxoA1COmgRW7qHiTuSUXxE2MRMrx8/KZB+dNRTNsBg/NbJ2HajyOwOtxKYGuiWKxzIiIxE5+KdXJUkiJrFYavfhAfvz8Yzr+JE41dW7H35yZ4ftxE9C176oGZ6z8gauD7cIrcgmDz3vLiDMRMfR94YxUmd7D0/jwkTp2E8+OSEeKjZAnF++dh+Ned2A7frgvbMCUkHS99voCBbR1RnL0R4W8fRbdl9vdkkNt/KkI9lengciU1frBiXmXJ2qVYmWM3jBnnhsToNcDQEZWPaW3tBR+k4sR/lGmDkkxkpAHt2ngoGdbJN401HY53Y1bg4w8NaRWWiaD4fNlNZM7o1q8TriV9ZXpzm1Ie8k1pRLelEJcuAk3E/mTM2cUN2t8KRUh1CZfyxbT5fGdxMvir2k6uFjjC9601+mCnnjNa9xiO0IgVeGdUxaC2StXprTUj3YE8/6gfQscyqDXRZiw+XzQYrmIbqJq2x/MTFmBZxLTyoPZcEmYv3FPWOyur5wSnRtek4cpmCnFgyTwc6jwTYywGtZKG0j3AFWiKNYBTwzs7bM3msbe2rrHnoNZcLRxjW861/wyE/XMm3g6Seksr0agbggJVSPxgIXZlqeUbObT5mUh8dx52qQbjJaNer8rpbxpr2+85tFUCb0Nq1vcF9CjZiZ3f61te515TEOKTgcgQ6fOkcWBytjhA5iEri5e/6HZ5on0vFfZu2Ibzhn3rrx+QuP08fP5XCqTc0M63ObK2bsOxv5T51/OQuDkFzn39UMkQUZsjPeWkypPjajifuAaH21keW5ufugbxqWZ3FV9MQsSKHPSdPgHtGNWakk7wrY1rdvdA69xoRG7P07eb14uRu2EVduE5dHtcv4hBftJCRJ19DqHBZicPxZnYtTIJWXLHgjN8unviwOaNyDXUhfxvEb81Fz36dOJJx+04t03s++05traOMAS1nrNm4NlGxSj+S0kVThjtw60NRbhDTIYiVKLCUASJaCBPbJyLiK3Kw4mhgqvPCIRMH452Fu48rzAU4fQqDJ9zHq9WcsklK24kZhe8hi/f6qZvLKUGef8qxH6ZghPSnSQyFZp1GYzgV8bCh9e/yBp5+EySMmHgicmGIQnFudgV/QFiD6jh6FofxYVAK+OH1Et/ICRuISK/zhXHdkdcyy+Ga4838c70nnJvGUnUlv8oS3+jIQmG4U4R6yteBleGHcU2nokvw3rqy12+ND4Lh3wXY/Wk9tV72gKZurAHkYuiceCCvt1UufdEyDsz0aOpPCmT/9DC3FR0i/gCk9uZlbL8hzVSMeij9RjTRkybt/0OzdFj0myE9rXSGUJVKMbhJSPxqctifGk85I5qKSt/VMO4vbNxxkMRalVgWxO0xeJU3qFmenOqRRpfe62KngqiW6QtEQd/K/uWtkQr5jPEuiMMPeY8Wah5ot0Ue+6ttdPSdrHwPmk4g4pVgcgu2XRgS0RERET2o3b/SV0iIiIiolvAwJaIiIiIbAIDWyIiIiKyCQxsiYiIiMgmMLAlIiIiIpvAwJaIiIiIbAIDWyIiIiKyCQxsiYiIiMgmMLAlIiIiIpvAwJaIiIiIbAIDWyIiIiKyCQxsiYiIiMgmMLAlIiIiIpvAwJaIiIiIbAIDWyIiIiKyCQxsiYiIiMgm3FNaWqpTXhMRERER1VnssSUiIiIim8DAloiIiIhsAgNbIiIiIrIJDGyJiIiIyCYwsCUiIiIim8DAloiIiIhsAgNbIiIiIrIJDGyJiIiIyCYwsCUiIiIim8DAloiIiIhsAgNbIiIiIrIJDGyJiIiIyCYwsCUiIiIim3Brge3x5QhJvKhMEBERERHdfeyxvcu0Gg00WmWCyNh1LTR/Wt85tH9qoL2uTJBFUh2zWkZaUQevKK/p7qjGvn6zWDduH8uQ6qJaFdimR/VBnz4VU1nv8PHl6DNiOdI1+kljFxND0CcqXZlKx3IL69Gn/lguVnA0chD6T9uBCv3OmlRE9O+PiAP6D5G/04iVOF1Z5b5+DusmiGXKPltQ70CIxc8W311ZRPNTAsJe7I/+gwZhUP8+6B8cgf2/KDPJTmjE/jVM7IcJOGeyf2lwek0IBgX2xyCxj/QJnIyVRy8p8/Qu7o3A+ECx37wo9uPAMQhPzBHvImOXDnyoLyNRx/o/1x/jP0rFJeNy1pxG3DQxr7+og9Jyo8OrVwevX8SOaf0xLOooNDzoV+26aG8/GYP+Ru1fObN9vb/Yl/dWcjVQKXeTtrYCDXI2henbVLluDELYJtaNm8MyrMs0Ik4a1j8ECXlKhh2qfT22L0Ri3759JikqqKkyU/h9B8LmiIDU6gHFG6+brWPfvni8/qQKql5hGOfthM6TQ+H300rEKQGsnhbpa6KQ6h2KyT2clDzh9wTEfGW5sb20fyXWnVUmTHjh9bXm3+F18c2EK6mImrYOTpM/1+fv2YzIwPvxx1/yG8lOaA5EIWy3N8IWDcVj9ZRM4ZIIWkN3t0HYBv1+s/3D7jgVLoLbTGWBzJV44yM1+n2i7Fex46DaHIKIvabBr13LS8Bb759Dv+Vf68toazi8j0Ygqqy+X8L+iFAktwrD5j36cvw08BIiQuOQoyxRmXPr52C5ZhSWTO0MJ6PtRhaIE/8dYcMQnnoVKiXLmPm+vi/mBVx6/w3E/aQsUEa0zTFvYF2+UbtsgTY1CiHbmyLM0PbGjIJmTRgSKqyPKsMyrMM0IraYmwzvmREY2lzJs0N1byjCo17wyF+J9yoJNCtzMfE9rDzfG+EhfpCbRic/TH7TG6kxcUg3XIY8m4DliW4YN7UXmihZEo/OnaFeFYdU81PWK+lYF5MD784eSkY1/ScNqdre6N9XCdjrNYFX0L8w1FM/SXbgF3GC9n46AhaGwM/kWH0OyWuPwm/yJHR+QJ/j9PgoTH5Bix1fpYrDuxapiQm4f4TYXwwNl1svTB7rhaOb/i3eTZKL6WmoP2IyhrZQwqkHOqO7rxZHM5WwVZuDU7/0RsjY8uD0sR694fV7Gk6p9dOWSL0hb21wxOvzR5mcjJAlF7HjX69iy0NhWPtmdws9flrk/HQevSePK9vX0dwPvT0vIe2UafuuOb4SH2aPwsdiPZUTwe/JTPhNHIXOhgZcWl9rsb4snvRVD8uwzpKuaMyJQHq/CIQYd8zZoboX2DbqjbcjJwGr3sDy49W8OPJLAt77RI2AMBEsGG3vJn1fxySXHVi+RQoHxE7xYRwwVgQMj+rnG6g6BSPET5wJbTit5Oid27IcyR1DENzJUl+EFY82hwf+jc1fneP4JXskGqCExSuBiUswTpwTmewDv6fj+1+88MQ/TPcpr6e7Q3v0FHJwGmmpQGevx5Q5ek2e6gKPs2nI/VPJsHNNX4hAzBgvZUoQZZ6drYJfeyVP1Rmvr/kX/AwBlaREg0KVGx40zjOmOYqVEQfRPTwcvZ04ML5qTTHwve2ID/VDE4snASp0nhqPf5kchLXQ/KWC20MPKtOCdBIYno0hbw1EU6snE2J9k+MR1suoW0JzHjm/Pobu3sZdFVQ5lmFdJXfeYRKWBEsHFSXTTtW+wDZ9M5Z/srwsJVgaUPvoQLw90Q3JcyOwv6qTyOunsTJ0JdRBYZjU0fwsRjS8/xoHrBGfkxiHlQVD8a+RpgGDniP8gifBbVMMdhh6cy7tx8oNjpgU7CfmWpKHf68t/x3LP9lf3pv2kPj+IV44HTMe/QeNR1jMDqRb6SUi2yJdyl553gmFW+fg1amjMUgaI2sYVygHuW3wmJs8Va6eCHT/lPprBa0XmpudfEnzVdDgsj3fBHUpB0dzzRuEc9j/SQRChs3AqV5R4gS1spPQS9j/2TpcDRoEvwZKlgkNUqPCkSxepUe9gVcnDpLHPsedrObJtb24chHp6RfLj6sNbu6k/9LelVinHYhBvsr7pF6oJevwmGjrB5rv89b8mY6Ej8IwfmIsVKFL7Pqy7C1jGdYdZ9dhTkwenAq2YM7UVzF6UH+MWbi/iiGbtuuWA9u8A+uNgjYpLcU7iyLM8ipP+y2OSxUeegJdnu5Slto8ZLlhbBoUgYh+OYhcYG28rTQuKxwJjuOwZLK3xTFeaDEK/3opDys/OYreb46CV2U9Am4DMfklNVbGpopDnFjv2ijkBE3GQPMApExDPOZZ/ju6PN1c5JSTepS2b9+MmDd7wSkrDmGjh1W/B5rqriupWLfhIrxGL0H82niRtuNreVzhHLse7H+ztJnrMDmwD/r0H4SQj3Zgf3o6kmNCsfbEVWUJg4Zo/nQfDBrWGrmxkUjItNSVocHpVWGI/O8kfBxs1MtrLC8ZcfudMHBmLD6Xttvmr7E9rA12zIhCqr2eTKj3I3x0f0g35I6fG4dksQ2Orn0PYf8v33JbWwXNyZUIi9JgUuQkpR3WIP2TN7CuVRgmGV9qqw6VK9p0HYQhPYDkqCjsZ8fBzWMZ1hFapG5ah4tPjsKSNaJtEml70qd44bcIzJGvRtufWwtsvSdh7fxJGDd6nFF6BW9MDjHLqzz5NVPWZe7RJ9DZt3NZ8n60sibSCd5Tl2CUZjne+CQdxUquMWlcVsQutyrHw0mXeYHe6F1F4+k1IgR+qVFY91UClu/ujJARlRwEZc7w6Fj+Ozr7epiM25WpmsCj1yiELVuL8H5a7Nh6VDTlZNN+v4hcbW+MDjK6MtA8AIM6n8PB4xcBeT/Nxjnzg8h1EZA9IPXKCqrTyDO/e1/M14o60dBib6Ot0SA1PgFt5m7HvqRYhLTX4MjaGBx8NAzhLxjdaCoTdUzUv14vheODscC6eOnE1JgGOfFhCD3VG59+WPmlbm2e2Cath2KIURvh5BuAgAb7kWY6QslunE6KwqVBn2Pfnu1YNKgJ8rbGYLMmAFHB8i2yN0Xz0zqEvX0KvT+JKu+ZFScv4V/dDw8cRJyhU2R7unJVLwHp1obdNGgKb7HdAybHILxjKqKS7HQj3Q6WYR1xERezteg90ugm5HqPIeCFzjiXml7xyU924NYC23oqOD3gVCE1camYV1lSWQk0q01svFHzX4fb7nBE7S9UMhXyeLhkuE18++YuYVnj5IdxE92QEBUHjBhldtPP7XBCsxaVdv2SLWmgsjB05TIuXxZ7gVND4CFvdG9xWgRLpuHX6f87CFWPLvAS/3XoocLRk6b37l/68XvkeHaBZ2XjQ22KE/zC1uJ1aWhRPeXkMDIGEWM7K2M5NTgaFYqV6aa9sw0fEKeW/71cfplcCWpDjncXQa3pkynMqcS2qXCKLZ1MXBFt2f8o03bGa/RaREpPrBHHg6YdB2LSwhhEvhkAj5tsF+Wg9l/fo7sIak0udz8+FJELX8egTkZXvh53Vq7qtYFrhQ1yDjtCw5BsdlIoHW+0Wks99VQRy7DuEW2ThTp3WSOOIQ0bmlwpthe1b4ztlUvQ/KkxTdbq06MDEbGwN9SZxucl0qN8wpH8yDiE9GpYYX23c8NW0xfeRnhwGOYNsTQW15h0E4Tp5xoeQC49c3dY+A6cVoYDan/Zj7iteejs761/YgPZroc6o7fnv7F2fU7ZM1Av7o/Dutxe6O8rbf3H0Pulzji6Kg6GR9dqfopDzJYHMeoFqSdMBb8XBuLqpigknFUqhno/YladRq8hvWHeX2mrVE7WTo6d4OGpwo73V5aVoVRGUbFH4dVDBL9yhhLUHn0C4W8F4EHpD6WYtQ8XD8Qh7oDSrvyjOwIKEhC33zAWWrx/faxoY4ai3+P6LLvT4PY7KAxB7RNz30bAA0ZtpbRrSyctZVe8lCTdNClf1fNGU+nqxPWLSI2NQ6p8BeMxtPlHDpYvTsA5pWpI649JBAK6Wru6RuVYhnVPE3Tu4YV/r1+HHMNVDNHexW3OQa/nOttlTHFPaWmpTnl910l/DCH0K2XCiNfUeP2zbKU/0PBFc8QvH2h2ANci/ZPRCL0ehn0h4uCfvhz9Q3cY9cwYk54vG2U6NlZa70wg0vCcWSPSd4ptpnx+JaRAdcz5YP1nS6Q/0DB6OSpeuBmo/wxNDnZEvYeV+8/pv6OqKfwmvoPQIA8Gtvbgz3TEvROOhJPSaG2x+Zv3wuvhYQgo660SQVNiJOavSsVFsYDqAS8MnRshP3/Z4NLRlQhbmIAcaXxng8fQa+o8hPWr6mTLjojAM31tGMI3ndYHSSoneL0UgYixXvo6ZqWNGPj+Prze8RJ2TBuGlY3DsDm8l/49ecmICF+O/XnyCuH05FCEzx8Hb7voJb81ctv4iXlLqLSD0h/S6R+KHZY2gvQ8c0N7akxqq7/rXj7vd9HWjliJJmGbEd5LbKXr55D8/gIsN7StUt0IWYQww6MVqWosw7rHvL2z82NCrQps7ZF0dUd1K3daUN0nj4tVWe31qnL/4A5UJe0VUco3eXe+zHBlx3z7VGO70d9I2k4WtoVWnPSp7GLM+Z3DMqx7eEhgYEtERERENqL2jbElIiIiIroFDGyJiIiIyCYwsCUiIiIim8DAloiIiIhsAgNbIiIiIrIJDGyJiIiIyCYwsCUiIiIim8DAloiIiIhsAgNbIiIiIrIJDGyJiIiIyCYwsCUiIiIim8DAloiIiIhsAgNbIiIiIrIJDGyJiIiIyCYwsCUiIiIim8DAloiIiIhswj2XNVd0ymsiIiIiojqlgUN95RV7bImIiIjIRjCwJSIiIiKbwMCWiIiIiGwCA1siIiIisgkMbImIiIjIBgD/H8ATRzkaSMDqAAAAAElFTkSuQmCC)"
      ],
      "metadata": {
        "id": "XXIPFQUdJKSe"
      }
    },
    {
      "cell_type": "code",
      "source": [
        "# PyG의 TUDataset에서 ENZYMES 데이터 세트를 불러와 dataset으로 객체 지정\n",
        "\n",
        "from torch_geometric.datasets import TUDataset\n",
        "dataset = TUDataset(root='/tmp/ENZYMES', name='ENZYMES')"
      ],
      "metadata": {
        "id": "ra7Durh42iBl"
      },
      "execution_count": null,
      "outputs": []
    },
    {
      "cell_type": "code",
      "source": [
        "len(dataset)"
      ],
      "metadata": {
        "id": "MM3LVTmjs9fF"
      },
      "execution_count": null,
      "outputs": []
    },
    {
      "cell_type": "code",
      "source": [
        "dataset.num_classes"
      ],
      "metadata": {
        "id": "d7-Zz9Zps9hm"
      },
      "execution_count": null,
      "outputs": []
    },
    {
      "cell_type": "code",
      "source": [
        "dataset.num_node_features"
      ],
      "metadata": {
        "id": "oAyYnFD4s9kA"
      },
      "execution_count": null,
      "outputs": []
    },
    {
      "cell_type": "code",
      "source": [
        "dataset"
      ],
      "metadata": {
        "id": "deKh7YLk0S0_"
      },
      "execution_count": null,
      "outputs": []
    },
    {
      "cell_type": "code",
      "source": [
        "data = dataset[0]"
      ],
      "metadata": {
        "id": "jxYYsiV6tGED"
      },
      "execution_count": null,
      "outputs": []
    },
    {
      "cell_type": "markdown",
      "source": [
        "**Data Handling of Graphs**\n",
        "\n",
        "A graph is used to model pairwise relations (edges) between objects (nodes). A single graph in PyG is described by an instance of torch_geometric.data.Data, which holds the following attributes by default:\n",
        "\n",
        "PyG의 단일 그래프는 **torch_geometric.data의 인스턴스**로 설명된다. 데이터 - 기본적으로 다음 속성을 보유한다."
      ],
      "metadata": {
        "id": "RjJcqP-aGa0_"
      }
    },
    {
      "cell_type": "markdown",
      "source": [
        "**data.x**: Node feature matrix with shape **[num_nodes, num_node_features]**\n",
        "\n",
        "**data.edge_index**: Graph connectivity in COO format with shape **[2, num_edges]** and type torch.long\n",
        "\n",
        "**data.edge_attr**: Edge feature matrix with shape **[num_edges, num_edge_features]**\n",
        "\n",
        "**data.y**: Target to train against (may have arbitrary shape), e.g., node-level targets of shape **[num_nodes, *]** or graph-level targets of shape [1, *]\n",
        "\n",
        "**data.pos**: Node position matrix with shape **[num_nodes, num_dimensions]**"
      ],
      "metadata": {
        "id": "OsvRsC7utMsA"
      }
    },
    {
      "cell_type": "markdown",
      "source": [
        "data.face에 의해 확장하여 shape **[3, num_faces]** 및 torch.long 유형의 텐서에서 3D mesh로부터 삼각형의 연결을 저장할 수 있다.\n",
        "\n",
        "PyTorch 및 torchvision은 이미지와 타겟의 튜플로서 예제를 정의한다. PyG에서 이 표기법을 생략한다."
      ],
      "metadata": {
        "id": "qRvXeG1uGWxG"
      }
    },
    {
      "cell_type": "code",
      "source": [
        "data"
      ],
      "metadata": {
        "id": "68if2YU3tHE5"
      },
      "execution_count": null,
      "outputs": []
    },
    {
      "cell_type": "code",
      "source": [
        "#PyG 토치에서 networkx 불러오기\n",
        "\n",
        "from torch_geometric.utils import to_networkx"
      ],
      "metadata": {
        "id": "9eBraD6st0mv"
      },
      "execution_count": null,
      "outputs": []
    },
    {
      "cell_type": "code",
      "source": [
        "type(data)"
      ],
      "metadata": {
        "id": "V-XPD7E4t38S"
      },
      "execution_count": null,
      "outputs": []
    },
    {
      "cell_type": "code",
      "source": [
        "networkX_graph = to_networkx(data)"
      ],
      "metadata": {
        "id": "0C_1xlfUtXBw"
      },
      "execution_count": null,
      "outputs": []
    },
    {
      "cell_type": "code",
      "source": [
        "type(networkX_graph)"
      ],
      "metadata": {
        "id": "hmNIuvfquPyX"
      },
      "execution_count": null,
      "outputs": []
    },
    {
      "cell_type": "code",
      "source": [
        "import networkx as nx"
      ],
      "metadata": {
        "id": "xQ7PlL4at5HD"
      },
      "execution_count": null,
      "outputs": []
    },
    {
      "cell_type": "code",
      "source": [
        "nx.draw(networkX_graph)"
      ],
      "metadata": {
        "id": "R7bX2GVNtYU0"
      },
      "execution_count": null,
      "outputs": []
    },
    {
      "cell_type": "code",
      "source": [
        "nx.draw(networkX_graph, with_labels = True)"
      ],
      "metadata": {
        "id": "IPlJIbavHZiG"
      },
      "execution_count": null,
      "outputs": []
    },
    {
      "cell_type": "markdown",
      "source": [
        "## **Cora dataset**\n",
        "\"The **Cora dataset consists of 2708 scientific publications classified** into one of seven classes. The citation network consists of 5429 links. Each publication in the dataset is described by a 0/1-valued word vector indicating the absence/presence of the corresponding word from the dictionary. The dictionary consists of 1433 unique words.\" - Papers with Code.\n",
        "\n",
        "https://graphsandnetworks.com/the-cora-dataset/"
      ],
      "metadata": {
        "id": "-1nRsFTZ1z1q"
      }
    },
    {
      "cell_type": "markdown",
      "source": [
        "#### **PyG에서 Cora 데이터 세트 받기**"
      ],
      "metadata": {
        "id": "v4DkN4aBMjbG"
      }
    },
    {
      "cell_type": "markdown",
      "source": [
        "![image.png](data:image/png;base64,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)"
      ],
      "metadata": {
        "id": "65i2ySkLJTSo"
      }
    },
    {
      "cell_type": "code",
      "source": [
        "from torch_geometric.datasets import Planetoid\n",
        "cora_dataset = Planetoid(root='tmp/Cora', name='Cora')"
      ],
      "metadata": {
        "id": "WGm86P6G1y4W"
      },
      "execution_count": null,
      "outputs": []
    },
    {
      "cell_type": "code",
      "source": [
        "cora_dataset"
      ],
      "metadata": {
        "id": "ay5QRxUS10Xm"
      },
      "execution_count": null,
      "outputs": []
    },
    {
      "cell_type": "code",
      "source": [
        "cora_dataset.len()"
      ],
      "metadata": {
        "id": "-CtXrdOY24fg"
      },
      "execution_count": null,
      "outputs": []
    },
    {
      "cell_type": "code",
      "source": [
        "# number of graphs\n",
        "print(\"Number of graphs: \", len(cora_dataset))\n",
        "\n",
        "# number of features\n",
        "print(\"Number of features: \", cora_dataset.num_features)\n",
        "\n",
        "# number of classes\n",
        "print(\"Number of classes: \", cora_dataset.num_classes)"
      ],
      "metadata": {
        "id": "DeqRo7uB27Mb"
      },
      "execution_count": null,
      "outputs": []
    },
    {
      "cell_type": "code",
      "source": [
        "c_ds = cora_dataset[0]"
      ],
      "metadata": {
        "id": "VlDW-58w28iU"
      },
      "execution_count": null,
      "outputs": []
    },
    {
      "cell_type": "code",
      "source": [
        "c_ds"
      ],
      "metadata": {
        "id": "0JL9FOta3Kzh"
      },
      "execution_count": null,
      "outputs": []
    },
    {
      "cell_type": "code",
      "source": [
        "#https://pytorch-geometric.readthedocs.io/en/latest/notes/introduction.html"
      ],
      "metadata": {
        "id": "erCWA9szIGR3"
      },
      "execution_count": null,
      "outputs": []
    },
    {
      "cell_type": "markdown",
      "source": [
        "![image.png](data:image/png;base64,iVBORw0KGgoAAAANSUhEUgAAAtYAAAGzCAYAAAALwVCyAAAAAXNSR0IArs4c6QAAAARnQU1BAACxjwv8YQUAAAAJcEhZcwAADsMAAA7DAcdvqGQAAP+lSURBVHhe7L0PfFTVmf//WbMdy9dxqaEKUSH+CQqJ7Hcsu2PtBrAJKhmFBIH4wyQvNlBIlE20S1bq/KSO4o7FDaUmS03IQpZfCK4J1AyWDBYyXSQrZSrLtMiAMlASpBOgTKGMUqbG/M6599zJncn8TSaQ4PPmdci959577vn7nOec+5wzf/XFF1/0gCAIgiAIgiCIAXGd+EsQBEEQBEEQxAAgxZogCIIgCIIgEgAp1gRBEARBEASRAEixJgiCIAiCIIgEQIo1QRAEQRAEQSQAUqwJgiAIgiAIIgGQYk0QBEEQBEEQCYAUa4IgCIIgCIJIAKRYEwRBEARBEEQCGLRfXvRd8MInjvuigXakRhwPU3xeeC+xv0ksLdroafF5WX50s4MRWsRw+xXEC8fb9djzByDjsTJk3SG8LzjQvGkPur45BcVP6qAV3uh2w7HTAV/6FOjH+X2HP90euA664OFl+o2x0E9Mkf3j4ZIX7t+7cPKMXPM1t4xF2tiUIVbewXTAtnYbDmEMphTOg26k8CYIgiAIIm4GSbF2oHp6BSziLDQaJOuyUbyoGDkTk4VfYuBKLFdgNUnCYxBwv1OOorVOYGIZGqpzEVkNc8NSVoTqw0D60gZUze6H0jZo9MYtd9UulE0W3l0WlBdWwxmQPh/aV+XBtJMpjppMGN8yIesaUMS8+6vx9AoL3P6RYC4qd5VBJ86i4d5bj+q6Ztg7Qw0l2cDrvmyUPFOCnHuG4kBEaavpKNtUhdwxwpsgCIIgiLgZdFOQ1AdzkTtb5R7TI+02Povng8dhxeqyfOSbrOjgs7mJgCmEFXl5qHWIc2Jw8IX/HjGs8NhglpTqZGQursT6rS1oaSmJTan2utC83ICiFY2yUq3RIkWXJep6DvT3JDO12gfvR6yeP5OPosp2eMSjBEEQBEFcewy6Yq3LK0PZUpX7vhk1GxvQ8m4rGlbOQ9oIptu0r8bTy5hykwjl+lQnnOKQSDQaZC59E8aFxTD+h/GamK12726BnenE2rkmmJ7UIXWkNibTHm4SY3mxHLX7uUKdwvKlhtXpFjRUGkVdXwbzT5vQ+l4TqpZmIoUNJDWjxyKx32YIgiAIghhKXL3Fi0kapDxYgpoNsoLm+6gaz24YuErsOXVUHBGDgjYVWU8VIOuOa8O++vRJuc7pJ6ZJf2PFueFZVH/Elep0lNQ0wDQ7DdpQpkdJyUifbUJDSyvWF6UKT4IgCIIgrkWu/q4gN2ehvDwLfI7Q8/YGWMN8K/d1ueDYa4fd4YKbLzALw8ULfxRHUfB50XGYhcfCdHaKhYVXkxjjwxeFSosmFZTnouSLgj8fD3fA2x9rjm4fvDwOQQ9zu/YAP3af+5iDpceJjhheNOB4qWF5Ir/bAVdXbGV7YzwrDD1WbHibV1QN9N83Yd442Tsimr7hB5elz8PzgMXZ0zcDYqr/fEEtXzSsSq+v0ynVKccxd+x1PI465fO64XKIcouh/hEEQRDEtcygL14MWBAXlg40LliE+lNA6uL1WP9k78yee28tXjY3wxXQaWuQVmRGZaHOP0vo2lyKl9/z4NwpT4jdSFSL0S64YKl6GbW7maIhXZPRjMlEmdmEnFiUJEbCFi/GFR+Rr7cVY/2GHJyuM8K0xaV6ToOU2Sa8WarvO3t6itsSV8KmXmDHTRjKy5Cx3YjamBYvMvZXY/pyVrIB/kr6smB6txxjdlTi5bp21WJA9qrJZXjTnIvUoHh5HfUwrmyG80JA6pH6YDZ0Y4QyGrwzSTjC5CVGpCJr4Qso57PKwstRNR0V28RJMFHK1F/2I+ehqqkE6f1aJBtYlifXPAvzDhFv1ftjrf8cJV5ZK1phvLMNJmM12rtUOTEiDQWvVaL4PnVOqhYvbjQh5d0Y69QFB+pfMKLxk4CchuaeeTC9XAL9zcKDIAiCIL5CDJF9rFORoZeVqI7fHINXOvLBUZOPohVMqUAacpYaYV5phrmC22X74GqowLObO6Q7OTeMewB6/RTohCIauGgyAzdxzy4rKuaXonr3OYzSF2AZD2+lESXTmArT1Y7VpWa0yy+/MvQ3Pqf2YfWyQpjak5Er8sW4WLbjdb9jhHGbW9wo4EryYrOkVCfr+HuqUFNbyZ7RoWutrFQnhsNoemEhSjd0YWLhMlV5sdJkCvmzax2BCu/hWiysaITTl46CVevRwhcObqrBshmjmEJpheUdK/b87iJTCDVMvYuClymIpTwvWdrvyUGZkecly5elOaz28C3lSrGwyiHqFpA2YxkKWN3Qi/qivS+nt75kpuJG2TskJ48Jk6UH7++nUq3iVBfs75hg2nGODaZSkHIbcxNSMCrO+q+m89e1KC+tRtfkEjZo4fnA0qpLBi650Pi8ERY2gO1LJxorYqxT3WwgvKyCKdUsH2cvQ9UGVm4bqrCsSI+UkxZsag+qfwRBEATxFWGIzFirZgHVs4Wn2lG/W4MZT7IOW63AnGjEou/Vo4PPGG4tQbrw5igzkaHf64XznWZ0ZMwL2vrMi3ZzPkw2H/TLW2B+OLr9cO+sZTpyssZHUfx8OGqzwnkheMY63vj05mvywybUVGQiWZUv3t1m5K+0wReQL71b5CXPqsSG8qCZ37M2mJkCb2NxG/iMNaC5rxhVrxYgTf0Spbygh3GrWSx6VOIFZJlaYMxU56ASXqxbwPXmV8g0eu1YvcAI6wUtS2MTS2Pvu5T6Evs2iL1pTSttQM3cWJ4JhVKWbNDAZ5JXm1EQvB1fnPXfXyc1aZj3eiVKAmamvbBXFsK4wwsNqzstyzNFne1HnXJUw1BhgS/TiBZTVmBec3OTgQ42CIIgCGKYMkRmrFUc7sRpcYjbMlH8VJBSwbnjfui5cnbhEI52yV6xoUX67OIQ+wlroft7eYM1+2GX9DdmLjhhfccCS0QnK9V96W980lGwIFAB4mj1U5HJD3i+nJW82HE7Wvm+09ChmJsOyL693DwRGbeK4wSQUxSkVHPuyETWbfzAgUO/k3wY53DuUx6vNGSkBQ9LUpA6nv91ojPk7GoQnj1oYUo1U9FRvjhEGrV6PFXIVUIvLFvb2f+JIeI+6YotepDra+fsQ0rhsr5KNae/9X9GaZBSzdFCP3eeNBDy7T4AZ594xFGn2LOBBiAqIuUJQRAEQVzjDD3FeuI4jBaH4bkJYxKoDHK0yf2ceby7GDXchCGiq0Hx3eL+GOlXfEZoe00YFMXJdQh2/vfuB8CtAa4OGmj/hv9l6phfoRuFUVISO9H1B8lDBVNKJe03HeMkhTwKLidT2RkTM3D3CMmnDyn3PyDPrjsOIc6hU1giLgY8a4VxTh7yApwRVkU59ZOGGZnx7hbSz/o/dry8zsB3FB194hGGUHXqzgxIllvtZiysqIftmCf2hZEEQRAEcQ0zZBRrv91qClO45KNeLnXAabOgfu1qGJ8pQtGC51F/TFzrD90+eI45YN1cjWpzBQuPhbnKKi7GiUaLG/jexxHdDZF/1jqR8QnC3Sm2H0zldrtDCQ30hlwk81nk6lo4lN1g+G4itkpU2dgd+jxMieGXAN2nhK3x+NRek5Vgvq6V7ex9bnhCfj2IlRSkTpAL0/XJsfAztzfrkf+UYuOvR3jVWRP9F0ITVf+TFFt1NpiJcfOckCRnwfh6gbwHvaMR5pJ8GGbmoXyNBY64viARBEEQxLXF0FCsu504sFc+1H0rXXT+DL7Lw8oi1mkvQrm5Fla7G9oMPfR6HcaFmZmMBt9loTTPgPySClRvtePQpRQWHgvz3n7OWA+QoRafK4lGV4Y3lmdCe6wZFfnTMX06c48aUGS2wTu5BFXGrPh+UCWmX4PUhtr5Li7S75OMI4D292EPt8VcUgoyFyo/jJQf88+jBzAI9V9mDJKlLwj9R3tfMWpaWtGwqgzzHkxlueqFc3s1KgrzUb3/Sq4AJgiCIIihw5BQrN3batDMZxE1WcibJlQppmzXSrs8XIZ+aRWa3mtF08ZKGCVF5Slk9+NTuGenEYtWNKPz1lyYN7aidWsDalYuk5WfvH6pPgPiSsQn5TYxV+o+h3Py0dCh2w37Lju8TEkzV8q7eJhXVqKmieXFqnl9bbXDkDJOMsgGjnYg7H4Uf+xCJ/+ruRHaASmlfCbdgFxu4+yzoWn7IO2AMQj1Hxc8In+SMSrGvI0I/5GnybkoWbkeLe82wPgwb7seWP6zLXw5EARBEMQ1zFVXrL0f1eLlOm4GokH64mJkKkrPwTZYuB1oVjmMs9P7LKqKHw/2bLfzpWIoeKEM+tsGOG05YK5QfMalyTs5HN6Hw6FMILo/g+dP4vgK47VVo3q/D/pZudDr9NA/yJ0Oaclx5kVaBvT877F9vSYlQXT8linw7K9m2v1yfgyEEToUlOqlLyvOmmcHZ4Y24fWf5ff+92V7+4kPYKK0M0sCSUphUS1HFj8+plqATBAEQRBfIa6aYs1/Zc5WU4r855rh8gHJs8wwq7c762b38L8+Xx87Vs/uejRG2Xv5aKdqzkxaWHVZ/A1hMeB1obEhMTbNsXOF4jNGj+yJ/MCOmo29+zhLdHvQXmlEYyw7bwwCmhFaSTnlW+XlV5hRvZYp2txttsq/mhjiFwhDMjILhU/y2VIHql+xwB28kK6zGas3cjvsVBQ8qWwzNzCSHzbCPEvM0C7PR2mNPeAHcfywPHbZ9siLK+NhIPV/7x7YgwdRF+yor2tnBxpkzc0Ob4seCzxNjo6+u6ucPAopWroMxPcD8QRBEARxbTDoirV1FV9spXKFeTBMnw5DfinM0i+8aaBbXIMNS4O2SUu/H1mS1lWJihquaNmZs6LeWITCGh/SJWWxL6PHyvORzrrnYVxTjdXsfsNzTNliqoRO2n3BjeZXTGi28fDssL2zGqXzy7HnG7qBKRtxc6Xik4LcZ+ZJtsqebRXIX2jEaq68rjFiUV4+zJ55KBAmw1cazYOlqMjipe6Dx2Hr3Z5ww2oYV1SgNN8Aw/IQinII0gv/DSX3aeD7qBqL8sthVpR0cykMC2vh9GmQvvRVFNwhHhgwWujKN6BmqfwjKq4tRhQZDMgrZHWcDxKkRaj5MDzKlG6zBVyt10yeAl2sM8X9rP8SF6wwzS9i9b8elh0W1LOyLppvlGbA+QC2fNrA7ED4D8aUViyS6lL9DlW9XdbIanMycvMzA9syQRAEQXxFGHTF2udxw31K5bq8kjKdfJsOWaxjXr+1FZVPpvX9Ce4RmSh/vQDpTBFxbeGKlhHGlbU4cPNTqKozoWJ26JnHlFkvwDgtBRqfG/btFlgdF5GWkYLrmXKWOvdVGLOYMtvVjlozC4+FWfnuOTywYhNqTAuRdYV/hvmKxWdiCTb8tAyZY5ji2WmX993eeRKj51eiyTwPU+4Udu1XFC8cNc+isn0cSjbswq5du9CqbE+4qQaVFQXQsfTzX2ystsVgajEiFfNWb4KZ//qfz8kUPaGk2zqhuSMLZT9tivEHYOJBi7TZJjS8tR5G9t5UVle9XayO80GCzcHquwc+jRapDxbA+B8tkt14aqz23f2s/xIzTHizfCJO2xpRXVmNxu12uJNSkbU0xAC2H6TMrmQDiiyknLWjsVKut+a1VnTezPN5A8p0ifgmQBAEQRDDj0H65cXE4vPKP6yh0Wqjb02mcMkLry/MM/zHO+SLA17IlhCuZHykfNFAO/IqKz/i1/vGRfj1Qt9uMwwrbUhdvB7rnxSLMGMlUvkPJkpZchJUnrHWf/8vL86qxK5yefGr9CxTwbUR93vsP0rc+H7Xg/QKgiAIghg2DIldQaLBFQq+H3RcChLv6MM9k8QVyyugxMbKlYyPlC9DQAMStsOfffaZfB4C50d8qZ0Gd9/Wj5nmSOU/mChlmcDy7Ff9F0jPDqLGq8SNlGqCIAiCGCaKNXENMikbuTcD7oZylK6xwH7M7f/Z747Dsi2x8R2vbBOcSVobQRAEQRBDn2FhCkJco5y1o/ZfzbB8xM0VghiRiqyFL6B8Vgj7eyIkoUxBCIIgCIK4cpBiTVx9fF64T7pw8gxXr7UYnZ6G1KFgrjLcYPno5b8EOVTWDhAEQRDEVwxSrAmCIAiCIAgiAZCNNUEQBEEQBEEkAFKsCYIgCIIgCCIBkGJNEARBEARBEAmAFGuCIAiCIAiCSACkWBMEQRAEQRBEAiDFmiAIgiAIgiASACnWBEEQBEEQBJEASLEmCIIgCIIgiARAijVBEARBEARBJABSrAmCIAiCIAgiAZBiTRAEQRAEQRAJgBRrgiAIgiAIgkgApFgTBEEQBEEQRAIgxZogCIIgCIIgEgAp1gRBEARBEASRAEixJgiCIAiCIIgEQIo1QRAEQRAEQSQAUqwJgiAIgiAIIgGQYk0QBEEQBEEQCYAUa4IgCIIgCIJIAKRYEwRBEARBEEQCIMWaIAiCIAiCIBIAKdYEQRAEQRAEkQBIsSYIgiAIgiCIBECKNUEQBEEQBEEkAFKsCYIgCIIgCCIBkGJNEARBEARBEAmAFGuCIAiCIAiCSACkWBMEQRAEQRBEAiDFmiAIgiAIgiASACnWBEEQwZx1w9Mtjoc43i4PfOKY+AozjOqsRLcbbo84JohriEFXrD3H7LDvdcB9SXgMSTywriyCaUc8rdwL5zvVqN/tFufDgI/qUbTABOtZcX6tcNYK04Ii1H8kzqPiRD27P77yjhPWabRvqIblI6/wSBCDFe6AkNtP0QanOO8nLG02sxGr2692m/LAtmYRjO/0Px7ODSw/VlpZSIPMBRsqF/4Lmk+I81BI7b6e1XoiMrH0A0NV7g+8zsZGgto6w7XpWSyqaWc52h88cO1luoXDPbBB5aDI0yvQvwwaV08X8p1yMF2R64u9znFsAHnY7YP7sA0WVr7Va5nbbB1YeHEwuIp1txPNzxthXFGB6vahpAgEcxm+M2y0f+myOI8Brx1Nay1orNkBl/Aa8lz2wn3KA1+EWQ3X5tI4FNQhAmtAnlNueGMuPh+87P64yjteju1A1WYLqrfY+9lxhGGwwh0Qcvtxe+Po4i60Y3Ww4umxo8Vmh7X18NVN20fNqHJkovCxFOERPz4vy48zPpYzg8zILBTPBxo3R1BQpHbvHfisdqgyu6aIoR9Q5H5DOzqE18BxofGZAQ58ElBnY6MfbT0MaXPKkdleD0ukQWE4WHorVjDdoqIa7ReEX38YFHl6BfqXQePq6ULn7BuYrmhCZQ1TgiVXCWNJPgyFq9Ee52Sg9xNWP/IMKCqrRD3rU+x25lpr+x1evAyuYn14D6wX9MjK0sK+a8+1JZC1Waj4jyrUrC1GmvAa/nhwyO6KQ0ElwnJPMd6orkKDMQta4ZUQBivcK83vDqAtWPG8OReVLS1oXXk10+ZD+3YLMDsPmSOE1xAn9eFZSLO1YM9gC9hQZfZVQ5H7r89DqvAaMGcPYd8nAxn4DL86K6HNhGGGG8074h9SONut8OqzkDXSjta9A6j414o8vZokVBfKgXFjAxok14TWrWbkdFthqoxjQH+CKdXP1cKZXoKara1o2STC28T6lqYqlKSzFpMk7h0kBlGxlhu7Vz8d5bNzoN2/BW2d4lIUfF4vvBeYoAmeWe1mI0FF+vj4PYGiSHmuz2Ca3esPS3ouxD0qwr4/CM03x2FMsCDjceThRzF98YWKwyXmF+wZJbyocY0hvb10oeukOAwFj18MaZNQ53lwuqLlkXI9qHwDiCWfYwknDD5VfKWyChdGhHeMunUcbhTH0n3KLUrd5X4hCoaXaZ/y5M+ItAaEqxClnGOt0zycsOXGiDkcjj9v+t7vPRv6E65Gq4UmhNBT3hsqfTGXVZQ8kuh24sBuDXIymfRVE0Ndipo3MYThb2NhkxDiHWP0yJ7owJ79Mcy5KXHoR9vrU2bSvSEiytLQJw/4vcGJipLWSHEJKPN46iRHeW8UORYu3JByn9Hv8v9DF8J2jf2sszG3CYYS70jviBYGJ1r6Q4Wh+4cc+HbuiW+2/lI7WrZ5of9uOfJmaOHY0hbb14MweRlWTivlFa6eRKu/wUSoz+EIm6fqeErpCgwzbJmq5XsMdStqnRYEt4kBtU81I/WYO4ep6/v3wOHh+RcmsrwspHJyw7K6Fq5bi/GmeR7SRkpXe0lOR65xGbKSxfkg8VdffPFFjzhOLB4rKvKrkWxqgTGTjUq/twiNf1eFltKgDkuN14n65yvQfHoURmkv49xZH0bdLFf5rH9pQPHlakyvSkZluQfm5RY2gklH2aYq5PqsMJuqYesUma5JQWbF6zBlyZ/F3O+Uo+hwDirvboOxziE6Bw105etROYvfwwqjrAhtf7cM9++rRuMn4o4xmaioNCFrjHQahPxM9fhK7CrXyT7bKrCoysmeGwXNBTe8Y4tR9ZMCpGmkyyocqJ5egaNLG1A1u/fTnaNqOiqOlqGhOhdSrCKFd9aO2pdMaD6pRQqrJOfOXg/991maH1bC88K5sQIVDS5WmVKgvXQO49LT4NgPOc+C08TtMF9qhltdcWeJtHV3wGp+EdXchmokG9ezezT6YlQaWcUNM8yX8vw32TDevAWV78gdcjILb8OcDphKq+GQGoEGKbPNeHOpzj9b0LHDhBer2uFO0kLbzRrjCD2KXzNi3j29L3LvNOH5Ne04NyIFo3AOSOMNzwn9ql0omyzf47HXwriyGZ3innMaPSpWsbK8jV8Nnf+98OuroV1ZAs9aM6xdSn3IhbmmDDoeFRY3xyYjTG87/YJJcw/Lk9UFSJcETNA79oeou69PwbbnG6GvbkHJRCkINraxoLywGpqKJlTOUFq/E7VzytFR2gLzw66guLN4rH0axnfOQXvbKPjOnsONmUa8YcyE9HTUehKI3FbyUDOxBeVrnazcclG5i6U5Yjh920LHDjNeWWtDh+iUetsSt+ErZXUp/IK7dHW5XHCg/gUja5OAlglJ7wUg9TEj/q2cpU9SwEVZGYvRsaES7UpZBZRFlDxSc6IRRd/rQtl7y6AXCn7kusQQcovHMfk2LbyecUi/w8Fi1tuWvax9VbzQjK6Ro3Cjj4XRzWUcfzgLL2wsRrrXBcual1G796Ik8y6yOI55shKVC9LltuFl6Sw1wnKB5f9IH855bkTm8jdgnCanwFmXh/JLJn/+B8Dr3nIflpk1sJgscElZ1LfthU9nqDJj9fc/8nHoGRO83+f1UoTSzeI5swJts9Sy3gubMQ9VdzK/xcwvWloZkfNcrm+HZpiRst0Uo7xmRJVjSj9gRPbvalDdLubIRuhQVlOJXNW71XU9FlnseqcSL9fJMkvrY7J8JIsrS8+Y94pg3MLOVY0hV5JjA6mzsbQJRtS2xThlg2k5C8PD6gtPG9KQluSAc3Ic6T9lQQWT+U7WL49KOgf3pXEoXl2FgntYR3bBBuOcFjwQqk8Kg2dHBfKZLDVtNSLzbDMWLWQy9CdMht4nbuhDpLwMJae1MBZ2oJ71MW7RVtIWVKKqKJ0dMaS1IM+j0n4Zo5Kvl+qv5uZRuJ5dunv+GzDN6AyS0THIkGCGtS7Uv/YpxW3teLm/EX4c2Z+VSaMBvyo2wVOu7hsZbKBlnmMGjEzXvL2ZtYV6jF2ukklXA65YD4Y71rig56HctT2/vSyfn/n5cz0PPfJKz39f7Huv4n7774/3PPLKL3rOi2e+6Hir55mHFvRsdH4un+9b0/PQQ4/3PPHcmp4Pjp/vOX9O9j9peaXnleYj/udO/tczAe862czOH3qk57nmYz2fi3uOsXseeeiZnq2f8vOTPVuffqjnoXkv9mx1npeuf3H5SE/dPz7U88iPP5TP+zjxjHLdvZXFdX5PnVNcv3y+59jBYz3nA55R3Ic9ax56qOeZ5pMB/h/+mIX39Naek/w8UniXj/VsZHF74scfqPKK3f/IEz1rD8rn59tekdJXp6SHuWONPB+UNIdycrzW7FP7ne/571ceYfGq6zlyTvix97/1T4/0PPL8L3rO+O8LdHKeP9Gz5gPx/nO/6HnlEfZM7vM974r3n9+zqudxVp4R48zL6ZHne35xRj7/wrWxZwF75hVrb97J4ajiLd2jejdzPD6PzFPqY+j873Xy9Uf+H1bPlPee+6BnzbyHeh5n5f05P7/4Yc/aF9b2fKDk5fkPelblPtSzoPFYQBj+d4Ssu6wcCx7qmV+vPCPH8/Hcx3seWvZub94eXMvSx/JAyv+gcD9cw/LsRXGNucsne37rPCOOo9eTYCeVG3v/917c2vPbT1k8z7N4Rg0nqC2w83dfeUXVlk72vMWuP/Kv/y3nnfIepa77XVDaxHsfZzLhpPJeUQ5PvPnbgGceWcTyVSkLqa7FmEfBjpfTord64xW1LoVpHzw/lPRd/m3P2txHel75hSoMLqP+cWPPkc97w3jkn97qOaak8zxL17xHep63yvH88A32jhdVsvHT3/YccYtj5s5bnw+Rn8JJde+RnvlvfNBzRjx//oM1PU8wv1f+W8jWqOkMVWafs3izdL7SW678XY+w+vO4Svbz8nje386jpzV6XPojr2ORYyLcnOd6trpEvoh7HvpHFl/1Pcp7orYNRa4FpWffBz1Hzov7pfJZ0/OhuCa5gdTZWNpELG0rzD1czsWe/jM9W/+Jybh1R+RrzJ13/bbnmJL2L3jbCO5zIjlWHjxO/660/zM97y4LlC19XMS8DJI5oq18j7UVJc3nfyH3S0q/Keky/8jqkZJeIftfsSrlGxRmDG0r2A1rXahfYShxC2oHou9Q2h/Pl962KDupPBR5I+XL93re6ui9fjXc4JiCdDuxo6kD2hlTkC5Gvsn6bOh8NrSGXcTowdEjXqRNnAitMlq+bTzGowOei+op31HI/acy6Mdp2Shb9k9ho2zj7DT/cymZ2Uj3deGcelHDxBIsm53q/8ycOrsQ2XCizd5ruZOeX4JcZWY0KQ1Z01LgO9rBxl8x4POx0d9FeM6J9CVpkToxtf92W5HCc2xD44kslC/Wq/IqF4VZHljb+Uc1L+zv2eDLykeBaqY3NW28OIqDs21osgG5/1jc+1klKRXzvpcLjb0e1kgLTyYWYK5evH/kRGTczdL0YB5yxIhV+2A2KwMvDh3lZeBB2zvsRbMWolgd59mlyB1hR/12+WOfc2czOm6bhwLVjKv2zjSME8ccx7ZGdGSVo0R5NyNlFivvs1bs+UR4xEDO91k9UwbG4pOUd4f4bDlCh5KVJdAro2+tHtnTgI7TfxQeoQiuu6nInJ4Ct90h6pgbdpsL+gXF0PNPX6L+dnzYDu/kKdAp+a9Gqiee3rqelIL0e0Sko9aTMFzSo7AiF+ljWDy1LJ5xh5OCHKNR1ZZSkJmVDt+n53BO9omNg/y96ShemIUU5b2sHAoW6OB5uwXtqk+0OUtYviplMTITUzNZXTl5Wj6PlEdBuDuPAppeeRO1Ll2wo9XmQ9bcgoD2MV7d1DxHcehCGjLSVWHcyW444YGXv6qLt7FRKHhuHlKVdGp1rL6Ng/2XDtZCWBIu+YBzqvwbk460m8UxQ5vc2x5Ck4NlS/X+mUitfi4KJvrQ/hu5/PrXZjTQ/0MW0H4ATvGZ1/E/VqTkF7O39T7nc/wK9pE5mHIPO4khrbHGJS55HYccS1+4DLl3iDrA7ynKgeYEa4+hFjxFbRuKXDOiTJ2eyfqwX/skBlBnFSK2iVja1ic70HwiBfOeUt8zFmm3imNO1PRfZnUXuOhhdV3UEe0d6Uj1p/0mjFGHF42PdrD3aZEzTfkakowHvquDb2crwi5ijCMvZXJQytqKkmbtg1ORyaR+5yn5vPMYS9ff3o80Jb1aOU+6vBeFRyDxt61hrgsJ+heGA018Bw/JmVGevwi1x9JR9rK8piHdUIDUE43Y4d9goQNtWxxIL5wl6Zq+S7wMNCHMCTtg84fL3M7ELT0OxeAo1tKixWTk/P04ybZGckk6ZD+ICIsYk6F7MBVO2w64RCXw2vdgjyYL9wdYj+iQcYc4VNPNms4xB1NMLKjf1BbeZk0hiTWGiYDrZPg7NdqbxFEM3MYa4+wb0bYiD4aFRtS+w5Sl/tgUKUQIjwtSH2wwzZyO6dN7nXEHlyH8s4sLh+ysEk68W/50NRA6O1mTY4pr8CerseORzpqIJy5NiRGiA0A3Xw7ViU7WWNLGjpb9FJLGYfy9LM1/5AqrG0d/y7reyRkRFg650XGU5YHNBIMqb6Y/amRdPROwA1h5lXJnBsvgo+hQd7CXOuDca4d1czWaHMIvLH3rbuqUGUg53AZ7FzvxOLDnGOsAH87GdL0du+xczXDDYXdD990H+n4C5kx+CmWTXahdaEDec2Y02jr8HVj0ehKGuzNwt6rT73c4Pg9cDjts79Rj8+4YF1iocP+Ov3c8UoM+HSanjmcDzKDOIgANGxCIQ06EPIpMDHXJdQh21hIy7o3Q0m7WYcodrON6zyW/t5sNfP9nDzQP38+eZJzibcyN+u+p3sFcUY0L+PwiexOgn18G3YlaLJqZh3JzI2wnxIC736SAZSN8R3hH1/82o9FPRZaPKQi87nc7sW93CmY8mAtWrf2DLudv2qF9WEyyRE3rAOISSV4PRI7dNo49yRSrEFU4etsII9ei0e86G47ANhFL23IfOcQGOvrQ/a0gevrZIHtJLm60GZGXtwjGGgscXNb1E2nR4s05eOBWoVcwp5mUzWIZYRHjQPNyhDZgTUv6/82EZncrbEo6OtvRdiwVUyaHGtz2pz4Pc10oDLGF4YaL7+DBXMeFG3F/oRkNLVXCDIsxLgfFWT5YNttkPZIPtH6fhfwZct5rtDeymu5CZ586xpRtyQTKh6MsXyyHI02ADZxBUKzFokWWiPY1T+PpcsU9j82/00ITYRFj6txXUZbUjPJCA6t8BhSuu4iCn5RHXens2b0ai/LzYXr7ACuWFGRMTO27uCsEvN1rQil6/UIL3dIGtDbVoGK6Foc2GVFUqNgS94fw4V3POygNt33dhV1BrnVpCBvLwcB3UZpdGnx8uPi5OIyJ65mgYNkzu7JP3uza1YqygWQPE1i8XG7kVcbrQrMxD3lLa2H93TmMuvMBZKhmEGPmjkzMuI0pJAe98Njb4Jw2FXomyHVTdbD/2gFflx1th9mg1D91HkRSCnJXtaJ1oxnFE7zSXrb5yyysHSSunsQdTreHtf1FyJtvQtP/spiMyUB6aiwtMkYusw5JHMZEhDwKJmUc1zaV0BNVl1Ix7+Uy4O1y5HMFZGYhar0FqFrKOmh+mb+D20i+FfwO5n6SKw+obuM7prSiYWUxMi7ZUPm9fJRv602B59RRcRQ7st4zCpJ1aH/TOUKPqayja/tfpkTzCZWbZkA/jikfD+ZIM9kd3WywuEO1sC5qWgex/YYiFjnG2r2P9SvJo8S5ikGTxf2uswMkzrYVS/q1k8vQ8G4Tar6fBe2RehgL81HtUN5yGp3HxGE0xKJFTXc7Vvv1CuaMm3FypCb8IsY48jIWNJkVMGXaUbmY6ynTYajYhwzTv2Ge+rOpn/7V5+GtCw2E3l1BKo1lKJ6tQ0pAtLTInMW/MjUyPVLshjNLtRvOvfcjU8Pk0a/kQX0vKchcWIaypU8h+1bhNYgkXrH2tKFlpw/68g1iyxS1MyN3ZAcaW4MTLePdXYvab1Sg6d1WqdK1/Ifqc3I4WGOrWbUH6cs3ocpYjNwsPfST0xB1bORxYB9r0Pp7ErxZXnIasp4yompjBTLPWrAnZFLZ6CnUZ/1QhAgveXwGtD4HjoYdYI7DuPv4CFR89hsIaRnQw4lDHweJ29N8JXt63xmgfpOGDD3gPHwsULB3yzuVpEszPilIncBaWcTPSckYn6GF78DR0EJ2ADj/dw9TcDJwNyu7ju2vofZiAd6sM2PZUznQP6hHRr/yIhX3Z2qZEt2GPe87kfkPeknZkkynbO/DuncfnBOnQBfpyyVDc5sOuaVmrF9dgFEfyTPg0etJbMQbjm9vDczt6UxAVsG4MBdZLG90d8Q/45Eygb0XdhwKMjfydHXApxmP1DgHMqHyqA+jkpFyrBMnpRmtGOrSuHGsFbj8n4lDwzrzulokVzShtZV1qK0tWG/M7TUFuDMDOv6VKbiNBZOkQcrkXJSsXI+qolFw7rT720HXaVY441NZC4kRvpPEXlb77h7L6ttA2owGur/Xw8uUaMteK0Y9rJe/JrE6m+PdgfZt+9CGbDygLM6NmtZBar8DkGOeg/vg0kxEaohJ5+htI4xci5H462xsxNK2uLmSBqwcQr1TELNsSEpGWlYBjD/ZhIpMDyxM1klc8MDti60f8exugc2nR0VdsF7B3Mu50AaYCPQlpryMhU8aUWnPRZWkp7ABRFMlSsJNfPSzPl8TutBgcd8MFNzB9MhNlWjdmYICg2oaf0QmCuanwrulBs0D7PcGQsIV646dW+DQZMHAlIU+JKVjRj5L9LZA+8gA2itRWFiEomeMWM1tYTbb0BH2ky+DDbW8zF1WwuMrdjdtYaI7iMON2KJ8KvKxe+rq4bh5HvIyEzRK8zph3eH0/6Ss9+NDTIwzZStkXeXCVgPn9m2yHW23D+691ajZqYpLpPAmzkLxfW7U/2uttAWNhMcF65oKNB7mJ8mYMkMH37YNqD8sp9l3ysby0yopbdE46mIigOWjq9Mr2eblz06GraYStlPKuxyo/XGzZMOdHfQpsf+wkWh+LpJtVai0ueWtebo9cNStRvOlLOQLm2rdNCZAD9ejfqe4x+NEc1V9QHmnzyxG+u/r8VqdA/7sOWbF6opGvy1oLFgbmtGhPM/qT802NmAszJEUh8/+dI4Jst7ZHb4h/aad4iRO0jP5dpQsTY5MTJ0sSij5AWRPbkdtnR3pTECGVZhOtTOFRuQFw33oAM6NzMB4Xi5R60mMxBmOj2+3dulyryLRZcPmrX1aJPB7F06y+u890RH6p5il955D409YuSlN94QFlaxcU+fPgo7PlsVCpDwKZixTwDR7cEDYPkatSzczBXKyD5b/rJfjyNuybTWq1W1Z0F5ZiKIFRShdwa4z2eb/JC21MS1sfAeaY+IlTEY5NhphtskJd++2wK60P9Y2Dx04B+3fjhf1QjaR0k+M1DFasWELU5r4+1i7cm6ugeWSHgUPy0ZVMbeZEGWm1U+H/lQz6neMwowHhZEWk/VTHr6IxjoLfDPYwFApqxjSmqj2G0AccszZtAWKuSmXmzUbHUgOt0d01LYRRq6x9Nb6Z205R2XltMuFDj6FPoA6GxOxtK1J2cgd6UT9Bpu8OwavN29Xo149wxw1/V44d1j97+Bf+g59zJQ4pa66DsGhpIvVa8sK1j5YHNQ5IyPb0moeNiAz1KSUpGx5Ydne3vfZePIyVs42ojyf6SkLKmDmesqG8CYu/a7Pw1UXGnRSkT1XB6/NBvvkucgO+lKQ+tSrMGZ2oba0CMaNNri6FLOhDjje2czkjrhxEEmsYi0WLYYVQozUhwuYemjDrr19P8BdZJUsbVoxypeWoawoD+lsqHWRVa5F883hFXEmMAsXjEP7ynzkFTK3oBYXZy3DvODZrLunIPlX/yLbORmKUNmRDXNViX9x5YBhykTnDiMKHzUgbw5zpkPINlcgK+TMtAaZi43I+bMFFXO4vVUeXv7NAyhfqOoYI4aXgtxXq1CSaocxX/4cNb2wgnWdTOjwBUKM5IeNMD32GZrL8qXref/agWxT4DY2fUlHdlEaXHWLWJwW4eUWJxOLGuhKa2Ce1oUq8elrer4RByaZsH55Jus2EodGV4Yacza61i6C4VGeL/kw/jYdpjoj/OO0+wpQuTgd9jVF0j2G8iZoS02sAxDXOXxbvJ+UYNxeI/INLBwW58LnrWCjvbjKW38/UDtfTnP+sh1IXlwF48PyzET6zHJk/rkRi/LyUTQnDxW2VJSWi0/78cJn91hO+yQzEOHHBkcPfDedyUpWJg+Gn4f0fnYOh1h5GWbmIW/mdCzamoyS1wpYSXKi15PYiC8cbWYhiu9ohyk/D0Xc1V1E7vfnsRT1kvIgkxEaK4ys/ueVrcaekDO+4r232FCRL5ej4ZktwJwqvFEU3so+mMh5FARTCO+f5oN1t5hRi1qXkpFTYULOZ82so2XXeVs+mY0fqs0Aui+ycNOQuaAcZaVlWGhIZ09dxB7+SbqSKwJKG/Ogtkzkr2ERql0ZMEzmuebFZ55DrKMwwMDqmoG1zS2jSlA5X6Sgsx3bDuswZXKE1qjJQbamVjZFYe2qokWL4p8Ye/dzjaHNhC2zkXpM17OOS5iBKPABo4YpEjn/oJY60dLKSFD7DSR2OZZuGIcDFfI9hgWVOKY3oWZhyNrCiN42uFx7Y7kOx4TMmv5oIapPsYGzsg9rejYK7uY2wOzawpexzcnyciB1NiZiaFss3ILXWB+5vxJFvBxmPoumkSUwsYFRL1HSzwaa3hOszhSy8HndzTPi0DQzKrJ4GD6077IyZXmKnC7fMRza70Yn/3Vgfq5GWrSYjNxZ4WQsU7ae1AM7dyF4f4S48jIG+NaIY+7LRdn3mZ5Smo9v36qFz7WFpXFR6FnSftTnYa0LXQGSM1n9YjUha2Z2QL8ikZSCLFMTGlZkAXuqUF7Iyp3Vvbw5i2Dc5MQ41qYbBmKmFQODt491vJy1oHx+G7KD97OU9vVl/m8x/0iffnkD9mmgDaHQS/sg2rLlPWUle7lQq0YTRIR4hITP7mlC/yiGRAzh8VXXsmF+CPqTXr6JfFKYH+q4xEIbcQVGtmzk7UuKHG92S8i1kAH0q7zlvU2h7Isd4UV883u+uCW+8AcBvtk/Uw/4Jh7hiFhP4iDmcKLVbQb/IQFNpEirGHD8Y8gjiY9qkff8OVTwfXLV74tWl8LUE8+2cuTvFPJH+HEkubQ7G02KHbUgUhsLVd+cNWxgd6ECLUxBjCUno7abKOmMp8yiEVWe9Kv9RicmORYyo0LsY60iah2NKEtC5OtA62yMDCTeaiKF4+P7hovdKySk37rYggc2rO+1Tx6k8paINS8jwvoGA+sbVvb+ZoIM7zOMQGWUdQCxpO9a0YUGEc9OIwrfvh9v/kdsv4DKf5yIr969UmkdnF1B+kPyeGTc7IJ1K18NyhoAd50ONNc0omvWQmRHqkgcpoTFpMxGUdYGTKzxUIimlMUQXkSB2J/0RlCGrohSzWFCPFq8Y5DziSnvCC8K90uBVxxWZtE6jAEppSpiDieGAUc8CtqA4x9DHkncNw/lunZs2h5kyR+tLoWpJ9wONfmYFVv2dvh3MujY34zapi7kFvWdcYnUxvrUN68NTVtGoeDJ2L+WRG03UdKZKKWaE1WeJKL9hiAmORacUVwx6zyMQ7+HWPPRl6h1NKIsCXFtoHU2RgYSbzWRwglQqhmud+vhzCpGjvpT/iCVt0SseRmRccjQabDnXQuciolBlwu2tTWw3leCuZPEbeGIJX3Xii40aHSg7W070udmx6RUczQjr2w/PXRmrDkXWGXaUIPN+1045wFG3ZwG3fxSlDzcuy9jf/DsMOHZXz+AN1bk9P1sQBB9cKJ+wWsA/4WrsL/mRVzT8J/hZQODgcgdNd5PrKhdtxmO3/G9qEdh1J06PLWkBDnRFiTFAut4fbzjEKfE4ODZYUTphpNI1hXjpeWqvZ2HCgmus4NON4vvJRbfBDSBK0q3G/ZN1dhg44uWvdDy7RizFqKssHfv6wFDulBYfI5aPL0OKFtdAt1AJ1sGiaGlWBMEQRAEQRDEMGXomIIQBEEQBEEQxDCGFGuCIAiCIAiCSACkWBMEQRAEQRBEAiDFmiAIgiAIgiASACnWBEEQBEEQBJEASLEmCIIgCIIgiARA2+0RxBDG95e/oLu7W3IEMZRISkqSnOZrXxM+BEEQBCnWBDEE+fLLL3HZ5yOFmhjycOX6eo0G111HH0AJgiASLwm73WjfUA3LR17hMVA8sK4sQtEGpzi/CpxqR/1aC5wiSfzXi4pWWlnMEk20tPJfBCxC/UfidKgSlF9ECC50wLa5GtVr69HeJfxUkFJNDBd4PeX1dVD4qB5FC+qZ5ItAXPJGlrGmHfFI7/48E4pY+rJB6O9iycP+wvp7xzv1TI6xPv9wjHVAio8J1rPyqdSfDlb8FK6RPsn7kQXVG9rhFl3D4OkiiWc4xXWgJF6xPrYDVZtZ4W+xIzF1+DJ8Z9xwewdJcMeAa1cVGt+pRpNdTtHlSx64z/hYzBJNtLT64D3lhjfxL04owfk1cFxofGaQBe+VxOtAdeki1PyvBuMm3o+7Rwp/gWL+QRDDBV5feb1NOJe9cJ/yMskXnvjkjSxjPZfiEaL9eSYUsfRlA+zvLrRjdbDyEkMe9gumVFuWLYJxRweS734AGaNj/FF9KT4e+ISIk/rTwYifisT3Sf3Du3t13wHaJ40ojWkg5YV9CxvAbK7CjmOyT+J0kcHvYwdPbxp6JF6xvqcYb1RXocGYBa3wGu6kFb6BquoGGKddKykaXBKeX2cPYd8ngyt4ryTevU2wXMiFcVUJcrN0SBkhLghIqb7yHKzJRV7ucrSeER5E3FytekvyWcXvDqDtSikvn2xD/UdpKHnZhIIZeqQlC/8hyFCpI66P2voM0Lwdh+CKaSClRdb316OqtgbF9wivRHGN9bFXm0Exiht16zjcKI4VfF4vvBdYwcUoe33sXu+FCMXc7ZPCC3uPcv2SOA/mkhyfgOv8GSU4nzrsURh3a3CKBNJ9zIWLqhKPCA0nalrD0Oc56V1hwuHpDZcXnFD5wVHnSbQ89ROUXyyP/OUeJb9C5sUfutApDvugxClEun2ql0TLY6V+hoxXDGUYTKTwLrJruHscRicJjyDCKygHsS43Fz/4+WlxPhicRuvzTMmsOSjOhxenf76cKci1LKeGAGda8QNWXusc4jwS8dwbEbmO5KlcrGEONO+iKtZcxgS3B962QjQS3n769BVh5U8Y+RxBNijE2y9xoj4TTpZGIGofEK2fEXjPuiMrR2HzUBBDnvn5nN2L8UgdI87VxBNOOMLlY7/q0QD6pHjrSNi0e+E51fcl57pOiiMVPAzlVil+4mQES8c3wwwOwqWD51ewp4ijP02R+lhGtDyIW4cJEVfpHaGCCI7rMGAQFGsHaufkwbjdLZ/yz96FBhjmL8TTSwuRN7MI5t0RrGxO2WCS7i9k9+fDULgabX8S1wQeey1K8wzIX/w0nl6cx+4xwXZKXGS4t1XA8GgeCpc+jYX502F4phEupcC8LlhWFsEwM59dX4j8mQYUrbTJNkuOWuQtboRjfzXyDXnIm1MBC7d/5f5zjH6bMBkPDr9jEvcxZzCgYptIs4QXLna9aKYcj6cXsHjyTy3qL1ExpDUUvi47qkvYc/y9c9jfwmo4eLg+O6rms3gEf2q61A7znHxU7Q9Ray84UP8cixuLp5QOlh+lDc5e4SzlST1sO3laDKHvCSYov9zbjTCsssK+sRQGJb/yimCyqfLrlAUVM6cjb6FcptNnlqLxEx+cG4qQt6yZ5Sa7Pn06pjNXvZ/d3+2FY2O5FBcpPJ4PrJydfiHM6mHeItTbRB6HvIdx1o7aZ5h/Xj4WsvqZz8qxdKOTvY8TQxkGw/NThFe4MF+qF4vWtMMjCQUPLM9NR9FaJ3C4GkVSesrlOkZcVSaVWtBiWQXDLcJjmDNh8TqWHpamlw1ofSkRCvvA6dj2LPLm1wZ8buayOi+PyQq1yDpci/w8M9r97cyHo5HkTx/5rLRb1kcwebKQt/+gPgJ/UtqpkEcL2PVo7TDaM90dkn00l6X5C5ks4fE1NsMVSV5E7QOYnFvLwjQw+VT+NApZv1dkZvJEXO2F22bnI3+VPYxsiZKHjGj9qhrHWgOmL7ewoyC5zOjgtrT8PYWFKGT9kYGVTfMnkTIhiCj52K961J8+yeuUyjtvAcuP8oUsz/JQtKBIciHXOUXqk85aYcrPh5kVj5OVJ88vxS3ayN7J4i+fs76chyX1u311ER7vvDm18j1+Iusijjrm94IVau1EnR9h+1iO0j9y/U3KA5ZHO6P32+EJH1f3dlGuQQp0x5anWfxY/MNMRA1J+K4giXUf9qx56KGeZ5pPSucfvvFIz0Mv/qLn/GVx/dPf9hxxq+9XucvHejb+40M9j7/yi56Tyv3nPuhZlftQz0M//lA+d23sWfDQEz1rPjjvf+5k8zM9j8xb2/Nb/ox7a88zD83vqXOK5y+f7zl28FjPeene8z3//QqLz7w1PR+cU66f7PlwzxH5+r41PQ899HjPE8+x68fP95w/97l8j+T/TM/WT+Vn+PseeuiRnueaj/V8LuJ57L9YHB5a0PPWcfn8fNsrPY888oz/nL/7wx8/0fPI87/oOcPPY0lrHyfn7SP/D4vfGeHHnlkzj/n963/3fM7Of/vvj/c89I9v9RxTPXfm58/1PJQr8kflz93nH67tef7fP/DH4fwHq3oeV6VDTvsjPd97Q3XPL1jaVPnRx4XMryd6Xmxm+SzCOLJ+Qc9Dj6zp+VA6P9Oz9Z8e6pm/7og/jPOu3/YcOy8fy+Gxe8U1yV38sGftC2t7PlDicF7OuwWNx8Q9Iq8WsbxS7jn3i55XHumtm0oZPPJPLL+UvDl3pOeDD89Ix1HLMNiFKVNePk+8+Vv/fSf/63t906Ny5y9c6OP2rGL1gqUnwJW81fOxdP2Tns0lKv9V7eK59p7X2Xnpqtd7Svtc672uPFfa+AnzE2GxZ/zXAp4J5wLDkpwSv6Nv9b7/odKezUd7n/u4sVT1zOs9e7j/7tfZs6XiGRYPkfbXd4vn+PXgZwLe0evkZyLkQ4S4hY1fRBdUFsyp49Drr7yr7/2SE/ELLne5jNTvC3Yirf77lPLk4YWJQ8S8iy8Ooeqz3zHZPZ/J5o0uxe9kz9anH+95nLXb534utznufvsmk2GsjfXK5CjyJ0jeSO02uI/Y90HPEUme8HeydMx7sWerU1y/fKSnjsuBsHI3lmdE3/J0Xc8Rf99yrOetf3pEJS9EOMozsfQBH65haXmx5xeq/uq3zt68CnaSrH16a89JtX8seRitXxV+AY71Fep8507O+2dY/9sbjtQ3PvJ8zy+UPitk/6DIwxjysd/1KPidkfokuS99hJWNX3fpeIvpFgt6NjqFXhDsovZJcvn7+x/hPvyxqrwVJ8W3ry4SmFfKeWRdRAo/ZJ1QlZ10HtQnifr5xI8/UOUB068eeaJn7UF+HqXfDnJR43rm3Z7n2PVX/luVv5d/27M2qFyHgxsUUxA1vkts9HLuHM6Jc4xJR9rN4jiYT3ag+UQK5j2VhRRldDJyLNJuFccMx7ZGdGSVo0Tf+zkkZVYhstmIcM8n7MTnY6Pwi/CcE8PbJC1SJ6bK9t5n29BkA3IryqBXFowlpUD3YJrKHnwUcv+JXR+nhXZkhMUYE0uwbHYqNCKeqbMXIkfTgT0OPmR2o22LDaPmL8O8cfJ1bh+lmzMP4+y74LjATmNIazhyvs/ip9izjdRjbn46fLsPSCP4dEMBUk80Yod/RN3B4uJAeuEspIcY8Wl0JTCX6v1x0Oqzkc2e6QqYnc9B6VLVPQ9ORSZ7W2eY2YyQTCxAyWyWzyKMtGks3b6j6JDec5nVE+CixwOvGK1q70hHaiRzuBE6lKwsgV75DKnVI3saS+3pPwoPmZwlLK+Ue0ZmYmomG6GfFKYUB7eh8UQ6Sn4wD6n+MkiDXsczN4YyDEaEV7xQXaZ6FCzQwfN2C9qVmfKkGBf5qJBnVF+FgR37ZyNfN2A0Oz9YswTrUIJa7ldXggnWFwPMRY5YgQIxewnrJmFHzE0GXkRrzqtyWMz96HEemsB6HLfXBT8TnoM1LKx7RRz4MyymK6X4sfcsrsVdL8vvqF0M6VwyN3DUoqQOWMLfY1mHJfe2YsXzrZBi/jEwtY6ntxXHb1+HlTnA8U/ZFW4y8dJx8YyF+YtnbjHgR1L4E+R383gwt0THA5MJmQ8BzwXCTSN648ddCSaJa+HoUxbCn5UglkhhyG5lzhGsq+RpHQ3D6733GkQ+tZTKb5LLXTgW7yN1Px6AHXiYOETJu4TF4Y5MzLjNjX0HxIxXlx1tx/QoLtTD8b5DfCXqwIF2L3RTdSqZHI/88aDtHSbkZxlRpu4jJuuRppIn6fklyL1HeCSlIWtaCnxHOwJn9YKI+IzSt/xjMdL8fUsq5n0vFxp7PawnhJ+aWPoAqT/z4Jwib1h/lX5Pf4yZI+dh1H41FH3kmJL3C1Gs5BMjdXYpckfYUb+9Q/hEIJZ87Hc9CiJin+TB0SNepE2c6L+O28ZjPAvXczGM/I6xT4qdROgiA8DB+7MslC/Wq/IgF4VZHljbubbRj347UlyTs5H3MGB7t43lvoxvbwssYO+cNoQN+EMw6Iq1fn4ZdCdqsWhmHsrNjbCdEApvCNxHDrFGoUfGHcKjD250HGWKus0Eg/hkIblHjbAy8ePjawJuYwJk9o1oW5EHw0Ijat9x+LemQWcnEyVpGHebOA+JLsL7I5A0GuPuZkrbCW6pdBqdh1lsNy7qjSN3C2rhYim8yJIQPa2xkzJuPKuBTCDwz37jclCc5YNls02unB/tQOPvs5A/I4WfhcXX6YR9rxWNa5uCPjOFYIS2jw193Hxdi5vEIUsBU4BzcaPNiLy8RTDWWOCI9llW4VIHnHvtsG6uRlPUiGugVTV69++OsloTxkYwhjIMJlx4yanjmXDv6u0cE8pBsGLDhKmTJSUbt0zG1HuZEvlpr+YzYXGerBCyQZTf3MHxAVNZJ2DJE2FUxZzC+M0i7horx0GN9B5I5gjc3rek7ojszzj4K3bl3mmYLL1nNCZPZYrdxychx/wujBXvv+t2OVSeptP23TjC/q1bLIe3gqU9VkLmQ1hOY//7LK5x5UNQWQQh2zDHGW9hey099xLPyYFxdeOQiszpKXDa7JIy6nHsgWvaVORkTYeeDVbtvH10ObDvlA7Z/pmDEESUP53o/IgpSWNDlUB4NNpeaRQrAc+E61vGjkc6S63HP7PUS0x9wOSnUDbZhdqFBuQ9Z0ajrcOvxAyIgDyMoV+NiTB5nzQO45lMcv8xBgUzpnxMUD0KJqBPSobuwVT2jh1wCbntte/BHk0W7k+Xz8MSV58UiUToIv3H3cn7MxtMM1V1gjnjDj7e4x3gAPpthYC4apD5ZAFS99ejmfW90kDtXRtS8mdBF7TAf6gz6Io1H+FUtrSiYWUxMi7ZUPm9fJQH2CLHw/WsIFj2z67Erl27glwryqQZFi10SxvQ2lSDiulaHNpkRBG3QVbb1Q4SvK6l3CSaJhtgppc3hYhnFXLDzdj3l25eycdglDTC1yJzFh/dN6Kt04f27RZgVh4yw1RM7yfNMM7Jw9N1Vhy9MArjv5WhEi5XDu3kMjS824Sa72dBe6QexsJ8VDtCaK8KXheajXnIW1oL6+/OYdSdDyAj0fmaqDK8zGedrm0mfZvPAr/oV778SqwEU+D9s77cRZ/5jUzvrKrkxMz9kEaanT/in5HmM/DRkWf7jyhfFaQvAfFyBp9+zErgdjY6uGpx6CV1ygykHN6Hwxc82PdLJzL/QQ/NSB2mTLbjV6y9u/e2wTk5Gw8Mrwmq8PguMuV5ACSlIHdVK1o3mlE8wQvbmkXIX2aRFMrEEUu/OhB8uPi5OOwvQfl4JepR6txXUZbUjPJCA1MoDShcdxEFPykP25dekT4pRgJ0kX5yPZ9V1jD9rU+d2IXWpXKliLvfDkFAXO/IwdzJHli2tcPX2YYt+3WY+3CqfG0YMfiKNSdJg5TJuShZuR5VRaPg3CmPNINJuXM802XEzGtIkjE+QwvfAXaP8AlLchqynjKiamMFMs9asId/uUjLgJ6Nhw99PAhqjoeNkI9pMPFOPjOchgxW71yHwy/wi57W2HH+7x5WIcdjrNLg75uBgjs60LipEq07U1BgCDfE7oD19Vp457+J9SuXSVsm6R/MwFWrxknJSMsqgPEnm1CRyRrX++rlKYF0bH8NtRcL8GadGcueymHx1iMj4peIvqRMyGDDEDsOhfpMG0MZBhMuPE9XB3ya8UgdFCF7C27nM9Tv75dNKM7sx/tMkTJ8O4rqqvsOU0+PYN3PErF/xmm0bubKtDBRYc5vVnLrWKZWh37PLbfzGerd2C9NUSszxN+JqHSPvv0u9n8rGgd1ZxSOmEEPawYjdk8J2KJPlIX4WnDwZ0whlY4UJuB2/pn/DIt/PDPtXCkWeRxIqDgEcvrnLP7svVP1ytAj0XGIkzvuR+ZIpvzY9mDPwUxMncw/cSfjge/qYPsfK+y/diL92zrm019Yu9UzmXj42JUdzIbrW07z3RbSQ34ljacP0NymQ26pGetXF2DUR22wJ6Df6CWOfjUiYfK+uwt844v0WL4ixJqPg16PmJ68uxa136hA07ut0gCj5T+MvaZAIUhEn5QQAnQRVndGRLLNCE/yeNaf+Rw4Gm3iO45+uw9BceVlmD0zC9jZispNjXA/nIfsYTjIHnTF2r3bAruyxUy3G4cOnIP2b8cjpGHCpGzkjnSifoMNbv5ItwfOt6tRLzZD56TPLEb67+vxWp0DHhGs55gVqysa5dWkXiesO5xiFwZ2+vEh1kxZBU9jJyMzkT87GbaaStiUOLGCrV9RG/+M9uFGbNkrLIF8btjq6uG4mXVyD/IGrkVmfi60O6tg3uGSt4npZqPo/WxEZxYmGjGkNRzWhmZ0KNFn8ajZ5oP+yWyVQpyK7Lk6eG022CfPRbbfRjiYz+D5I/uf28Fzur1wvb0JcfS3CcIL5w4rnIphFRv5H2LKoX4iLzSFo3ID73Khw8vi/KdzAIu3iLk0875ppziJlYmzUHzfOTT+hNUdpShPWGE28xXUMZRhMCHDs6CS1dXU+bOgU+zU+s0k5C5mamrdEnlmWLJH5ja6r8LwcS1KuN/iWoApuGrb4tBMwhJhj62YBvR/Gz8Wh6e47a2Il3DSThTcfleyae59jxxv9tTjq2Q7X8msQ9gmC9visOjYPeo84E61NeDoxwslu+wV4lrU3TD46nh2n2yiIuISMn7cRduKjuVDRW+ermAx8c/v6vKw5F4R1uKTmBps083yqSCn12RGTpO6vJfg06lqm+3IKPkj24gLs5cocQidd3HGocsK44JS1O4PN0+bjikz2PBzE5OX06ZCLyYDkvXZ0LUzRcaejuwHI5utRUZut8m2KlTa3KLdeuDYaERtnDNpcRGmb6n9cTN8WfnIDmVuFksfcKodlr0iHQz3oQM4NzID40Oarwl+78LJC0wmnujw94PRiNqvxkSYvK9bjeZLWch/OIZyjTkfB7seCdorUVhYhKJnjFi9thrVm23oCGPSF2uf1HnsJLysr+04IToJbqv+2wNwsfzydLrj/8IRURdhY5WJemgOb8M2aeswdsspO6rXW/kH2SAC+1i5P3Oj/l+ZfuSvFC5Y11SgUTLViKXfDiJKXDmaB/NYu7CDqS/IfSwzRDyHPn8t/g4SXnzmOcQ6y2qYNGzUdMGHUdNKUDk/zAxqUjoKXitBxwuVKDKYWQ6nILP8VZhmO1GhKL5jcmH+CVD1IyPy35YLWzOSNaKly+TFeZe86NxhRnWlj/mzGPjGYZ7ZjCzJTEIDXekbMF54EZULDGBvAEakImvhC5gX7vNOOO7Lxbjf/AsMKzqkhqQZlwNTVYl/gaBGV4YaswamVeUwsLhIfuP0KCifJ4+iY0lrSDTImaZB7XwD7HzfSJav+gVVMD4cOKxLzjQgs9IJzczsCKP2dMxamslkxyIY3k2BpvsG5CyvYKPOchwSd1wR+D6VXKGtWg0fH12zdI2ba4Y5S4y007NRcLcVtQuno5blU67pTZTNLEfm7kosyrMgRePDDQ8bUVGeiXKpwccKC+vVSnheZM/m18vlyOpS7nKTPPCLVoZ94OFVscr5mj88Xq76wiq88VRivgNwZa/lcXHiR16UtkSc9SL7h0VatNb30z5fTNerEHJ7ZHEcloNYJ5l/rBMz1XwmlSnKvzrIFHymKEthlMi3BiEtjCsVJwqqd05S4q9j98lHYfJAIVReRMiHCHHjhIyfBB/QqPJJIThPS5Ww+95vCEpDqHf1Sevj6hBCxSFcXeBEi0PoZyPHIRjWls+6YPmVCyWTQ4/u0jPZCOJti/z5Xvgh+QFkT1oNx+fZvYu/+gmXvW8sv4gX1xSBi1bmg9SsErwwZzC7aN631MCcZIJ5Metb5MaPtMdMWM/kUsg5wxj6AO9n53CojvVnKzXQJnnhY4pnyWsFTHKHJoUpJZlNZhjnWFnflo6ytVXIFdciEq1fjZHefo/1KXImQHMP6xvrliEzponT2PNxsOvRRabopk0rRt50efODc7/bhwNM0V606VcwbTX2MQlJj9onsb5gdiYazUbk7WCpuq8Mb/4kl413S6DbUY3SRxuhGZMF4xoWtngiJqLpIpmlMM54FuaKPDTz83vmwfRMCY4+1ybfwAnVx+p7+zNjPhvY8PuYvpH+cDmW8R+oidZvhyJKXCVYu8ielYzmPfMw4z7hN8z4K741iDgeVPjm33zBhLIaNCrc8EYTRRCygmXqc+gweaH7mDCKoDDH8oqoRIqDAnuRj41Kw97T34hEeM6z04jCt+/Hm/8xL7ppB88rJsi12oFmxsDxscapCbMCmv/giyYojnHXq3BEK8doZRgCvmJaE++AjXHpz38eer++yBewcVtbcaqGK9QFny4JWgzH7aAHaktNDCeSkpIw4utfh2eHETVaE4yZV1+eJEbIxw/fDUszIo73Rosn/0ENpt7FKqJDycqYiaVPi4V+yMxg4s7HRHHWgvL5bcjexAYmagW9i/kXMv+3wq+zidon8f62m+kmQcnqb3/hJ1q5hXmvmkj1JlL8IvXbIYkU124nagsrcG5py9CQIf3giinWxJWkA83fW4R9c5tQOWMYGih9xfH95S+sT2IdLUEMIzRMMdR8vgfmKqB0RdaA7FsJ4qoilLsDmSa8UJiOUdzvggvWDWY0JxuxoTzCNn7EgPC1m5G3ZhQqm4JmsocRpFhfg/gctXh6HVC2umTYbVNDyAzJWWuCCIMyWy3Bq+0w7RAJwo+kSNdg834XznmAUTenQTe/FCUP9+59TSQaN6wrnseeb78O82MJsJG/SpBiTRBDkC+//BKXfT5SrokhD1eqr9docN11V2aTKYIgiKEMKdYEMYThZiFcuSYFmxhqcIWaO83XviZ8CIIgCFKsCYIgCIIgCCIB0Lc7giAIgiAIgkgApFgTBEEQBEEQRAIgxZogCIIgCIIgEgAp1gRBEARBEASRAEixJgiCIAiCIIgEQIo1QRAEQRAEQSQAUqwJgiAIgiAIIgFcIcXaA+vKIhRtcIrzGOl2w/FOParXVsNy2Cc8B8hH9ShaYIL1rDgnCIIgCIIgiARwhRTry/CdccPtjUM5Zkq1ZdkiGHd0IPnuB5AxWiMuDJDLXrhPeeBT/ZCda3Mp6j8SJwRBEARBEATRD4auKcgn25iym4aSl00omKFHWrLwTzgeHLK74L0sTgmCIAiCIAiiHwyqYu274IX3QuRZap+X3+MNmEGW+NwHL8YjdYw4V9PNroUK2xfCT9zbJ3w/Xeg6KQ4JgiAIgiAIop8MjmJ9ygZToQGG+YV4emk+DIWr0fYncU3hrB21z/B7FuLp8oXIm1kE0063dMmx1oDpyy3syIKK6dMxnbnq/ey02wvHxnJ2rwF5c/KYY88/0wjnJekxuLcbmV8tHPKpzFkrjOze2gBPAbe3nlOB5gvsTcvl90yv4jd6YDMXoXRNOzsiCIIgCIIgiOgkXrHu7kDjS2Y40ivQ8G4LGja1oHVtPlK94jqH3/OCEW0TTGhpaULDxia01s2FZ82zqD0M6Ja2Ypc5h92YjrJNu7Br1y6UTWanPhf2uTJg3CD77WoxI/t0PVZv65CCjZv7itGw1Yxcdpi7SoRZrmNnHnQcdMNlP0qKNUEQBEEQBBETiVesP9mB5hMpmPdUFlKShN/IsUi7VRxzHNvQeCIL5Yv10Cr33JaLwiwPrO1i55CkEIsVR+hQsrIEesU8RKtH9jSg4/QfhUeiSEMxV+g3FbMjgiAIgiAIgohOwhVr95FD8EKPjDuERwjcnUfhgw2mmcL8QjjjDsDni2HnkEsdcO61w7q5Gk2hTDwSAVf4FaWfIAiCIAiCIKIwqIsXw3E9V1g1uajkphdBrnUpN8UIg9eFZmMe8pbWwvq7cxh15wPIuFlcIwiCIAiCIIirSMIV65Q7x0ODo+joEh4hSB6fAa3PgaOdwiNGOra/htqLBXizzoxlT+VA/6AeGbeJi4wbtVpxRBAEQRAEQRBXlsTPWE/KRu5IJ+o32ODmVh3dHjjfrkb9MfmyxMRZKL7Pjfp/rYXDI0w/PC5Y11Sg8bB8GorP/nQOuOSDYizi/aQZm3aKE4b23vuRCiuatsu7i8DjhKVuC1zyWUSOujpYXN1wdfJVlrQrCEEQBEEQBBEfiVesk9JR8FoJ0vdXosgwHdNnPoumkSUwzVbPJqcg99UqlKTaYcw3yDbWhRVMJTYg8x5xSwjSZ5Yj88+NWJSXj6I5eaiwpaK0PBP+ZY7jcvHD0nQ41hRJYRrKm4AnS5AT8Ucb05FdlAZX3SJMf3QRXm5xwku7ghAEQRAEQRBx8ldffPFFjzhOPHwhoib6T5H7LrHbRoiTGOA/KoMRWmjCLS7kPwrj00AbR5j8x2V8SaowlR+UoQWMBEEQBEEQRAwMrmJNEARBEARBEF8RrsquIARBEARBEARxrUGKNUEQBEEQBEEkAFKsCYIgCIIgCCIBkGJNEARBEARBEAmAFGuCIAiCIAiCSACkWBMEQRAEQRBEAiDFmiAIgiAIgiASACnWBEEQBEEQBJEASLEmCIIgCIIgiARAijVBEARBEARBJABSrAmCIAiCIAgiAZBiTRAEQRAEQRAJgBRrgiAIgiAIgkgApFgTBEEQBEEQRAIgxZogCIIgCIIgEgAp1gRBEARBEASRAEixJgiCIAiCIIgEQIo1QRAEQRAEQSQAUqwJgiAIgiAIIgGQYk0QBEEQBEEQCYAUa4IgCIIgCIJIAKRYEwRBEARBEEQCIMWaIAiCIAiCIBIAKdYEQRAEQRAEkQBIsSYIgiAIgiCIBECKNUEQBEEQBEEkAFKsCYIgCIIgCCIBkGJNEARBEARBEAmAFGuCIAiCIAiCSACkWBMEQRAEQRBEAiDFmiAIgiAIgiASACnWBEEQBEEQBJEA/uqLL77oEcfDDt9f/oLu7m7JDVWSkpIkp/na14QPQRDDjeEgawjiakB9HEEEMiwV6y+//BKXfb5h1clxwXO9RoPrrqOPBAQxXBiOsoYgrgbUxxGEzLBsAcOxo+Px5fGOFd8pB+yfeMRZXzzH7LA73Ig9xNA4NxShaKUV4d8UG94TNjSurUb1hna4hR8xQLrdaN9QDctHXuExyMT6vo/qUbSgHk5xOmASHV4CIaWaIGIj3j6OIK5Vhp1irXySHY7wePP4x8I5+wYYnylF9f7QSk7ndiOM6+04J877i8/rhvuMD5fFeX/w7q/Gwu/V4EDSOGR8626MEv4DxbW5FPUfiZNriJjTdWwHqjZbUL3FjiuiWod634V2rA4eeF32wn3KO+BBnZ9Eh5cghrOsIYirQTx9HEFcqww7xXq4d3Txxd8DywojLF3idEjihX2rBd5ZRlSW5iJLlwKNuDIwPDhkd8E7EI1/SBJHuu4pxhvVVWgwZkErvAaVUO/73QG0DXDgNVwJ11YP1uQiL1d26xzCkyC+Apz++XJ/3c+rOSh8A6HBKPFV59pTrM+04gexdnjx3Jsg4hI6d+cg9x4Xan9kgTvWxy554b3A3CVxHgKfV77HFylMJZyo04gXcfEikDZ2tDgPIlo4YePbha6T4lCFL1RYPAyVp099HHx/t09+34VwEeolYjg+Hkb4PFTyOOAZiTDpCvOuUbeOw438QMS7z/si+fd9uRSvPvfytIj8979P4D0bxdxIyc8I9U1N1LoXJbyw+crS4A9TlE2I5Mso7wh7g0zEtprzKlosFizRifNhxWm0Ph9eMSIYjlqmPC5H6xlx3m9EXgtl9Ac/Py38+8NBrBtwGANj9OOrpHq/Mkd4hIAUa+KrDq0yuCp4YDMXoXRNe+An9mA0aZj7LyVI+6Qaz651RDYH6O6AdWURDDPzkL+wEPkzDcgzNsOlfsjrRP0zBhjy8rGwfCHy8iqw6ai4puB1wcLDmVOIp8ufRmGeAaUbnaHffdaC8ulFqD4MONcWYfr06ZhexgYB/Fq0cC44UP9cnhTfvDnMsfiWNjhlJY7b3M6pQPMFwLKchcnDreKjHwdq2b3G7YFW3I469vwLVmHb7Yb1BQPMNvb+51haedg18sjJY69FKYtH/uKn8fRi9u5CE2ynpEshkMMxbbOhulCEY8iXTHPc2ypgMMjxNsxk6Veb63RaYV7I81i+npdXBJNNxDdsusLFWZXepHNoeykfectE/kp40b6KlTerG74k4aVwyoJnWTnXsrLx02VBBYuXcae61jlROz8P5naeBnX+elh9ykf+KjtwuBpFPK7Ty1VfT3w4utOEIl7PeHzV5RcKr0POx/kL8fTSQnZ/Ecy71fGIEl6kfGW4txthWGWF4+3esskzGFCxrfcenl+ud/g78lC4lNWBBaz8nqmHM2TlJogE4GjBuo8nYEmdRVJIf/R4mAkIgiCuGa4RxVo1K7C4FkeEL0f92bZ3xkDcL+5tfUlcFzM4oZ+JhDyTkPd8KwuZIWbCw88IedBx0A2X/WhkxZpzWy7MK3OBbUZU7Q6nAXAF62msPpOFqq270Lq1Ba3vvYmCz+tRbraJd7B7qirQmDQPNVtb0bSxCa0tZXhAuqbA7ylH7blZePPdFjRsbEBLkxkZOypgDlDGBDfnompXA0ruZsezKrFr1y7sqs5FSgzh+H63D0cnGLH+PfYMe67FnI2ujath6WQX7ytGw1YzWKqRu0q+vqs8vqlB+9pKHJhWycJpQUspe/ZEI/7F2IaMFSxvmhrQ0NSK9XM8qKyohTPCBEv7W4fwwNpWOY5GHaymfDz962w53u+1wJx1ERZzo3/hnfvgAWBmFVpEuhoW3oT2ynq08xnYKOnqE+cAUpD7wwroPqnFa0JZ9Ow0w7w/G6byzL6mIuP0yLqNlcOHHcKDxW1vGzpHauH45b7eend4D6wX9JiuDw4hGTkrmrB+aTowsQwNPK67qpA7RlxGG9o+MeD1d+V0tBgz0bmxBtYwZkuOjUZY0irQ0tKEhk2sDDa8gPz0ZHGVEzm8iPmqYKvGJk2Z/571pWlwVr3mHwx4d1ehvM6DWTWtaNnE6sDWJpgnWFHhbyMDQZYpP6ipldu+uv0HzH6qZou5//PLxf21WCfkTrQvaJJ8Yu+RZA53ityRELJIOLXs6v2Mv4Qpe8JTIsKsqhT33msD+ronhdWbzpB5wlHlF0/rD1geSff701zLUhmJCGXBCDBnCAhLlXcvtQo/gSLTJRf7TPbpT4+z/+/C2Fvkcz8B+dobh3B9j+z/InisjtQtka+LcpeuBfU9SjnJ11i++ctXld4wcQjIB+7C9mMEQYTiqijW7733HubOnSs5fjxQDtawjgIlqLVY0FJXggnCnzOpVJ4pkNzLBiaUfsyE4mgYXu+91/CyuF46KcIz0qUwTMISHtbHtVjDBOHBnzGFnX8qFuH1JQ3Fm1jnv6mYHUVHO7kM/7YgBbZVTDkJNcN6tg1NNqas/SMLb6TwS0rFvO/lQmOvh/UEO79gR6vNh6y5BQH3jB8vjjldPJxRKHhuHlKVGVCtDnPnjIP9l+FnzDXBRtUxhKPRlcBcqkeKuK7VZyMbHeg6K58PFN/kQlTMTkcKUyS1LH6ObY3oyCpHiUqBTJlViOyzVuz5RHiEID1/LvQiv7TpGUi75MOUmTlyvJO00H83m+XtIRwV8U55zAjj7DRoRbpSMrOR7uvCuQvyeSSC49yH5CwYl2fCVcOUxY9sqFzjQo6xBH10YolUZE5Pgdvu8M/k220u6BcUQ79/DxwiPh0ftsM7eQp0Sp2ImRyULlWV34NTkcmGF51hvgD4WL7h3LnexbZj0pF2sziWiBxeTPk6sQTLZqdCI+5Jnc3Kl4XRZudqsxttW2wYNX8Z5o2Tr7O3QDdnHsbZd/nzY6AcsR7HVD47yeQGrJuiK2BMwZ1a9yoMTGU6fvs66RP78U9Vim04rEzF4nJLyB2LpEhxhZIpX8JMRZZdTDZKHz9qUVIHMXO6Dkvu5ffLSPLzLvEMCw/KM1zBYgrmhMXr/PJw4KYvrewffxePwxGs+1l0pe0IpqFWys/juF3Kq+M4GYNiG7Is+uRDK1ZISmnfvOuF5cPiWtwl+onaxZDOI8ZcKLglddLUDVaolVd+7aXj/lnslTlKHML3PbI/Tzt6y+N1A2Ka//6Y1ZWnlOdb0ciV9QhxOFjD8uFe0Z9yF7YfIwgiFFdFsa6rq8P58+clx48HxkHstTJhM3VyaCGjnmkInoUIR3+eucWAH4mObIXVgJXRhBHv/IUCEAupT72KsntcqK6ohiNYw+3sZOpDGsbdJs4Vxo5HOlMoPFybcR2CnZ1l3BtKYxOc4uG4Uf89YaYgXFGNC/j8YvjP/MHEEY6v0wk7K8DGtU0YyGRYMGkT71bN4rrRcZS91WaCQRWf6Y8aYWWx8cW5Mk9R3AJQz3p3++A55mCKrAX1m9rAJ+FjITDOodFOK4cpqxPVz5nhnGFEyeTwT6ROmYGUw22w8xlbjwN7jmVi6sPZmK63Y5edVyI3HHY3dN99AOq5434xQhtgmx2Mfn4ZdCdqsWhmHsrNjbCdCDdME4QKL958TRrL8pRV/ZP8ztPoPMxSvHFRQJ2cvqAWLjbUuxhz5Y5CTiEMwbOTEemdzbzrdlmCHfk0Bq2RKT65wUrumf14nynqhm8L2aP7jqSIcUX94K+YHLt3Gib3iZssP2F9UZZ3AV/8bsHtTAGXZ0gTYW/MmYAlT8SpqN01Vsh2Ja+O4NPfSx6RCVEWgfkwGpOnTmCK50mcCc47NY4PmDra+2VTVpajwPsDppTWLpambrBSUlJLwEM/bd/NUsAGFYvl8Fbw/FfoT98TDX9dmYQlLB7cHCVSHG65necJG4Aw/+hfawmCCOYat7GWZxqk2WMu2AJmIcLRn2dk5M9+g0RSCnJf5WYEFpg3OGL7dO27GHaWOSRMYdQw5bvsLflTeoD7SW7sylcM4Xg/aYZxTh6errPi6IVRGP+tDNwkPz0IXC/HabYwVwlwrSgb8CxcL57dq7EoPx+mtw8wtTUFGRNTIyqccdPdiQP7vUi+ORnevfvgirRO6I5MzLjNiX0HvfDY2+CcNhV6prDqpupg/7UDvi472g7rkK0fsFodndtyUdnSioaVxci4ZEPl9/JRHmD/HJn+5ivfVlejfFJhf9LLm0LUgSrkBsyef/VQz0pzJ89Mq7/sCSXsK2sW0GsnLTtZSe4/irItnDT73P++p3+EioOyQFH+qiEPqqLMzhMEEcBVUawXL16Mb3zjG5LjxwNDzKqIWR7JDEM66mXC7Xx64jRaN8c+AxDpGcUOLsDe8Ewr1ohPjOrPaglFq0NxhWJvrZqpTMuAHk4c+jho2u10FzqZgivNZI8bx45cYT/VS9yZAR27p0848RI1nA5YX6+Fd/6bWL9yGQpm6KF/MAOp4mp4NNDEbbLAScb4DC18B46yNw8il9pRs2oP0pdvQpWxGLlZLF2T0xI6YHBuMKH5myV4Y5MJ89AM04ZIP6uSivsztUyJbsOe953I/Ae9tBVisj4bOtv7sDLF3DlxCnRXQK+WSNIgZXIuSlauR1XRKDh32pmSHAP9zVePA/uOAfp7uMFVGjKYsug6HGGB5ZVAWswmjhPNLWNxF/vT+iuhBkkzrRMwVT9azEKehCQlA+KgzEq3hFeepNlXYT5y/GSvXFNmVxMq6+KT0/Ei58Nu7Jcy4jT2v896i5zvYJLIO9kMJygOt46VBxYxmK3EwujbpVKSTTJC0J/+SiFU/xeKaHFQBlXyjHtspjcEQchcFcX60UcfxZYtWyTHjwcGEwAVJZggPmWuYKPw3nH+JOQywSCPupfg06myTbUf1mEU5PR+4pNnY6I8EwrewUgzDfKnx0lPyHaPJWE7nBh3BQkBt7d+Y2matCWbn5GZyJ+dDFtNJWynhNrAlIraHzfDl5WPbL7g7OYpyJnsg+U/6+HkL+32wW1bjeqdKtMQKRwtbGvNsB4T4fjc0sIzsy2OmEYN5zN4/sj+53a3nG4vXG9vgvqLqMJRF1OFu91wdfL0MuVIr4Fz+zbZJpanYW81atRpCEP6zGKk/74er9U54FGy6JgVqysaIy5ejAufD17mLisL6li8bZu2sCFGXwLTFRs+RzVMb49ByQ/mISUpHcXL2SDrbVPgzh9BpGfmQLu/HvWOTEydLPIp+QFkT25HbZ0d6UxJTZF9w/N7F06y/Pae6ICnn3nl3m2BXambLN2HDpyD9m/HR383J9Z8PdyILXtFPWX1zVZXD8fN85CXydOtRWZ+LrQ7q2De4ZK35uP1h+WNMSGLFyOgy5PtifmM70uAIcJWZQNDrPVQzDpeaoXh5VWSTBr9+D/L9sSSvzoOXIGSbW9lO2DuFLOPg6pFbHzB4wQsqVDZ9Qpl1K+w9xsWh6eY1JbivQTv32WILnP7CZ+NXZmjmECItTmS2R7LO2HK1ycOwszPby7D3UAGEzr2Tn8fI8KLqe9RX++Ng7+/YX6B/V8Ewsahd+KIO272MmHxP8dp3kQQX23+6osvvugRx8MC72efiaPhi/YGN+rnl6IRBah5K/QCRvc75SiyZaNB2mUjGL4LSD5Mn5b0Xu/2wF5ngnmbU+zfq0HaY0a8VJ7pXxCGs+1YvZwpu538Bna9yIwXRjdh0fYHIoaT+mAByioKwixwc8NSVoTq8ZWBO3dECcdtM+H5ynac06ZA030DcpZXYHxrOQ7NbEXZZH6/D86N5ahoYEoQezZllglvluuh9bA0lLM0dIk0zDWhfPQmlPvzSo5PW1YDqmYH5pz3EwuqflQLm5R+9vTIdGQvXYZlWaHmykOE02VBeWE1xq/aJeLI2F+N6cuPomwT3zGDxbmBxXljJzRj+BcFpvz+MA+elzYgeY2yo0aodI1FW8g4O1A9vQJHlzL/h0+jerERR/PXq+7xwlG1EBV7s1G1qQTpoWy/4UTtnHJY9Ca0LM9kb5Tx7KhAfqVPxFt4qt/nT7MNpu+b0c4XZ45IR9ladv9ZnmagclcZektcfhbqvPHDt7mrwmsbbHBrWL5c8GHUtBK89P1cpPFskvIwUnjR81VqLzvGo3iCA43bO6RZac0982B6uQR6lZkH33LRtMoCp9jHXDNOj4JyIwp0qi9AgnCyhiseK/gCPFrUJefFcaakxbqQjrgmiNYGtDfcII4I4qvHsFOsL/35z8N6A/qkpCSM+PrXmeKpeIi/CYTvwKAZEWEWVzY8FSfhiRpOjIQNp9sn/RCINuQWGAL+wx9J2r4LBi8xf6akhVxIGA32Xq7U9uvZWODp8mmgHSHOQxEuXUMU/gM2mkjlFCP8B174wsT+llu4fA0YiMZSvqwN+JIi3xNO1khKhfi8wncUSvyPxPCZYnlrtT5w+9uhoNDzrdr44jq+e8RVUKr5lnmhFxFyW2h5ln6wGQpxuNIEpDlMXfT3cQTxFWXYKda+v/yF9YnybNNwhC+k0nzta+KMIIhEEPkLT/8Y7rKGIK4G1McRX3WG3a4gvMHyEfFwhMebBA5BJJ7rRyQj5RYN3/8lYQxnWUMQVwPq4whiGM5Yc7788ktc9vmGlUkIFzjXs5H8dddd4zscEsQ1xHCUNQRxNaA+jiBkhqVircA/1fIObyh3elzY0CieIIY3w0HWEMTVgPo4gghkWCvWBEEQBEEQBDFUoG82BEEQBEEQBJEASLEmCIIgCIIgiARAijVBEARBEARBJABSrAmCIAiCIAgiAZBiTRAEQRAEQRAJgLbbIxIGbbtEEASRWKifuzpQf0b0F/qBGCLhcGFEPxRAEATRf6ifGxpQf0bES9IPf/hDkzgeNvz58mUSNkOYnp4efMnc1/76r4VPHPjccO624eetO9H+aztcnuvxf5LHIHmEuD6YfFSPon9xYMLs+3Gz8CIAL8sXU7ULKQ9m4OYYJm+8H1lQ+/M/YNzfjsONieqLut1o/8//xIGvZWDCLRrhOQC+vIxPj5zArnbmfuvG8bM+3DBSi5tGBEf4C1w8dhK79h7HewfcOHzqM3x9xA345t9Eqtv9eUbF+TPY0/Yxth04Dd+oMUi9Ufhf48RWb5yoX/DPcIx/AvffIrwGRKLDSxzUzw0NBtSfDQSpP7JgROZDGH+D8COGBcNuCKZ8FiOGNryMeFnFjheutytgMBShvLIeNrsdduZ21BlRmm9AUWU7PINd7Je9cJ/ywidOv4q4Npei/iNxInDtboZ9byP2nBAeEfHCvqUals1V2HFMeMGFxmfqmQozAI7tQNVmC6q32NkbBsblowfx/R+1I2drBzb+7iLeP3UR/7XXhdyf7saidz7FZXEfzrpQ+ePd+M5b7O9h+b7tv+nAvPp2fKfmII6Hikh/nlHj/R0q/+MgKk8Ct91+E+68SfgPMY6/247/PCROEkKs9cYH7yk3vP5CGiiJDi8xUD83tIi/P0sAUn/kgS9CNQglr4mrz7BTrEnYROMg1uXmIu/5VpwWPleLeMqqgynV5XVOpC+uQcu7LWjY2CC7ra1oqi7BxCSm7iaJm4lBwoNDdlcfJUNX2oKWliaUTBQeEdEi6/vrUVVbg+J7hNfZQ9j3yQAHLPcU443qKjQYs9gbBsCpQ/h+8xkcHz0Gzf/0XVj+eRqambMYp+GXj96EiX8zAtfz+7iCu7ED//XXN2HTM+xahXxf8/PfxQfzxuBh7xnk/3+H8OmXUqgy/XkmiIv73djoG4lXlnwLT/xDKm7/urgwpPgjDp+8jD8kdAQ6SPVmmBJWdp5pxQ+4fB8iMv5a4WCNyFPmfvDz0Lk69HSP0PKauPpce4q1EDzrHOI8EvHcmygctazxLkfrGXE+pDiN1ueZcKk5KM4HRsyCqMuC1XUupCx4E5VPpkEbpEAnT8yF8ftZSBbnPm9vV+u74IXqlL3UBy/3u9C3O+7zXIh7/CjhXBLn0fC/lykCoZJ9Sb4WMjyf6hl2LN0XFLWAuHsjvIejvCtc8sLGtQtdJ8WhmiQNtFrZ/EJ6d6hwpTDFhRGjMO6bKvX3D13oFIcKPP9Dxl8dThCjbh0Hv1UEv0+5TUlP1LL6I372Thf2/J9bsKY4AxO+oRZ/f41v/v23UJE9ih1fxm8sJ7DxSy1+uvBb+L/J6k/A1+HGezPw8pxbMMHThdW7lSno/jzTl8t/Zlo3U+5vCyWZfZdw8byXuRAJ/fNnuKzkByuji3/ive2XuPwn5d4vcJk/y8NXYM/w8PzPBcCf5e8KekbiM5yKMvPO60mf8uXlFCLq/roQQ70JJmo7VhOmbamJGJ5Sz0Jcj1m2RAhDTWTZOQFL6ixoed2A0cInQOG+0n3alWCQ+81JpSw/Leuw5F7hEYJo/Zkil/vUrxjku58Y6mgvfeV1ZPks4hFPfJT6GluECMGwU6yJaEzCEkuQ0L3KeGxmFD2zGu0e4RFEx84tcEKPglmpwicSblhfMMBsc8HynAGGOXlsIMB6kW4vHBvLkTfTgDzuN4dde6YRTn9H7kBt3iLU723H6kLxHL+nsBqOACXBh6M7TShSwmF/SxucEWfNPPZalOax+wsX4umF+TDk8c9zItDuDlhXFsEwMw/5CwuRz8M1NsOleqd7uxGGVVbYN5bCYODxYi6vCCabW7lDTvN2O+qfYXHOE/csMMHWJW7heFme8HfNKcTT5U+jkMWpdKMzwHQibFy5Pd+cCjRfACzLp2P69GDH8ok9797+LPKeaUaHHJwfZ10+8sxt4EXM05M3p1a637mhCHnLmlkcLKgQYVXv98Few95ttEr39+JDeyXLpxp7iPxm5cfSbNwu8oR3tIvrYYunrNy/x67zwGP334m7Ikm+L3+PnR1f4va7b4M+3PT4nXdi/jeBXYc68Ad+3p9nAvgjtv+0Dd/9NVOIz3fhu6+2YdKr7fiZlNwv8Okvf4V5lR/gOz/9NWb99AP83Y8+wFtHe7XUP+w+gL9rdOH4e+34u5/sw3eqDuI3uIDt/98HeGmnC9U/3o2/+3fmX7kblQc+w6dtLKzKX+E7zO/vmF/1AZXG23EY5p/8En9Xxe7nz/x4D176nz/K1w45MO9HH6OaZfLG7TyOzDX+Tr7mh5XvWla+K2wBdc+xlpVRYS2cKv3Eu5PV/YWNcLHBdPR6Iz/D8f3OBpO6HQe09WCYbFjL2oUhHwtFuygytwfUvYjhJUi2KG0vf/HTeHpxHrvO2u8pcXGAHPxZLbB4HVMOLahdPAGtL9UiMdMjRFQ6rTAvZOWtyOUA2S3X68jyneOFU1zn9WMhqz8VTUfFtRCEktdVDlk+zw9sY5yOLU+z9mSFW7QzHh+HZHop4mNg79sWGB/XO1y25qFwKauvC1h95WZZ6gZNhOUaUazFTCsfrS+uxRHhy1F/4uFO/swj7hf3tr4krouZ2tDPRCfguYBZX2Gewd1LrcJPJvhdvaNyVZqYiyUOp3++vDec59WfCeWwflBT2zuroYpf73NLsO5j4SkROg7K/cqsiJyG8LMJnpOswX+yD0f7ahMSf/wja9B334+JI4VHDNjXVuLAtEo0bG1BS6mO9Ywu7HNlwLhhF3btYq7FjOzT9Vi9Ta0CutG89gCmVLXK92w1I6fbAtMGh0oZa0PbJwa8/q4cTosxE50ba2BVK7BqTjTiX4wWaBasx653myTTlZbVC3H/aK5dedG+6mmsPpOFqq270Mri2vremyj4vB7lZlugUmmrR+vfVKDpPfm9NU9qmJK5BQ6VgLRtakXyc01y3N+rwbyvt6OySRQCf1dVOWrPzcKbwpSmpcmMjB0VMO8Ub4oU1/uK2bkZuey23FVyHBTXsDRdfp6R+vBc6Fg4O9R2fd1O7Nnphe67D/i/KiikL2TxWCmFikoRXtlkDTIfy4V2/xa0qackPW1o2alB7mOZiGl54qlmNMVTVl2XsAfXQ58WTvMVnP4cx78Esu+4VXiEQouJt/01U4IvQdKN+vNMADfhsWeyYZ3MDVFGYtOL2Tj4YiaeSAEu7/0Qef/zBR6b820cNH4XvzROQ8v//RKrmw9gl7pNnT2JH356EzYtfgAflE/C/xXeP/vNeTyw8LssvO/ig++OwH9Zf4Wi4zdh2/PsHcZvY/3YL7Fu52G/3PzD8T8BEyfiAyOPw3dhvT8JP9v9Cex/ZhczdGj+wV1YwA4XPMavM1dwp/RcLxrov53JGumv4PArpw7s2aFhOWDFnsPCj9VZ+y/t0M6Ygt4aJhO63sjXOG07D8FQqbRjIzJP1KNmh1oxUOGoh/Gdu1HBzcp4u3h3PV6Ymx5QVyOGlwjZIrW9NmSsYDKgqQENTa1YP8eDyoq+SlB/4DOuP3pcnkoZfftd7P/jODmA2V1JprP+wt9vKf1J0Fde6T5+TfJfjh9I/cVyrKuR+4iY+k5pNlq8J1c9IAjfbwb0dcIF9kfCheuH+1zrP+6DB4CZVWgRsrth4U1MdtejXT3QiyLfvburUNGgwbyfyvWj6d1WlH1LvhaSUPK6XCfL5wsWtOxVTS8w+byjqQO6udnwT13ZqrFJU+aP8/rSNDirXoNFyE4en/I6D2bVsD5iEzfJbIJ5ghUVwf0WEZKroli/9957mDt3ruT48UA5WMMUQpSgls/U1pVggvDnyJ94hHvZgCN1P2YK4GgYXu+91/CyuF46KcIz0qWw8Ia+4riIg+VVGKwvqpT4F9Ga86o/PD9MoKywis96/BnmZXh5FQy3iDTdJZ5h8UQdO1d0qDCMfnwVuz/856wj1uOYyt/F42DdJKeJxaGkDiIOgc+GiwN/z8ocPiBhQpAJ1EYpDXK8Q5G2gCmD7zX12k4GID4Pa0KoUidsqF5b7Xc21eI53+RCVMxOR8pILSQrhRE6lKwsgX6MfB1aPbKnsZH6aTHTJsj5fhn0So86Uo+5c9Lg3bFHtUAqB6VL9UgR5ijaB6cik13tDDOz5NjeiI6JJayj7p1t196jh45vK3K2DU02Jvj+sRhpyqAhKRXzvpcLjb0eVvViwIkFKJndawaTNi0LKb6j6Dgrn3PS80uQe49QCpPSkDUtBb6jHaxLZ3Txd41CwXPzkKqY0mh1LH3jmPLiYCpMlLjGSvIUGPReWLa3+wcjvr0tsFzKQt60YLU6AvfNQMEdHWhs7c15/uXCMbEYs+4THlGJr6z8RJN6vi/BVEt2X+Qb/0ajZDSjP8+E4Ot9Hv8jdh34DLjzNvzjvcrWAH+N2x+9A0v++hJq96pGEV+MQMmTGZjABko3/o1kKS4xZdLd0EtmL9fhxrtuhJ4NAB771r34Jm83190A/X03svh/jmOirn2TDZCMj94qdua4DrfrbsKUL/+CTwObUkQ0+qnIQjsOKMXr2APrrQUonsFEz17hecmBX9m1yHkwWK2OTs4S1o6Vtj4yE1OZHu88GUaJ8/lYXfXg3AVxnpSC9HsC62rE8BIgWxzbWNvLKkeJ6nNGyqxCZJ9lA41PhEeCOPgrroTehbED3eXEysLhfSPvJz+uhSVK/8N6GNz1FO9DjqAVhdLM+ZFPo3ScXCF/6bjofyysX2nFCkmJj9BvsmfW1B0R/bbcZ01YzP7qIvXDvD9j4d2rXGNO9PcDJeUxI4wq2Z2SmY10X1dvfeNElO9sgPmeDb6sfBQo8p2RmjZeHMVBcjbyHmZ687vy10OOJJ+ZCl6ols+sH1g2OxWKOEqdzeoiq6ltdv6UG21bbBg1fxnmjZOvs0oP3Zx5GGffBYc6XURIIvcCg0RdXR3Onz8vOX48MA5ir5U1rKmTQ5s+iBG2NEINGvWGJe5nTmP/+0cAJnxKpOdYAxZXcGY/3v+YKczfDteIQwlAOU1gQkGKQ9AsfL/JKeyj/EpC+N5pmBxnHCaVcoHGhCDzx+J/DqtU+wmrTwj73WOd8oyImq/zGS7GpaNoe8eCQ+ckX4m0iXfL14K51AHnXjusm6vhn8yNQMqdGUzyBCqwAYxgSoo47IsbHUeYejk+FSnCJ4DOTiaq0jDuNnGuMHY80tmzHlV6+vB1LaJtCKHRqu44xd/lRv33xGdB4YpqXMDnF5liESWuMaNFpiEL2NmKdknAetD2rg2aWXnIjGtLxFTkFGXBt20TbFyWS7MqbmQ9mdP/+EUsK8ZfA9fjMk6F+XLi5//8Nf6G/TnuiaxJnjp/uVeC9ueZmDiPwyx/9N/8hjgXXPcN3MUGa0f8NtSMv7kRE0M2ihCEGABc/kIccL68jD8c64D9fw7hP3f9EcHGHlEZocfULB+s/yM3Quev25DysB65mWxErgxknQfQPjIHU2JaFBsJLkPEYSgmP4WyyS7ULjQg7zkzGm0d8EacJQ4TXr9lC2t7R1nbs5lgULXN6Y8aYWUt05fIxWfSZA2foCnBgNVGpoTmMmU1dibgdvHBZsLtokM4frKvXFdx2r6b9StHsG6x3N/yuEtE7Td739VLhH6YccvtE/zXYppJj4duNnQ75oDdZkH9praoawMC5bsLh+xAOuvTYvpSFxENMp8sQOr+ejRLX4Zk+ZySPwu6SPI5aSzrU1lMTvKYn0Yne9a9cVFAXzJ9QS2LqRcXVZPhRGiuimJ95TjIGixTCEONesPSn2cEyjPCKZ/mwqL7Dgys6a9QhECQIOOjcHV4fER+pQkfhzP4NMBspP+k/99MaHxt2Be8bdCYTBQvLUNZYTb8A+dweF1oNuYhb2ktrL87h1F3PoCMWGZimUDkyuKNA5doseO7KM0gJxQ2cNEwdb3sLfFZUO1+ktvHRGMgaB7MQ+5IO1r3Mo2vsw1b9qeiwBD/rKM2k4Uzwo7GnR3+WZW8BwexIMYn4wkm8VqPfCo8wnDzKExhitWeo124KLz68OWn2NfBFPXbkuUvZP15ZkD8BZcTYELQly/xh70fovD1D/DD9/+ITzEC6bd/LfQgNiIa6P+BDZx274NTMhUahRkPpgL3TEEOn8k+wXTA/7FC8/AUpIcddCeIpBTkrmpF60Yziid4YVuzCPnLLGyoGSMDli3Xy+1zdmXftrmrFWWJkuvcpOKlVmkm92r0Ff3HgJWqPibq+qBbJmPqvYoyvgTrPjagQN3XhumH1V90j9QtYc8mxg7ds3s1FuXnw/T2AVanUpAxMTXyAH+wuSMHcyd7YNnWDp8kn3WY+3D09Us+Vl01ypdj9ie9XJgdBrgq5NKPPETlqijWixcvxje+8Q3J8eOBcQtu5w1FfHLiiziCZ3fl0fNptG6OccaaEekZxYar1zRjNMZyszbFvELNLWMhWbx9ykfIgeGd/jm7X/1pyi9QRJrqWhLS8CMhj+JPMjWZ4WhR2VhHjoP0WY0LsBjNVCKhebAABXd40VzbjI5+Kgsd219D7cUCvFlnxrKncqB/UI+M4JniEDj/dw9wWwbujsO+u5cUjP9bpnLsP9RnMZ9EWgb0cOLQx0FD/NN8t4P0vjPZA+HODOj4zEfwu/xEiWs8JKVjRn4qHFvaYNu9DR2T5yI76sgnBCKcjqZGVLbyWZUZg6tkff0OPHHvdWxAeAJvdainZwVffoZPT/MZ4Fvw+P0jcP0fulC7/zP5WgCXcNxyAtW+v8ayqXfI2/P165lYuFky1dnz+3O9+2tzWFz5zhxTgmeyB8qfT2DdLy9C9/C38dNiHZ74h7ugn6Dt1w8maXTfhv4CU6K37YH1phnQ8zrCynzKwxexY48F+3YD2X8f/4Csv2hu0yG31Iz1qwsw6qM22MPZ4gcxcNmSjPEZWvgOHB142wuHZFLR6jeJ6INix5wgu2IJ9s5GZYa5n8j24Cyc4BnkCP2m3E+plXFldj5CP+xHNgPlZios9AHZoUtcakfNqj1IX74JVcZi5GbpoZ+cFvVrYyDjMO4+PlucqFn0ZGTPlL8qVm5qhPvhPGRHm1nxOLDvGKC/J42dpPGlFHAdjrxonwjPVVGsH330UWzZskVy/HhgsIZSUYIJwmRhBRv99s4xT0Iut/OSRqdL8OnUQPtr3MJGupKtsKwoy0InyjNhkE0jej9p9Srek7DkZW6nLYf3/l0Gf3ijHy+Ewf/ZSh0H3vi5zbUym81d9K2GZIWfj+DZSYyfvEY//s+ySQd/x0uAgeWHTPg48PdItuFPMHGmysNwynW0XUG43XHBy0Zk/qEWTy8wot7mgptv8cNdpwOWTVamMkbmsz+dY0KO21LKeD9pxqad4kSFtYEp7+Imz+FG1GzzQV+Y07uoI07SZxYj/WwjVjc45R+w6fahY4cZZr57xchM5M9Ohq2mErZTyksdqP1xs2RPl63YbCYC6V1a2NaaYT0m3uVzw7HRCLNkaxElriqOulj33+2GqzP8vLq0SOZEPSrfOoesmdkxzIgfxVH+lbHLhQ5VsFI4F2yw2WObVRkY12HCYxNhTL4Mc+P/4AfvuHD8tLyl3KeHP8a6n/4KOY2H8Js/ATdOux/rx18nLfRbxPzsx/7ov+8/a+3IP3QZ0x+8D/Pv7BWh/XkmOlpM+c5I3HXqJFb/D1Ou+c53Pi9+s/UYqr+4AfP/IcG/IPPnv+BPX34pzV5J+P6IPbv+ALs4VXP890wYsOvHT6pXaakYqcd0vRvNrP2Oeljvb2PpmTm4+FYtLJdyMCXqzGroehMXp9ph2ev2bzHmPnQA50ZmYHyM7S8RskVqe7+vx2t1DniUe45ZsbqiMQGLF5niWSlPKMn9jCyvA2T/rWPlfieKaUZU1H3m4t24KyeW3jECuhLZFlsVb6UfDtdvQpfX22cpTiyuDN8P906IcVdSd4QNQmIwYYwGayhe5i4rTYDJTdumLVH7q0CSMWWGDr5tG1DP7b4YvlM2rF5rjck0JJS8Vr4q2vgan1CLwVn93MK/OHJYP2Grq4fj5nnIy+R3apGZnwvtziqYd7jkdsP6Cvf+ehhp8WJM/NUXX3zRI46HBd7PQs0GDU8kBZUvtBAz1XzhRUndXWwkngD7uCGC9oYb4NqYj9IGoOCn4RYwCphwsG+qRu02Bzr8+7xqoL0jEwVPF2PeZG5964alrAhtWQ2omq2yxu2ywVRRifYLWqRofLjhYSMq7m5F+eE8tJbz3tuB6ukVOFdUwgRYPew8fE0KMhe/hAq+qISHsb8a05cDlbvK0Nvfy89hVeCuBGr4T34bX2qGU4ozi+99uTD+vyXQ82m+bg/sdSaYtznFXqEapD1mxEvlmf5Fd+53ylFky0ZDdW6vfXGXBeWFbcjeVIXcMaHT3Oe5EO9KfbAAZRUF0IkZ+YhxZaqDc2M5KhqYMGXXUmaZ8Ga5Hhf5e9aOD8oXH9pX5cFkz0VVU0nATLMUL/X9l5yof64CjVzhZ3mea3oTZf5FXF7YTHmoHGFCy/JIu4HI5XB0qciDfpaVxJcXYLccRtXhz/AbZYvm667DlNQxKH/sXtX+1l/gD7/+CJVMod2uUuq+mTwSFdkT8Zh/MaGa/jzTyx/ea8d3f/11bHrx7/y7ekjmGfsd+OFOpuSKifYbvzESq2Z/C1PEhtfSc0dvwi//KQPflHw4f8TP/v1/sWv8t/DTR4UC7j6EZ9Z34a7HslFxv+yFAx9i0vY/4+VFfBeSyzhi+TUWHryM6/lKyutGoGzmaPzJcgp/UyDvUsL37D7yzq9QeOgLaRZ9wt13YcP8O0N+/ubb6eWtOo2SDet7F0J1O1GbXw7LtErRNmViqzeukGXsqJqOClRKOyME4/3Egqof1cLWxep7khc+Nggt+WGFWAgcus4EhJcI2cLwx6NTapzQjExH9tJlWJbVd0AZtp/jM9NMoZ0aYbF4aJjy/bxYjJ6gRXtXiz79pGQCwxdAxpsnwch59P7UdWHNOHl/FgiTmQ1MZm7shGYML+l0FP8wD56XNiB5DZfdsch3ds5kd3vVv8C8vUMawGnuKYD5B2PQtNCKB5R7+hBaXiv1Tep398zD+v+YFzBxJMVnx3gUT3Cg0f++eTC9rPQDMnx7SNMqi+gr2D3j9CgoN6JAp7yBCMewU6wv/fnPQ/AXkPqJsIlTE9k+jm8XFLggww83yxhiAjMpKQkjvi5+Oo4XWTyf+dkI2csUE+3IWMbsvfAN8vkitr6bLwR1oLJBmXwpUUQJ03eJib8RCX5nGKK+K1JcfUz5SAqVhwOD/4iGRvzQjB+PDcbCRtxfo1K8riT8R1K+uB43atU/6BKCLy/j4p++ZAptHCs0+/NMNP58CZc1I3B9PJPe/YH/GI3va5Hzhf8ozXU34PpBrtIh601/YPXay9SO/gaVMNnCZBtXhCK1r7D9nKRYC3NHbkYYw+8VyIooe+Iq9RHyF05xEgA35+jHJJI6DwTcBCbqmqYIqOMYLqyA/iwY3l/52MBtoE09hrrRh1Dymg9eC9lgb2kLjNIsdC8Bin4s72P12ZcUZ5y+4gw7xZr/Xr+PCy5iyMMXQmi+9jVxdrWJcTaTuKJ0vL0Ii/53LppW5SR0gSVBXDkSL1uonxt6DK3+LDK+djPy1oxCZdDXRE7IGXQioQz2vEfC4RWbjxyJoQ0vo6ElhDTQ3pYCbeyrxojBxufAjp1fw7z5sdhoE8RQJfGyhfq5ocXQ688i4Ubbe4ehWzgr5GLw60ckI+UWTRwLqIl4GXYz1pwvv/wSl9lo/poxCbnG4ELoeja6vy7Kj2UQBEEQoaF+bmhA/RkRL8NSsVbgn8u40CHBMzTgAmh4jewJgiCGNtTPXR2oPyP6y7BWrAmCIAiCIAhiqEDfNgiCIAiCIAgiAZBiTRAEQRAEQRAJgBRrgiAIgiAIgkgApFgTBEEQBEEQRAIgxZogCIIgCIIgEgBtt3eNQFsDEQRBEARBXF3oB2KuMbhyTZvZEwRBEARBXHmGpfZFSnV4eL7w/CEIgiAIgiCuLMNOsVbMP4jw8Pzh+UQQBEEQBEFcOYadYk1KdWxQPhEEQRAEQVxZrhnF+vTPlyMvtxYHxfmgcKYVP8jNxTqHOI+RgzW5LG7C1QxqDP2QYk0QBEEQBHFloRVuV4BJpRa0WF6FQZwTBEEQBEEQ1x7DblcQ72efiSMBn0VeXIsj4lTB8LIFS3T86CDW5b6IVskXmLB4HX70+Gj/c3flGNBqla/6rzH4DHhJnRKqASstJZgU4pne90RDxCPnVbSUThJ+Yd6D02h9fgnev4up4uw90lXVc4HPyISKh/aGG8QRQRAEQRAEMdgM/xnrWwz4kcWC2sUT2AlXTPnssKJkcgVVKLPc/2UDjtQtCTDlaD0+FrXi+SN1LZIpiay4Akvq5LBaJGW3F+WZlTnseHMre0s/cdSq3rMOS+5txYrne8M7Yj2Oqfwaizesm9B6hnky5X4NU6q5Ii0/Iw8IYlPuCYIgCIIgiMHi2jYFObMf73/M1O1vC7VY9x3JHOP4p72qsOEpA/gc9ejHVwkF+jT2v38EyCmE4Rb5nmCUZwbKwV+1AvdOw2TpPaMxeSobHHx8Elx/lggbhwm4/VZxSBAEQRAEQQwJyMZ6uHHLZEy99wjWLeaLIZdg3ccGFAjzFYIgCIIgCOLqcW0r1reMxV3sT+uvxE4cjg/QigmYqo+kiIqZY8X0Ih7EriF5KnOOSNxyO5+h3o390nuUmfLvBJid9MHRIinTislLsJkKQRAEQRAEcXW4ZhTr0Y8XwsDU5hViWzvZjnoSltSVYIL1RXmru5daYXh5VVgTDwVuFrIyR5kV5m4g2/hxO28ehlhAKeLC4xf4niVYhxLUqhY2hkSXJ9tii3RKLkZFniAIgiAIghg8hv+uIF8x5IWVd4ndQxiOWjZgOM4GEH0HDLQrCEEQBEEQxJVj2CnWl/7856/2j5+E2F5QvU2gQlJSEkZ8/evijCAIgiAIghhshp1i7fvLX+Dz+cQZEQ6NRgPN174mzgiCIAiCIIjBZtjZWHNlkc/GEuHh+UNKNUEQBEEQxJVlWC5evF6jIeU6DDxfeP4QBEEQBEEQV5ZhZwqihpuFcHvrr7TNtYAr1DRTTRAEQRAEcfUY1oo1QRAEQRAEQQwV6JcXCYIgCIIgCCIBkGJNEARBEARBEAmAFGuCIAiCIAiCSACkWBMEQRAEQRBEAiDFmiAIgiAIgiASAG23R8QNbe1HEMMPkpcEERrq04hEMiwV6y+//BKXfT7qIK4yXBDxH6O57jr68EEQQxWSlwQRG9SnEYlgWNYe6iSGBrwMeFnEiueYHfa9oZ3LI27qgwfWlUUo2uAU54OH94QNjWurUb2hHW7hRwyQU+2oX2uB0yvOB5tuN9o3VMPyUeQXenaYULTSympXYkh0eImE5CVBxEa8fRpBhGLYKdbK50xiaMDLgpdJLHRuN8K40ozqGqa8Brk9vxc39eEyfGfccHsHV9h591dj4fdqcCBpHDK+dTdGCf+B4tpcivqPxMk1gwuNz9QjlqGOa1cVGt+pRpP9CmnWx3agarMF1VvsUN7o3b0aph2BKu/lSx64z/hY7UoMiQ4vUZC8JIj4iKdPI4hQDDvFmjqJoUdcZXJ3MV7f2ICGIFd8n7h+VfDCvtUC7ywjKktzkaVLgUZcGRgeHLK74B1q2tZAOXsI+z7xIpahTlrhG6iqboBxmlb4DDL3FOON6io0GLOgvNH1URs8l661QoiNcG3zYE0u8nJlt84hPAniK4C67v/g56eFbyCkZxAD4dpTrM+04gexdhbx3JsoHLWsQS9H6xlxfgWRBMrzregjSgaYD4MhhHwXvPBeiKC6dfvYdXZPpJnsSzwM5qJqgBdx8SJTAseOFueB+LxyOL4wyVSu931PF7pOikMVUtqC7+VxVXn6lGORzoB3x5J2QcRwRP6ETJfyjlDX/9CFTnGoJvS7RmHcrTdK3iHjwAnnz+MXnER+b4h08zJQnh916ziINzK88JyKkk8+OZ0xZKdE1LoZJbxw9cWff4xodS7Wuh2xbea8ihaLBUt04nwIElZmETJXog8T75CV0QH2XVejzw1iUqmF1ft1WHKv8AgBKdbEQCALfSIxdDvR+EwRKt52CY9+csoGU6EBhvmFeHppPgyFq9H2J3FN4N5pQtHMPCwsfxpPL8iDIb8IRQuYU2xcvS5YVhbBMIeFwe4pzDOgdKPTbxoQwFkLyqcXofow4FxbhOnTp2N6mUW2sT5rR+0zPC4LWTgLkTezCKadKuvrTivMC9n1vDzkzWEuj123iesf1aNoTgWaLwCW5SxMHm4V700cqGX3GrcHWnE76tjzL1iFbTe7J28RGh0OVLO84GFXbONXvHC9I6e9cKlIOzfJCGtlIYdTv9OCCpYHPBzDzHJYTnnhYGk1sHAkv7wK5iceYXTsMGORuF9yC0ywdcnXnBuKkLesmcWEhcnTxFz1fn4lTJz5QHKOEdaz7Jakc2h7KZ89L/JXwov2VXnIX+uAL0l4CTq2PYu8+bUBJifubRUsn1l4asuOw7XIzzOjXcoHVf6etcKUnw+zPUTZSnjg2FgKg0GkU11+oTjF0jxzOvIWsrxfnIfpM0vR+Ilas40SXqT6wmJlfcEA83YHmpf33hNcNnHVbYJIAAd/Vosj95aglg3CWiyrYLhFXCAIIiTXiGJ9Gq3PixH1YiYEhC9H/dmn99OPuF/c2/qSuF5zMMIz0Ql4ToQlcxDrFP+XWoWfTPC7emcEVGliLpY4nP75clU4zClxkGbJc7HCyo4/rkWJdJ2/J4Z8eL4W6/zxqGUpCYO3C0dPuOE83Bm5k/+TC45wCxe7O9D4khmO9Ao0vNuChk0taF2bj1R1gB4rVq86iayftKKJm5FsbYJJfxHue4vxpjEHyVxRqypH7blZeJOHwe5paTIjY0cFzDtDLC27ORdVuxpQcjc7nlWJXbt2YVd1LlJ4XF4wom2CCS0tTSycJrTWzYVnzbOoZUo4x33wADCzCi3vsWfYcw0Lb0J7ZT3aL7GL9xWzuJmRyw5zV8nXd5XHMzXoRvOqTUD5erRsbUHlrBR4d1ehvM6DWTWtaNkkp908wYoKsy3CojkWznYfylrkONQ8+RlqS/NRo1mGJh7v99aj5A6mDK+1iXJjZfi/LCtWt8hxfq8BxTe1o3Jju2T6kb6Q5edKKVWo5NeZK5ssPcjoG+dAUpD7wwroPqnFa9JAgRXnTjPM+7NhKs/0m24opD6QhZQL7ThwQniw8O22TmhHOtBm702xs90Kr3469COFh8LNOTA1rUfZRBbvpQ1yenjZiss4bMW+v6mQ80HKGw0rvy1whJys8sDyb9U4PbsGrVtZ3jexMqguR+atKqOhKOFFrC8CW80maJ5W8p6Vzd1OVP9IGQzEWbfjRZpNXI51Nb1yRJlZlGWBmDlWzzpy2fL8cjGjyWSFkGexzEiGlZdCXnEnySw/KjmqOP9sdnh5GSgXBzbjKsW5hqVTCS/4/QEyt1fG/oDlkRQv9qyUV7HMwoedKValNai/C3xGuKB+QHYRZHkAp3HyOPtz11gEf88LV34B/sxF73PD5R0/kcvcn2/+Z2TC1qHguhJwjSAGl6uiWL/33nuYO3eu5PjxQDlYswTrIEbUdSWYIPw58mcf4V424Ejdj1mDHQ3D6733Gl4W10snRXhGuhQWLrxXHFdG9a/CYH1RJVBeRKv47MrD88MEyArrBCypE88wL8PL8oyAlKa7xDMsnqhj51E6q9GPr5LvF89MYHGQntGVSH4rc9hxwMxD5HyQ+JgNBJ7i/jx+rWgMp+CPzILp3V1oNfXatobk7B5sDrdw8ZMdaD6RgnlPMYVKmb0cORZpt4pjTqcLTuhw/z3inL1t7N3jmNZyERf5M11taLKNQsFz85CqhKHVYe6ccbD/0hFW6dcEG1U7tqHxRBbKF+uhVcK5LReFWR5Y2+U51JTHjDDOTvNfT8nMRrqvC+cuyOcDZZShDGUPpjJFUgtNkhttW2wYNX8Z5rHkymihmzMP4+y74Ijwzpyi3rxIu08H36VxyDbo5HgnpSIzK52l9xDkbw0pyDEakXuPKMWkFOm679NzOCf7RCQwzsJTTXIWjMsz4ap5DZaPbKhc42LvK4E+VKW5IxMzbnNj3wExq9tlR9sxPYoL9XC8r5RlBw60e6GbytIjncfBxAKUqMovbRqrd76j6OCz6324zPINuOjxwCsUZe0d6UhVvzRKeLHUl/SFy5B7h6iMrGzmPZXNFPY22HkY/azb8XEErcenSTKCy4vWzTEogB8DU+tk+XD89nXSc8c/jfxUWHnJFcOXWv2ySJJZgoM1TI4q8kuSowasfN0gKXxh5SULb03dkV7ZlogZVyuTiTw8Ljc/roUlhkHEkbsKUbt4Ao6wgUKB9NxJRO5SmGLIlNC7RLxrF0M65+ph+P6O9TWVTHEVfQ1/nyTvuTyX8vW46Gt4vrZiRRTlXh6QsHex8gUrH7WCGr6/61+fGw0p30R4sG6S+uNIcQioK3G8hyASwVVRrOvq6nD+/HnJ8eOBcRB7WaObMHVynxG1hHoEHzRbHJa4nzmN/e+zcbh/Npg1anEFZ/bjfSaYDN8O17Dvwtg+gl5Ok1+YBc9KhEU1So/5mSgw4ZQrTbROwhImoH70eGg7ZIlQilQwIRYvKgsX3UcOMeVAj4w75POQ3Hs/MjVtaFVMMro70L7bhdRMnTwTeaqTKd5u1H9PmF8IV1TD1MbPL8a04I7j7jzK7rXBNDMwHOMOwKfejqnbB88xB+w2C+o3tYW0Pe4vuvRUccQ5jc7DLF4bFwXEZ/qCWqYQe3Ex1oRJaPoqvcHP+zxwOeywvVOPzbtjT1VgnEOjnVYOU1Ynqp8zwznDiJLJ4VRipvRPT4HTZpdmbD2OPXBNm4qcrOnQs8GEnSukXQ7sO6VDtj5ZemJAfF2Lm8RhX9iAY0kubrQZkZe3CMYaCxzCPCYsocKLt76MS0M6K+FObg6SoLodDcNTsrIaO70y7K7b5SePfBpJbQwvL0/bdzO5ZcCD4T7uhJg5jSgvbxnLYqfMkMY6SxsFv0yMnQm3iwy6dyzko+M4GSmLHB9IeaLM7JawwYFMlP6O4X+XCjlfjzDlXA4v8EtAaOSJGmGLrEwMSQpqhP6O058+NwoTFuexHoghTRLxwVHkONxyO1PfxTVF2SaIK8U1bmMtj/qVEXzAbHFY+vOMQHlGuIhKKEf3HWmWZ4UiGIIE9oTF6wLCi7zISMyMK6P0gJmMa4gRmagwTYG9ahEMXLHI+xfsm2DCv80VCh1TGDVMFSl7S/7cHuB+kotY1a/rueKp6TV3ULvWpXJBeHavxqL8fJjePsDUnRRkTExVLZobBDRAenlTn/js2lWF3JvFPQOl24P2NYuQN9+Epv9l6uyYDKSnJjhV3Z04sN+L5JuT4d27D64I64RSp8xAyuF9OHzBg32/dCLzH/TQjNRhymQ7fuXwwb23Dc7J2XggAXp1NLSTy9DwbhNqvp8F7ZF6GAvzUc3iECv9qi9MEffxgdD17DhBdXvIEKe8nPRtPlsplGemsPmVLUFoeSlPCMhyXJa1w0fRUr5mKq4kIL19GY3JUyfgSN0SKY+4Mh44SDJgpT8s5sRsf78JWX4D6D/7Q5g6pB4UyPmRoEEVQcTAVVGsFy9ejG984xuS48cD4xbczhuPmCGRFlpIR73II3imeG6OffQc6RnFrqvXNGM0xvJpEfGJKgAxYyJ/Gg0M7/TP2f3qz1V+QSfSVNcSvzAQMzqh8mGok3LneKY4HEVHxJlAFxrX7EPu6la0coWCKTqVpXokKzOwd2ZAx+459PHA5u+Sx2dA63PgaLgpxUvtqFm1B+nLN6HKWIzcLD30k9MizHgqMCUp2BY4JtKQwRQF12FnwmYmQ+HbWwNzezqMG6tgXJiLrAf10N0RPVXx4NxgQvM3S/DGJhPmoRmmSD/+c8f9yBzJlGjbHuw5mImpk7mZRDIe+K4Otv+xwv5rJ9K/rbtySmVSMtKyCmD8ySZUZHpgeT/GHy7qZ33xHGQDD+UrToLq9kAZuGwJLy9H3y5JS3k290wrGv0zq7LsVCvPvYp4DPJSmunk5ipBs+nK7GosNs8xE19fE5JbxzK1+gjW/Sw4RZH6u4OwBJi99E7GyPkawZQvLiL0d4L+9LkysT4TPQ78Hm5+IpnERPtCQBAJ5Koo1o8++ii2bNkiOX48MFjjqSiR7ImlT1xMdPaOkSchl9u1SSPWJfh0atAs7i0GFHA7woCFFFGeCcOkUj467v3U1qt4T8ISNmpXwnv/LoM/vNGPF8Lg/5SljgMXCLLNojybzV20RTfsmad6Z3Qaby9R5YPMpCdYWvzvU4UXMh/iJNZdQXxefCZtVxbopG3FJmUjd6QT9RtscHPdodsD59vVqD8mPanCg8Zl+dJOIBXmalSvrYdlvzANGZmJ/Nla2NaaYT0mFBCfG46NRphtcSzwmjgLxfe5Uf+vtXB4RDgeF6xrKtDIFy/6fPAyd1lZeNbthm3TFqb29OWoq0O67urkVrBMQdZr4Ny+TbaL7uazrtWo2Rls5B2MFpn5udDurIJ5h0vOL/7s/noYIy5ejA/fJVYWly73Ku9dNmzeGjJV8qCjy4WOOIx7fY5qmN4eg5IfzENKUjqKl+cCb5v8C0L7ko4pM7Swb6qHY9pU6EfIvsn6bOjaa1FrT0f2g8GLJPvSeewkvN1edJzob0554dxhhVN53MsVXEA/MU14RCHG+uJs2gJlXabvlA01Gx1IfjIPmTzdiarb/UAtOwJlbP8IKy+ZArwyR/gv3o27cvzSUpJvymxswDOR5KXaLEEyFzBgpdreVkx8IKrNczTU8jdQzvcLJpN/xGd7lRl67iTln70nSn/nl+OSE/nA8lWy8Vbn3wAW9EXq7+Lvc/uXd+Hj0Dv5xR2fuZ+w+J9pNxPiivFXX3zxRY84HhZ4P/tMHA1/eOOXFl+ImWq+GKOk7i6sjPrJb+ih/WIfTPPNsOuNaAqzgNFRNR0V28RJEHznDL67hPeTZphfqIed7xOsSUFm+avIO/ksKi6Z5F01vEzxfrEG3hmFeIDP/F5y49Bv9sG20w7NgvVY/2QqU1o8sNeZYN7mFPv8apD6YAHKKgqgCzlb7IalrAjV4ysDd+7gW5tVvYZaW4esaGq0SH+4HMvKs5Ca5IOzoRwVGzuhGcNTy5TEH+bB89IGJK+pQu4Y/gC7ZyO7p4EpwiwOKbNMeLNcD62nHavLmXLUxUPVIG2uCeWjN6Hclo0GadcKB6qnVwAiT9R47LUwrbLAKfZR1ozTo6DciAJdyBzvG87+akxffhRlm5Q4stS/U46iteNRuasMuktsgLSsAvUnWHx5kJOK8ZLBA+N/JuMNZUcNdk/9c2yAwZU7Vka5pjdRpneFjrP6fVoWn8VGHM1fj6rZijLsZfViISr2ZqNqUwnSg22/OYdrkVdmgd7UAmOmMgDxwLo8H6s/LxN5piCn+ejSBv873DYTnjW3S4MPzX1lePMnudDwNPvzW9BlQXlhG7JVeeNHVad8I1jGsPwfx8rNvFj+WiLlYcTwotUXuQ5aJxRj/P5GWDt764byDok463Y4eSnJHrw6jBZ18fUjL+L44nVipvo0Wp8XCxYHmIZgOTxs4YOIxfKCR3mmOjjPiF7k+vP+1PB5o73hBnFEEPEx7BTrS3/+87WzeTvfVihocQf/jBfelloWlCE/lHFbs6vUSSYlJWHE17/OOn1+IvsNGB9X2vrO4jrWGlDRbe6zdR1X2o1JlX77ZwXfJabSjog2GxwdviOERsyWBtDNZyI10Ia6puDzwpcUYpcMPjvMlPWQu2dEg+WPLynEIsREEUPc+A+aaLQDz9srAi+nblZOCYiujynVmpH9DChsfZEV67YsMSAIU//VxFK3w8lLSZkUZhaRZU4/EUpeKJMRbs7RH0VPHWcZbjM8gEkIRf5yc7yroFTLEykhcwhL6vqze4kYbPBdPBSipC3xcRj6qOtRuLro79MIoh8MO8Wa/4Z/wK4MxFVHwxQAzde+Js4GF89OIwo3aFDywxJkS7/odxFd+7egcs1R5NRUIfc2+T6CGF4EKdYJguQlQcTPlezTiGuPYadYc66pWethztUY2bv31qO6wQbXSTe8I1Iw7t4sLFxaDH3w53uCGDZ4YF35LPb9/RswzUjsUkySlwQROzRbTQyUYalYf/nll7js81FncZXhAuh6NrK/7rprfNdGghjGkLwkiNigPo1IBMNSsVbgnzl5Z0EdxpWFCx/u6FMZQQwfSF4SRGioTyMSybBWrAmCIAiCIAhiqEDfOwiCIAiCIAgiAZBiTRAEQRAEQRAJgBRrgiAIgiAIgkgApFgTBEEQBEEQRAIgxZogCIIgCIIgEgBttzfI0DY+BEEQBEEQXw2G5Yw1/8ED/mti/Kd6h/qerDx+PJ48vjzeBDFk8brh9opjghimeLs8oB9xJwjiajEsFevh+CtiPL483lHxuGDfa4/sjnnEzURcnGpH/VoLnENZebyKcXS+9SwW1diHjFLi2WFC0Uorrona/lE9ihbUwylOQzIc6mckYknjYHPBhsqF/4LmE+L8K4xzQ1FC2o/UDq9ouTpRv6AIph3Uz4XCvd/C5EQ1qrc545PVQ6F9fkUYdoq1Yv4xHJFmr1n8I/L7PaiuYY1GcZUmGFeYUKn2290lbr7yuDaXov4jcRKBWO+LjguNzyRGGLh2VaHxnWo02Yeu5jIYcYypLDxWbHj7RhTn66ERXleby5c8cJ/x4bI4H9Zc9sJ9yhuxIwxV9olrR1eAGNI46IzMQvF8oHFzO4br+CRR+PgXqAS0H6kdXtFy9cF7yg3PpQgxv9CO1UNo0O3dvfqKDATc75Rj0QorOm5KwwMZY+KT1UOhfX5FGHaK9XBVqhWixv++YjRsbPC71wvTmGcOjCq/hoXp8r1XHA8O2V3wRpXUsd4XA2cPYd8niREGaYVvoKq6AcZpWuEz9Eh8HGMri46dW+DQFyBnnPAgrjh9yz6B7egrROrDs5Bma8EemvC8dvndAbQNoUG366O2yAOBhODEtk1OpC1+CaancqC/O1n4E0ONa0+xPtOKH+TmYp1DnEcinnsTRCIHBj6vF94LzAVrnT6miCqvucSuq2/o9snP9HlIBX8mVLjoQtdJcRiRKPcp4V8S55H4Qxc6xaEanxI5kR5/ejlhwx+FcbfeKI4Z6nxix6HTHJqweS9QrgfES02sceTpU96hlF2YfPPxaxeCIxRLmbnhaO+A/rt6+NX5WOpQuHiEyhuev2EyS7o/9KVeopRPf94ZUDaxtAs1yv198puHLfzEPX3qQNj8Cyr7MGXnD58hlbk6CvHEy8f/9r1Pgpd5mPLlRK3fYdMoE7K8OOp6F6XM/e8IvmGMHtkTHdizP/45ayk/w74wkHjuDUdAWUbJ07B5piJquXAU2TOwqIcOpz9tLlwdjID3rDv8ZEs42crfpzwk1S1VCLHEJVx9gxeeU+GfCy2XwxAxHj4WFjB+XIo4j0CsbSdcG48lD6OFETEt1zbDblcQ72efiaMwcGV5cS3uetmCJTrhF4547k0g2hsuw2Z+Fk0jSmD+fiYijTv5p5+iteNRuasM/ih2WmE2VcPWKSqsJgWZFa/DlCU3OOmZw3momdiC8rXcDitXen70ThOeX2PH5ZtH4XrvOZxLGoVRI9gDaU/hjRU5SPa6YFnzMmr3XsSom2/ExbPnMObJSlQuSIeW22e91Ay3upHMqsSu8qCMi3Rfdwes5hdRvdsNjGQqHLtHoy9GpXEe0kJM0HIbQeMWd4BwyF21C2WTHaievhrJlcvgWVUBy1kgfWkDqrJOo/4lE5o/YgJculuDtAWVqCpKlz+Z7a/G9OVHUbapCrljlHzKgfk2C0wNLvmZoLzsQ5S8h9eJ+ucr0Hya5e3/397/wDdV5fn/+OszfUwcPhM/7LSr0FFblVYhlf3VZb912E8VPm1FmwEaBDo/bPtgC0KrTDv6ISuan3ys4sbBKYO2y9rQhX74QnFtYWlwbHCg2UG6MmRlyYoEpEFpEVNgm4El2iFjze997p80SfPnpk2Bwnn6uJJ777nnz/u8z/u8z7nnnqqvoO+CV5AlI+9vt6L8LntceRTO69QwlHajaX0nXGImg585a4a+sh4OyktKUh9c/WkoX1eHEm+zsjrr74RxzjZkbmnAwjvES4Js/iMfhtt2oHaX2Ikl07Ob53ejhtKyC8ZUhdR5Rry9Ilt0yKPJpqcVS5c0I+fNNlQ8IN4WEK7vweObN2FhyGy5kAfrg1j5V4dQH6l+YqYZJu5PTdA924WKlloUJnvg3FWLVxptuJycglv7qV1MWIjaN8qhCaOTGPDAvs2Amncdfr1U3Uc6vK4EGtaWEEE303ZQvXqx0qiCucYMp1iYYPkF1v1/RmpHE2CuKsOxeQ3I2l2N+k/pPru+IiP+fC3/BSb+37fgrm5B7eMBVojpw3wjYGiDITfkZbOH4qk0wHxJjdTxXvS5b0XuqrdgmEHPC/n3omLVZeyOpKuKbFchaid1wNBo97eR7OpNqJ0r1Tk5MrHqzNGoQ3V/zVBdj4DnpBm1r5pg81K7HaD4MiqwyViE1CQpQCA9ZhieM8ExTkpbsqOqghexicqpHJdYl48bkfp+DZpPSqWdmAt9bQ3yWPtnXCKb8aKB7lPfMZ7ySs5V+k8N+FU19R1y/iS7w8Ik36GGx50Gzd12qvUqbK2ncghhoth3IZLwCHUS2AdFi0dRmwPcNhMMa1rRM45sFkiGqhzo11KZBfvDdFWPLtZu5sl1LuOGZU0l9SGBH6hqxDYzToFtrUtGbbUbxlVmikl8Lp/amv7FVvSOp/r0Ul4GmO1mD+ThxS2kU9H0rd+CmhX16HQP5gZTJJlHssv3hbQpie49NXipjtpNkhpqsjPecTkof92AhfdRZuz10OrNAWUmwtlyyqt9w9Mw7OqD+o4UeKlubs014C0D6YqS9sl0LaYM1TAucaN+rcUfR5AdI6LX700Ac6zH0nHx0qUwx0nf9oqZvpkzB4839ov3DqwNvl7ZfDJseOFY2xnlmdA0A46ud3yVFE5Okx1CHBXv+D4LDCcd3357wte4kO4vbPSdCFPGwONM6zOUh/W+jwOvmV/1vdp6wnfxinT+TxRm1qu+310OeKZotu+pl3b6Pvnyou/ixW98355/z/fszMW+Roccz0XfR7+c7Zv56m+leC76fvfqLN+sn7/jOyXF++3Fj33rF87yPW85Lz1D51TO9Yek+xGPcOHE+Gc+TWXuk65dOeV75+eU5vO/9Z33hws5Dq0fUn45/tkLn/WtP3DKd7Hvou8byvM3H2/wPf/3H/nOSPm/+NFa32wq8zufS88JcT3j2/mleC7K9gnfSwGyPLFpMcmS0pNlEHLEkv0nfz/bN8svUzq63/E9Q3nY4qA6oPN48yiez/I99VbAM7991TfLH+a8b+fPZ/oWbTwhhmf3nZ/4Tl2UnldSZ1/upDyu9X0UUGZZNus/uihe6/ut79VZVFdFz/vek/J28QDL+2zfhqPSM1Flc9733sqZvll/9zvfNyw+6WDymrnyvbD1r6R+lKQ5++8/Ee7JR2CaFztIlrOeGZQ/6enHv34isk5e/ti34cUNvo/k+rn4kW9t0Uzf4uZTUpjwuinX4yKqx/NSXi9+tN73BF179Xeibgyp+7B1d8a382mKv+gpkssnvjMU/8Vv6Pow8yXI4m+ozfvj/9Z3/jfPkv3Y4PtEymfg8fFb1IZfCtDvLz/xnXBJv2Pqaqz6kut8lu/Z1lOi3OjaKQoTGIeSOrtoeZ5szU7fGek86tFN+j8rQNevkKxmR2gzVz7xbSCb+EzrGfH88u+oXcz0vWqRno3rEOty5sKXfDsdctrUN/wNtZNffyydn/JtofPZZFNkmX7b9xHZ5Zm+J96W9TqCbWVx+2WgxL6HP8Q6kW1wrHhit7lvnVt8iwNtCx0sjVkLZZ0TddUv4zCHkKeQ+lVmW2f7nnh2ve+jz6nd9FG7Y/VZRG3wtwF5YTr5N1t8J1i7YvHE1DexHoPzG8suBx9CGqTjjbIe0CHo/aznfb89L4W7Qm06hly+/Xg9xfOS77d+PTjj+8Qh1a+C9qlMhuHs2GxqL5Idi1m/N/5xTZaCfPDBB1iwYIFwsN8j5WjDcmxEBUxmM9oaKzBZus6YWknX2HV2vKLFicZfo/38BGjfGAyrfUW6Xzk1yjPCrfDcPg2P3A+0//6oeH6+Hc0WivdJLSaIV0LIQPm2fdi3rZx+xU/qTw0wzMuAWpqtSM3Nh8bbi75L4rlAfw5K9UXQTKTRr5rGmj1OOJCNB++T7tPY8q5JaYDrMi6zeHo70GJNQcmzC5Euz4Kos7Fgfhps/2If+YdAF1j8QNHfUJnHS9eS0rHwqSKobE2wDOMr/hRtFaqmp0M9Xg0V5VmVXQFjZY5/lkmdk498dKP3gngeliklqAiQZcaMPKR6u9Ad4Znosnej64QHGVOm+O/jjkxkUh7cl8VZimHlEYWoXBHwzPRHkEu12XOWnV2Btx+47HbDI71mVd+tQXq0KahQzvZQbCpBhkGQbBbkSBGNn4KsSV54p+tQKM2kqaezvHtwrEtczBpdNsnIn5MH7G1Dh7z2tb8TbbtJJ4rzI7+1iVE/sdJ8uCAHnt1t6JRfVwppepE3h6XpQscOK1IWrQyYXVMje/5CpNn2wR7YnmTGZaNiTQVy5NlEdQ7yZwDd5/4gXRAJ1U2RQqykepRnGdU5C1AyxYvO/4j/01zvtFLo52mQSvGz5j3cfGm0JUg/3Yw9/g8ku0kmdmhK50Ljz/cg3n4v0NeHPukcEzXIuE36LRBNV2PVl8SUCqycl+6XW/q8UtIzBzpsTHGU1Zk6OXSmMxIk/20m9DxuQIWk655TR9DlScfEoHJJnDwAy4V8lMqz5+PuQjoLpxLb93DQFFegiM1KMpIykDcjFd6ubiopcXQ3mk9rUL6E9F6uj/E5KFmcDfe7kl5fsqHdSjq9oCTItmZmSr8ZCuy7+1Tw7lPOcGvUY8YTq80B9t3N6M6r9subkTqX6viCBQdOSheGgTLbmoKin1chJ43azXiqM3cXjl3KQFbA66nUe0hwp8meClU6DBshEI9ddqNjF3WOc5egXNYDIn1eJYrG2dD0frd4IYlstPgrMl6y0RSfvz0lpUJzX6B1jd4+lclwqB1bOMkDy+9FOzZa9TuWuCaOdWNjIy5evCgc7PfIOIqD5MROfmRaeCdWWketY8fL7dLFGMT9DDnq5ETD8hHlBjhn248T0GJ6tLeQTCklxRwWA9R8Ttlhs5rRtK1j6DrkSVmYFNiI738QuaoOtO8VzLWwLKNzvxPpudnia0LBuXKh6akCFBQMHmUNTuCby8GvoIZDD4s/A2mhr4LuyoSG0nX7e2rlZGvSpV/BeHsc1DFY0LyhBXEvn/+BGj+SfkYkouyTkU1Oi8O6B07JsHlsB3BAlYcHQ94QjyiP49QYXImbisLlRbjVaoBOtxSGBjPso7lpTDgHYiDgo50oeqmaXoKSu+1o2ikaYPf+Nlh/XIK50+JwSsLVT5Q01bla5MGK9k5xaCikOY7a9XSW5jn0HKeuc8vSIJ0vWGyCk1yEy9GUvr8bDnI+LNvr0RKmAiPpZjCpSKc+3HtCcqLiIGPKJP9r1yDizVdaIcrzvDBvt1J3THy6B81f5aH48fCOac6iKmSfNmHpHB2qjc2wno4x5A7SVYlYtiuUpLuovIDzDAs5gjoLR78NH+714tbeAzAZ9Sibr0XpGy7k/8NbwUsZZP5HMiZSbfkdl9OdsF7IwU+mxqHDMVCpBzXc9UUX2d5MpMsDJolkUhw1pAGJ8xhsZEWz7o+SBwX2vXd/wM5TdBz4Snw0CAXxRG9zLnR3UShrDbQBzxc8ZoCFnvYm4Pu/6LY1G1l3Sz8Zt2Xj4btp0PYBaQ9zgAc8sP3rAagefZAkyhiuvsVjl3vQQwPbjLtCPJikNGTeT2n/IXhwHJVpT6JqmhOmJVronjWi2drtd+zDEq59EvH1T6nIzKJnaDDovgr1OxYYcx8vxsdRbFxmwonC1/yzz7EZzjNE9l+TK92Og/ZzOPzhCUxepoM4/5143PvXYWlxMWrePUJqnIqsKelhG0cQ43Khr3kYtrqlosLr/haHJtfgVwukjpacfBVbc/bOPuzbF3K8WSTMNIwK3svCbEki8JxshWG+Dk83WtB1KQWZf5kV20mOk1iyT1/wGqqSWlFdqiWDQp30xssoebMaucI619HJo3paFba+14KG5/KgPtEEQ2kx6u0RLf5Q7kijmiejF80AKyCmXialo3BBNty72GyWODOavSAfSlzQSMRMk/ReN1cN274DZPTFNNOLHx+cjaW+XlPdMlTn99WhKNyMpceJVoMOuhUmWL7oQ8o9DyErXDiFCFvbp6YgRTwdPsPOlxq5c9lbo2Z09HjR+b4ZmKvz6+sQ7ihCbVs7tq4pR1a/FbVPFaN6t/JhwbBsF8HkpJIHdQrqzH22S/wRi0t95J6mIvt/PoT80hq8/U472v7RMDiDHModhaic24P6ZdUwGqtRXNWMHy6rQt6oGcgIXGEzk3GgwL5rlgTsPEVHeeC3EDJK+omobe4WMY55tUOf39eOKmVL4sMyPNuajoWvVAHvUl3OoX5xTilMnhLUrchlaiYSr42QGLFdphq+/I30UylJqSha2472LUaUT/bAun4pileaqa0pY7j9k2DH/vutJKrRq9+xxDVxrJctW4Y/+7M/Ew72e2TcjjtpVHfiS3GtxtF/JqdY+DXI5Dtvp/+fQ/t2hTPWRLRnjjaIs9nBu4lMRdGyyWh/eTk2fqZFyezwi0BGTH8nGtYegGbVNtQZylGUl4OcaRkKlN+J5vWHULSOGh1TcmrwtZWDr3NwTxaN5Z049llc5lo5GVnIgWNo/OfYrh+aoTPZcdMNyxsmeBa9jU1rVqLkcZLL9KwROW1DUCB7z34TTH+mR8t77YIhCe6kRzGPScnIyCuB4c1t0Oe6Yf4wjuUF41MwEV3oHslMt0K9TJ6hE2ez1jcLM6M69tHbcFGYprDc4fAOdOztxO7T2VjwqCzxDGSRoXceV/6HFrrffx2myyV4u9GIlWzLq+k5yBqu7g44cOQgde2T7hrsxIfJiPL1wOMoubsbzdtq0b43FSXaGB/gJamQOq0IFWs2oa4sBY69NmUd93Btl9uOQ6eAnPvYwjllddZ7rgfITCeXOQaS/ZuYlQMNWx4QsyLUyCYnq40cl+rqF1E+NQ0P5yhddhI/qZOzKEUbjoUslXP3dsOryhSXoaSxgbHT/zo/LImy7wrjidzmkpGZpYb3CNkb6UpiGK5tJeez0YRkfQva26lfbG/DJkNRwMf08duIIBTZZUojB3AcPxWcxoC4K5AmdCZbAao7slFUacSmdSVI+bQDNkW2fZgylOxYqvAWbbTqd2xxTRzrxx57DDt27BAO9ntkTIBWX4HJlpcEZ3c1tPSfjOjsnmhcTveW48tHgtdf43ZygAtBzrC07KOBLeSI8UwUJuTMEMMW/nWM2Wo3rMYyVK7vFF+/xgPbIouOK/L6tQEXrNt2kKlTghvNK4tRtrgMemM96jc0wXxY6hLH56J4nhrWDUZYTknN2+uCfYsBRmtwLruc1GQoXWdP9LnmoHBC/MmwNtTCKm9NRB2m6det8OYVIz/kVWcwXehib4F7neiOmOTXcP+B/s/WgDIGPHC+uw0W8SwxKJV9Zy1KS8tQ9owB69hfyNpuRbfw6ng08uiBY48FDrmKPKzTIydkSvDq/ah1Nm4SsqY4cWQkf/JPqWzk2SwrW1MYZWZUCUrTTMvHgmlsV5Vm9D2qQ77fl1cjt7gI6r11MO5xijP2A164DjfBYJSWRoTw9X/1kYM4OFvIZni27ZVOYmLB5h3kEAnpuOHY3gBzfw5K/E5HeJS0t5HlKx35C7LhoTqxTVuA/HBLICRc+82wye2X8nTsSB/Uf5EZ24FlKK2v483YcVCSPtkga2MT7LcthE7YoURJnbnQ9YnH3wZc7xuoLZpgDyc+YSmAC63URl1yXNZ1KJu/DjYqptduQuViAywBjglbxmI/aoPNdhw9F51obZN3L3HBsprsun83Ey/sjZUoW20W4x4OU+ai/IE+NL/Z7G/j3tNm1FIa6YvmIpsNDG57GIXTvDD/3yYxjFSG+r0Bo4Q47HtUlMYTsc2RozinHJqvmvA6lUHeTMN9yoJ1eipjPHL6yokzZFc9p7vhHhiZbe2sLRX6xcrVJDey2YNLKJTbiJ5TZ+gZD7pPs6vK7LKImEaytQ61VpffPtgb16G1Pw/Fj8YxcDvbCfNBKQ7CdewI+sZnITNq/yqjVIbh7Vj5T0U7lrD6HcPcGEtByEH+pfyxYWUFltO/8vZ5E2av9X+IuHw2C7cWWjYZLRH0oaL08aLSZ4Zs0ffVGZwg13r5E7EWgbjRfZQ6SltX2M47KmTYShenoXNNMXSldCw24fLclVgY67Uv24NrggZFK/SoqqxC8U/SoPZ2YQd1BEvfZWNLFbIrG2Cc4Yapii1jKECBdinqnVnQTpOtogb5ZRlwNi5FwWNL8UqbI8IyjnDh5Ph7UbdMir/YgCNTa7BpVS6Zlgho8lEyia0Zo/BLXsHuiM6fBnNX5ML7zlJoi8ugK9aj455K6EO3CxsJCmR/mQxHxoxyVK+oQlWZDpof0TVytJcuMqKzfxTySEbec9oCQ2kBtPN10OoMODbDCH2eLFEldZaK7Nx06dXtMIlDLzV57JVxeuyZ0VgoTlP6cNKrQtFPA17xEqrsKjQY8+FurIb2MdKxx7RYuqELWdoc8bV2CJo51cj9YzOW6miASvLWW9NRWR0cZ0RUhchXmcRXzo8VQ9+mRvmbhijLCJS2txHmi0jO1YKFlj8wC48HX7uPwVSpFXWN8rQjpQK1ixTWo9L6mvQwkn//t+KSNW0ZarvzYayr8C/fiVlnPZ3YfZwc5mlSGyAHoe+kGQfCzj6wpQAG5DhrUSbEpcPTu9WoaliJHBKe1+1Cz1knetgyV7bVYKkWv9hEzgpZLPU4NR6cW4Rbd22GRfi462sa+1P4L9yD9eR1w3WwA8J3l8MiFUWv1aHidiv0xZQ/kon2mR3A/Dq8VTY4C1yor0Hh162oZmGoDK+cycf/WRHYQSmx70pQGk/kNoeJRTC+WYG0gwYUa8UylT5P7ps2N+wHs+FInU6DchXZvfkF0FWtw4Gzw7StA5fBPhjNXVwt9ItLyCYl4zIOsCUUtZ3CACm2jUhFzjwq4x4DdEx/3jyA7ph2ORg5jd4NlH8hjWIYPtGgptGA3Iid41A8X/fhGNkL7RwddGRnlu5MRsXrJWRJlKBUhjl4cCDAjn1AaQTasQTU71hnzO1j3f/HP15/f31R2g9bcKobg53wUJKSkjDuBz+gBi1fkP6NF9ZwyWipFc742TdooR8wDtn30l5XAENSLdqDjDDZQxq1qsZFMErsjzgkBe52EIEo4aLGHwb2hxRUsd/TinLph7gTymgRSfYXzKhe1IF8tqdq4AxBL10vpevvSGvyRimPXrYvOPvSPRyx6sxtoY57Bx4Ks590XCjQS0cjGWN3NdpoQJUQCcTZFiLi9ZKMwuyOEgb2xy7Yhz9KwoaDklK+kYTS9kYMN1/uvQaUvvsg3v7HhQpen4+w/FHqS9y7PF/cB5jCkUZHTyNMnTkaaGBxSR+gX25YDA24dTU5KdF0JEL9y3XVvbUMSw8vQEvgNyf9IXvAh+Z5wAHTymN4/E1lco0F22lCFaMMShQrXvsbiRHHo6SOozCkX2C6FYdtde+uRvFeSd+kawxBD/fnB9c1I4KOCLC0B0ivQ5KOapfDES0NpbA/EMMGf8OpmmgyZPtYr4J/T/OY6jbC+h2rjLkZa+aYXnf4Z8yjO9UMf/7ZPyMpCjW8eByJtPuyoTrYBvNxl/TXkFxwWuvRsFeDCl3o1Dsz3lFai0phhxolXLzGWJFTzWByGZY1iYNIsk/ORNZtTlh22tAtyJiOHjtaG5rRO3cJ8uWZuVHKY1TjHavOkgux5GeX0dRiE2Zphk0svSRHpG2Xd+gs1kiIsy1EhHoIpR2ASj1Mp1JCsVPNUNreiOHlqxsd79qgieND0hGVX2l9UbiYaYTWmceKlh0pKPnZoH55rA04VFAZe9lRhPqX6+rW2yYAZw7hwCka6JBHIbTttXXozC1GvryePSTPzu0NUFUkxqlmRHWqGQoVKxFONWPE8Sip4ygM6ReYbsVhW5Mzs5B8yoIdB7ulftGD7sOtMLX0oqgszNubCDoiwNIOk3RcTjUjWhpKIZsx7C4mDhnGVLcR1u9YZczNWDOuy1lrBfhnq68RroNNqN9qhfMMOdfjUpF2fx6WrCgf3PuWM3IukWO9uQHbDzvR5wZSbstA9qJKVDw6uHfvdQv7M7bMII9iPtl61+d//zDeWFOobF0uZ9Rh64if3ghUratAdiIGKCPAvacGv/i3h8S/BCtdixtyjrxsn27pVHg7mAidZmtO95rQ8I4dTvdl3JqsoG0nKm3OqOE5aYFp43bYv2D7s6cg5Z5sPLm8AoWRdoa5mWF/WflXkP4iJScSY9Kx/u6773DF6x1TzjVzqm+h4d33vneD73DI4XA4HA6Hc5MyJh1rGe+f/iQ419ezg80canaovv996QqHw+FwOBwO50ZkTDvWHA6Hw+FwOBzO9QJfl8DhcDgcDofD4SQA7lhzOBwOh8PhcDgJgDvWHA6Hw+FwOBxOAuCONYfD4XA4HA6HkwC4Y83hcDgcDofD4SQAvt0eJ274FoIczvUF33qUw+Fwrg/4H4jhDBvWSfI/esPhXDv4H8vicDic64sxadm4U319wOqA1cUNDfsTroub4JBO44H9eebhPjs8HGhaXIaaPW7pnBOI67AZTRvqUb/bgbi0dgQ6MNqMRVt4U9gNDodz0zLmHGv5lSfn+oDVBauTG5YrHrjOeuJzxCSu9LuH/ezw8MJz1gV3/xXpPAyXOrFujQXXi+vt2b/uqgwEXLuqsXS1Bd0/ysBDWROhkq4rYgQ6MJqMZVt4w9sNDodz0zLmHOtIHcnRhiLoisRjo126yBkZ59vxgiRTXZEJR6XLofCBzhjiiyPoOO9FFNf7quL8tCP6QCAhOLB7mwMZy15GzZOFyJmULF0f20Rsd3aT3xbqGiK12tEl0B6/8Jtz0tVguN3gcDg3IjeMYy1Q+BrazGYsz5bOxxTn0P78tesIz/1m1dC0b9filyTPtle00oXwxOogvR4PPJfoCDPl5w246I0Qxk+/gngGvEIYb2CW5Of6pXMZFlaOS3puSJhAlIRRQrhyeOk8QuGZ/ILKI+fjUvjw0fBccEWeeVUiJ5bPwHSV5EUOM6R8HrjPRn5O0AelZfTnI0RWAl6KC8hMS5XOoyCUj45IycrpRNKBROiavyzRyx693WmxhrXdyqnSucxRbGQO7/PtZHESAYtvFdrPS6cSUyspbfNGLL9fuhAG7lhzOJwbEf71yM2OMCu9CodxL52cEZz7SDNMcXPJjqZntNDqilG6pBg6rRZL13fC7e9PXbC8qIXR6oT5WQo3X0fOfZjXDQMuWNeUQVu8BE9XP41SnRbFi8tQ5l9PbIdJtxTNdjvqS7XQUTz63S4x/Wd10M6heFncc7So3BqwvpbN7C1rgm3/OpTRPTlM2QY7uXyBeNG1tyYoTFA8SvFQOVk55pf6y1G5xSGm1WvBL3RPo7VHCDnIpyYU62rQQY4hw20zoZKVf9nTeHoZla20Btaz4r3ouGFZU4zitTbgeD3KCgpQUFANcy/dUiSnZtgP16NYy8Lohec8nzZRXnQoXSHlZb5YJ4PrkT1w7mJyk8IspjDP0D1W4AsW1BQXw0jZcWwoo7xQfqrMpBHEWTP0cwqgWyLGWzCnEs0nI0vbY2f5oLpZVIrSUkqDdGHdfml5ib0e2gLKL/00r2JlpqMu3CstD+yUD622GEukuikzkq5Kd2PqQIJ0bfj1qwChrb+Edul0pAiz0g1ncCdzninf0d5qcTgczs3CDe5Yi7PALzSYBpc0yLOywutSeaYlYLaYXX9+lRTehI3SK81Yy0vETobCy+kEzQhJs0TSEei4CjPFwvXl2PiZdFFAylOYZ8S8D94b0dIXYVb6fwMfUndr2Q/ozfjl7AnSzREw0I3mleTQ3KnH1g/a0bazHft21iDbVoPKzcGfgdk21OLIjFps3dmGtsqhrxvce9fB2J2HurYWbN2yFW0tNXjI48KU0rdR87j8Wt+F1rXbgOpNlFYbauemwvvFIXRNNmDTB/uwb98+tBnz0btlHcyBzuvZVtR/+jDeek8OU4gr5Aw2HQ505DrQcVKLN+Qwhlz0bGmAhTmlivGgs64apr65ePu9NqkcRmTt0cO4l9y3tHwsmEYyaw+WjaPTAs+0fDzEinm6GX9r6EDW6ja0t2zF1pZ2bJrvRq3eBEfMyb9kFK5uwaYVGmBKFbZSOfbtq0PRRHIZFcrJ+A6px2aqo521KLrNgeaXW5H2XAvatkl5WfQjuL7/OF5uLAelAs/+OlQ3ujG3geqfhdnZAuNkC/RGK9y3FaKmZROqpgCaFVuFdPfVFyGVXFnzr+pxbl4D2neK8bbVVyP3xxFWRZNMfkE6m1ZNcbRT3qiO2lZn49CaSpiO0/3sKrR/YEQh/fSnUx3mlRY554Zdk6AnPW1hdfPeJry4QENSk4muAwnRtRHVb2yO/rMJ975ixhomjAQgzEr/5AzZrRPY+OVfo81cgdD5cQ6Hw7nZuClmrE9YPscjjdKSBsu2Ia8th0AO7iONr0GLdnx+50ahI/r8SwWzuBZyTqnjamuswOTPTDALDi9zkF9Cu7RMheXhRCM50eweOcgVjcBylreQ16ZHGyjMvdIzFB/kZ5iT/nI7Ji/bKN6jY0RLX4RZrF9TgUk2hTOA2gTNWB/djebTGpQvyUNqknRtfA5KFmfD/W4bOgNeg3unlUI/T4PU8Wqow/hPPafI2fyLB5Ehx6O+Cxk/Bno9l6ULIinaKlRNT4ea4lFRWFV2BYyVOf701Tn5yEc3ei+I5yKFWLkiB8n+MAuwcJIHlt8HOriFqKQw/nimP4JcONAjzSS6T9lgOzh4OMN9i9fbgRZrCkqeXYh0fzmysWB+Gmz/wmYtk/FwQQ48uwNk09+Jtt1e5M3JFxw8++5mdOdVoyJHLd4nUueWIv+CBQdOSheGgTI5paDo51XISaM6Gk+V5O7CsUsZyNIE5OWeTHIO3fAIdehCxw4rUhatxMI04TahRvb8hUiz7YNdmoEfyhV4qfyX3RSP5Eyq79YgfTCZIOzvk0ymlKP80cFlHuqcEpRPc6N1V6c4Y5ykiv2xotdLYd3ok/OVlArNfYFrsaPrQCJ0bbTqV4Y5wolcJidMJvz+LrJbk7H8zo9okM9nrDkcDufmWApSWArt7dJvRdyLu6Tw994pzt6e+DKWN07cX4Gi0I7r/GF8SI669ifSXE72X5PDLjrqR39Pjvj9MzBtSN6O4qCF/rG8JM5KLzPhhHiDuF149cqc88EZ9xEgzFivxTR8Tid3QftGYmasXV90kaOSifSJ0gWJ5PRMcq96Bx0YImPKJLoWGc3/Jxeq/e2wyjPEPZ3oOJWOh6cFr5nN1qRLv4Lx9jjI4bWgeUMLYk/upyIzi57p6o68c8Y4NW6VfjJ699ejvmHwOPCVdCOQsz3khrnQ9JS0HEE6yhqcwDeXBQdQnatFHqxo7xQXB7j3t8E6jup/OnMLXejuolDWGmgDni94zAALPe1NwPd/0eWUjay7pZ+M27Lx8N0OdHzgFB3gAQ9s/3oAqkcfFGar2YCy5zjlesvSoPIWLDaBnsDlwBcCQaSicHkRbrUaoNMthaHBDHvENwMkkxMUUWY6PRVIMtIzSKNcfeiTrsRk2pOomuaEaYkWumeNaLZ2+x37sITogMzwdW306zfRCDPWlXfhS/amLaeCBvl8xprD4XD4GuvrmMBZ6cGZ6QmC8yvMipO7vXEZOV4J+OBxwuy1YT50GgWusJnB+FDl6lGTa0PtMq3gbGj1h5BV86uAmdDweE62wjBfh6cbLei6lILMv8zCj6R70RC22P3vtyrekk2zZKuwtEM+yh+QbgSSROUgl7PqHXEZQNDxZpG45GBcLnRz1bDtO0COVjc6dtiRXvw4NMIM5y1iHPNqhz6/rx1VI5iJHJ6c0rHwlSrg3WoUzyEHcE4pTJ4S1K2gQZAUgv3QVLeEyW8dim6TwoRBPa0KW99rQcNzeVCfaIKhtBj19vi0xhvvPslJqSha2472LUaUT/bAun4pildKa74VMHJdG736HV2mYjkNzOObuOBwOJwbF+5YM+xtIeubE8jtdwmfBbb/Xl7b/RHaySV+JGcCbr9zMvDZGQiTzkF5kGel2yK/WhVmmqXlI5+fGVzPLW+Rl7Cv/odH6uQskIuIY6elCxLu3m54VZlIj+JYDeFkM2ptRah7r11wNNpbalGRE/iaPhzdsLxhgmfR29i0ZiVKHs9BzvQscgdjMODAkYOU/xiz6HFzTxay4cSxz6I7fBptCdIP70DH3k7sPp2NBY/KOU5GZpYa3iNdVLJEMkw5gZzPRhOS9S1obyfnr70NmwxFYBPFIhnIImfQeXwYH3kykpKRkVcCw5vboM91w/xh8NpzkVRk/gUlePhYiEzccPV4oRoykx0b1R3ZKKo0YtO6EqR82gGbonX0idC10apf5chb5PHtSjkcDmf43LyOdbaOnFJpxvdlQJugD3qGMhXL2eyyvKzj5XZoXxFneCbM/t+Uh3asFq4H5oHNSotrvIV7wiEv+wj8EJJ98DgZy/VaekJCcuT9Dvu1YspclD/Qh+Y3m+GQ1lR4T5tR22hH+qK5yJbWmSrmQjOqi9mOE3oY2V/P2xxtiQDja7j/QP/vl9y6AQ+c724DW2ETjAWbd5CzLyxncMOxvQHm/hyU/zS2axkX43NRPE8N6wYjLKekPHldsG8xwGgNWHQifcTYtL4ZfY/qkB8wftDMKYfmqya8TjJ0S1G4T1mwTk8yjufjtq+cOHOJXOPT3XAPKJVTeDprS4WdQCpXr0M91cvgEgo1couLoN5bB+MepyRfL1yHm2BgHy+yIBI9p87QMx50n2ZXPXDssfh1hu2kcowGnDlTMqQLwQgyId1Yt9Uh7jZDaXTvroXpcDpK5sYxzXu2E+aDLv9Wfa5jR9A3PguZIUuZwpMYXUtY/UZA/lB6NcvYZyZU0O/A7ymEgT6h6HsSDofD4YTlv3377bc+6feYwPP119KvYNhsy2q8dnWWM1znCLL4vAKmNwIc7pHAdiEhx39NlDWU6h/+UPoVANteru51mMjZEvwEVSpySl+E4UmNNBvsgrmqDB15W1E3L/LcItvWzfCPHhT+7CGksPPeYzjyb1Z02FQo37wJC9PsqC/QA2v3oWqa+AzDZa3B87Wd6FOnQjXwQxSu0iOzvRrH5rSL4Q7Xo2BVH0qWeWHeYhP2GVZNzEXF/9Gj6D5p6lUIA9Tuq8KgmxY+vVDYX/sr25A5+Cw5U7bGGhh3O6Q9jVVIn16CKn0JssezcxFvpxG6GhuK3mxDRciyEs9JM+p+aYK1R/S8VOM1yF+xEivzmHMm5qtrRRR59lpR85wRneyjunEaVG2oQ45TiZxCZMC2QDS+jg/v00GbxmTVh65/P4IDe6zoya1B2ypxSQjbPq5mrRkOaU9mVVoOSqoNKMmWNIDq6BfStnaqB6rw9rqHcU6SkXcchaHn0hbQ+bLBj/5CGSKTiZTGC5TGA1IdKpCLP45eFdRJHnhpIOTXAwU6kBBdI6LXbzCRbKGS9hoW9rZrmbhzSGI+cmQfbi/Hh49sjPjdRli7weFwOGOYMedY9//xj2H/sIDgTEpTRNqEdQyBsJniCHvAsh0/rgeHXuhQ2QeRCXKqpY5W/HCS/cGJ8B11UlISxv3gB9JZeNhOD6px0klckAOjJQdmTagTyxwbA3k7Mdafsj+2QWmrw203EuIwsfWuKqULq0eIt99L8hhBYlQuikHY/WQ4sD+oowqUSTQ5hcG9uxrFe/OxVdgibxBhMLE/Hy3yunEZtusG250jXH5Z2gPk0IYk7SWnWsV2IFHKCGUiwP5ADA37FIohmETqmoKyRLKFfjvAUGSbRAeYLUVLlO0MtMfsW5FwjrUSu8HhcDhjjTHnWHv/9Kf4P0zijCoq8hBU3/++dJZo3LAaStGgqkBNZT7SmHPe3wvbzlrUdhVi0zpy7IbrSIWdieQo4rgJxSuP4OHVL6Jcw94jAH1OC5pqW5Gi30yDoMFZWA4xCro21m3h6NoNDofDuTaMOceaEXGmhnPVuSqzTgMu2LbVY7PViZ6zHqjvSENG3hJUlQ7uGzwsPm1C2a+AF7eIf9CEEx+ekxaYNm6H/Qu2rV0KUu7JxpPLK1AYsLSBIzFKujZWbSGfreZwODcqY9Kx/u6773DF6+XO9TWGdY63qFT43vf45jIczrVgLNpCbjc4HM6NzJh0rGXYq1DWoXAH++rCOkZ28Ne4HM71wViwhdxucDicm4Ex7VhzOBwOh8PhcDjXC/xdHIfD4XA4HA6HkwC4Y83hcDgcDofD4SQA7lhzOBwOh8PhcDgJgDvWHA6Hw+FwOBxOAuCONYfD4XA4HA6HkwD4dnvXIXxbKg7nxoVvE8q5keD9FYcTDP8DMdcxzFjxP6TA4dwY8D9sxbmR4f0VhyMyJlvAzdI5sTKysiqm3wX7QSfckUTjdsJ20A5Xv3Q+XNifZ15cA8sF6fx6ZMCFzs31MH/qkS5E4KwVxtXr0Nkrnd/AeD41o35zJ1xXqekoS88Ny5oy1OxxS+cjJdHxJQ7uVHNuZOLurzicG5Qx51jLr1FvFlhZWZkVccmGzasrUbnBjrDu5BcWGFZvhu2SdD5crnjgOuuG93quhlN7ULedHLsdNr8sPPvXDXG43IfbYD1oQfvRGA749cqlTqxbYyF3MhYe2HbQQGN7Hfacki6NKuHTc26vRNOn0onAFXjPu+DuvyKdj5REx5cYbja7xbk5iau/4nBuUMacY30zdk7xltm92wDDbpd0dpNyXzneqq/DVkMe1NIl56cdQxyu5J/Wom1nO4yPyqHGGF8cQcd5L7mTsVAj77lNqDM1oPw+6dKoEi49N47ZnPBcXz7vVSFiGz7fjheKiqBjx/PtOCdd5owh5DpsOCpduAZcpTwcbZB0lY4XfhNeW/kAknOzc+M51pKB2WiXzqMRT9hrSHyGKgOFczPgbHgd5rPSpVgMeOG55KEjyms8L7tPR7Q3fXI8UQOJeAPCeGOk7fXESDtC3lJ+nIZbpd9sBtV9NkwESSqox6ukkwD8MvEMnZln9+So5HCxltcEPiPkNzgvggwiFdCfl6H3PRdcGHI1UlrjUpD259IAoj9Ceux6mLKwOggrh3BhZZkFpifQi94z0s8IyHWt6G2IAtlHjS+KXIejn9HyHL0NT8byRjPa3tBignRlTGE3kaO1Cu3npfMbmnNof/4aO9HXkKmVpKfmjVh+v3QhDNyx5tzs8K8MxhBuqxFlz6xDZ9T3/ipkzH8RFfc5Ua+vhz3GCofuPTUom6OFrrQUpYu00M43oPVk4EMeOLZUQqvVoXjZ01gyXwt9S5d0T8YD5y4Wjw6lK57G04t10D7TBEfEtO0w6Zai6WAn1pWyNHXQUbza0pD8XrKj6Rm6ritG6ZJi6LRaLF3fGbCG3AP7hjLKWzGWVD+NUp0WZUa6L9yjNChew/su4IIFNcXFMNoAB4UvKCgIOaphDlhj7bE3oZLi0i0imZRSWSiv6/YHCJ05EsuaYN0ryY7ln/6t3OoY6uTKyM/s0guyFMr7rBkuKmO9LANKU7uKrsnlG6DybakW4hbSYM880wyH4EiytcTFKF5LhTpej7LAcghpNcN+uB7FQlp64brrfQP9NpFkyBn8rAlLdKWotwfk+HQzls75BcxDJqK8sG0ohna1lSQ+iH0DxV1qgiOgH/XsNUC7pBnOpOD0hHX5lI/WS4B5lST3uoAR7X/Jdc3yS8fiGlijrHt37SY5Pibq25LiAkEuzkDhR4svqlwZCvXzgg0mlsaiJXi6egnFV4aavTf5m6Kbkdu1+KWZHM7KqdKFa8D1kAcOhyNwgzjW0iwCe0W1zIQT0lVG4KurwddXUngpbPvL0n1pFiL8M9ERnmkwYaP83POBr3WPDl4Pie/cb1b5r8ea9XGfscN18hC6/lO6EImkVBS9ZkQRzDDUdQY5Q4F49hvxdK0beW+2Yd97bWhr34e3F3nQ9KwRVsmP9Oyvg36rCgv/oQ3tLVvR8l47qv5SvCfDwlQ3ujG3oR1t27Zi684WGCdboDdao6z9daF1wxE8XNeOffv2Yd9OIwoHzKjZbBed04FuNK8kh/BOPbZ+QPHupHA7a5Btq0HlZocQA8gBNuyaBD3da9myFW3vbcKLCzRIFu8Oclshalo2oWoKoFmxVUxPPtYWSYEkyLn8hd6MtGoK104yeW8f2lZn49CaSpiOS2EYZ1vRclKLN+g+i6fNkIueLQ2wRHEG2TNtA1VoZ+l+0ICFHhOWljZApW8R87K5AhnkDNdbpRrzOnHImQXDZimvbUbkn2vCut3ddDMZhatbsGmFBphSha3s/r46FE0UH2VpGd8B9JupDDtrB69LqLKrUPMzcnLXkuPLHMoBB0wvNuGHla+h5G4xzCAq5PwkF7D9XgzLGLDjwB4V1LDggF8uHtj+xQb14w+DchXMA+WkF0wngaK1Unmqs8V7hGPPISQ/K8mByeYHnahtifAq6YIZr9edI50U9a2lrQ1vV+ViYsCLh6jxRZWrjAL9fNGAjsk1aGtrwdYtLWhvXAD3+l8E68lwEWaByZ74bZFsG0JmTP2zxeL1F54X7ckLZIuEpQFBdigMwlu7VZTOoB0KfIMXbJ9MZMlkAmzay+3SNQkhT+GeCbDT7IiVt6hI5ZXLyY4hMmEnAfKSyvqCkIfBMiux74NyWI6Nn0kXiaC+wj+LHbsuwj4XV10M9hXh8yASqf6i9ldB9Xf9v9HlcK43rolj/cEHH2DBggXCwX6PlKMNZOxQARMbsTdWYLJ0nSG+upKOV7Q40fhrMkgToH1jMKz2Fem+NNoP/4xwKzoW6mCEuF6D9jMT1vud+JfQXvhaQHyUX2asyJCubzwxmL55LbS3CzGFJWMxOQoftChbI6vORtXr5Ui1Gsn5DDeL5kbHLiswdwnFN/i6Pn1eJYrG2dD0PnMyyFH6wApvXjFKAsNkZEq/GC507LAiZdFKLEyTLpG7lT1/IdJs+2CP8qFk4XNVyJG94PE5WDA/A549ByC4zUd3o/m0BuVL8pCaJIQQwpQszob73TZ0MgfP6yUnx40+OQ0aUGjuG+JWx4X9/WZ0TylH+aOp0hUqTU4Jyqe50bqrM2BGuhCVK3L8eVNPfwS5lPOeqMtvCrFkQbr4MykDD/4F5f/H+ZibLck2LRf55PzbTzrF83HZqFhTgRzZKVbnIH8G0H3uD9KFaKSg6Ock3zR1+KUuhGbJr1D+QzOM5CzaN9fAPKEKL84bLHcgqpxHkIdOHJHGNLAfgOXHJJfHSe0PShf77fi9TY3C6UPc6phoiitQJOsYySZvRiq8Xd2kXWEQ6v0y3H3SACRJjfQp6f619Iyo8SmUa1T9tDP9zEP1shyoZf28owileW5YOmUhjZR2+o/ZDfbq/QQ2/nOw0xSOE/eWwrRsMk5YgBJm3z47g9im6wTaP58h2M81hZTqdsnJIgerohHiMhUhD+1YLThgQ22aH+Ycvvy59AyLT36GOXm/JqdUizWCraMjAUtfTlg+xyMsLZYHyzYFdvoE7n1SlGc7JFl9GeOhIXKQrhNiX0H2XjoPJFJdMGd39edSf8WetbwU4NxHqIsofUXEPESsPwm5vxLyZoJZcKBpwEQDpcnLNkrpmLF8cPzL4XAUcE0c68bGRly8eFE42O+RcRQHyXBNfmRaeCMtzAJIo+/QmZVIDOcZxv3UmQtG6HbcScZXMNjnD+PDz8h5/4n0ii77rwUD+PmXZN5uvwv30m9xxjxwZicKcieuhLtL8NqKDDg3/AL1h0PnrXvQ8yk563eFSC0pDZmUd9cfmJPhxDEbOSlTJiG8a8Y4h57jFH7L0oClFXQsNtHTHlwOfD0fg9R7sshp6kL3BYrviy5ynjKRHjLTmpyeSQ5Ur+hMT3sSVdOcMC3RQvesEc3WbnhGtLzPhe4TlOHMdAS7l8k0mCAnzdWHPunKEMapA9Zzx4FqqGSHrNXt74bjoA2W7fWINIk7lGxkDZl5DiEpHSWvVGDiLj30705ExQtFg4OYUMbl4JE8Lyz/KmbA8W8dSH00B0W51PvLzqbjCDrHF+JhGhyMFJX6R9KvMNxBg5p5t6JjtQ7aJQaYdtljbiEYNr445Rqknz1MP62omROg83QY9jC/Pw6lj8pkLH8ivlf7k++UvK377yIrxPgcZ2J71tA+OdTJPfp7sn33z8A0IaIJmPbIZIA5h6E2LYBztv3kGtIgYJloP1eTbZaZcKdg7bCa2dWQmdVhU1gadTJiKJNx54+lX7KsPj8z6GyGIVgOyglfF+dw+MMTJEdyeoU+hgYowr1BwtXFcPqKiPUn3CX8/VUgUt/VuJzSif4GlcPhhOcGX2NNo2+23CPczEpEhvPMcJmK5f40xA5HyWvJeEidZ4RxLmCubYo6ezyIF5e/kX4qhXxDTbX02j3oqEPRbVIYJQwwh4Qc1MhePNsMeHDWmC15WduO9i1GlE/2wLp+KYpXmsPPco6QxDlLceBxotWgg26FCZYv+pByz0PIikeeCnCTM+wcn4xklROHjkZbvK9Czv/Mg3f/ITgGHDiwNwWPT08H7nsYhWwm+zRg/1cLVI8+DE08g79hoUb2iq1ob2mAvkCNY9sMKGPrn/1rpGMwXLkG6OctrIyqItQO0fl9aF9xs0/xBcxKs0Oemc6uEM7ZTCwsL93cjpvcv0jHL2eHnRYKYPT7CpHAt7nSAClRgyAO5ybhmjjWy5Ytw5/92Z8JB/s9MgJmh4mj/xy8xpohzhycE16rKSXaM/Katohrz+xtwjo8YUZHnmn4vWSc7B+RWZyMR3ICDKnQ4Yiv8mK+lowbckKWGMT11hs66EwmA1k5gOP4qUFHlTEg7tygEWay05D2AOA8E82AUzzkRziPR/lwTyGOfz8A3JGFSeNpQDA5i/JqwzFy2AJx93bDq8pEeoAjpLojG0WVRmxaV4KUTztgi7bOOSqpyPwLktDhYwhcbcuWzbh6vFANmckeXbrffx2myyV4u9GIlU8WImd6DrLukG4mArcVtesdyF+1GQ3PZcO+vta/tj4cquyfIOcSOdG7D8Dyo8eRw5b+JGnw8KOXseeAGYf2A/n/T/zLQIZNcgbynjSgboseuRfMOKBwBcZw5Rqon8mZpJ9eO7p6pJvXhPhsWrzcfieb4dyPw4JJkmZaC/8aUyWbJrx1C8mDPCvdHMXpE5YuCA7iCXz5lXiNEdOuDgfJFo8EUQ7STO+I45uAu5iIFC1bCUMcfUXE+hPuxkD4GFJa9hJjRp/D4QRzTRzrxx57DDt27BAO9ntk0AhbT6NrYQakCKvJ5DCjIzIVRWyNm/Baazm+fISNwgMg41HC1rEFfbwY45loyK/3pDVq4tq0qVjORv9S/tg97SvS+rjAJSfCK0Et1kT5qlvZriBhYOuta6uQwbZSky4xhzu3uAjJ1jrUWl3i8oMBN+yN69Dan4diYY1xMh5+PBve3ZvRdFxM1HvWinUbLAFLQ8R41HvrYNzjlOLxwnW4CYaoHy9S37K1Fd2SN+4+3oyG3V7klBZCWIU8ZS7KH+hD85vNcEiReE+bUdtoR/qiuchmM4ZnO2E+KOWdcB07gr7xWcgMWT4SSM+pM/AMeNB9OnzONHPKobnQjHVbHeLuI1SW7t21MB1OR8ncqzsT+fV/9QH9gzP0npOt2LZXOgnkKyfOXKL7p7sj/9XNIbhgfrUWjjwDKnLUSH60ChX32VFbG6XOxuegIMeF1m0WpDyaI9YTocktxOV3TDD3F+JhBSLqctKwZcAFZ0+kz2pj4HHAskeqH3b62TE4QM5xhngeC6Vyja2fLjT9nQl2txzICct6PZoT8fFiRMjePUkWTrAny/HhvVrl9ilOJsxeizWF8rIO6TsWwT6RTSPHWLaRQXkgx09YVyzck2ybNOMZ9CEdW2JX+FrQ+l3BESREh30EZOuENdRCvl8GtGyGfARMmP2/xfXJQr4D42NrzVl5pOUcko2PNTCYWimu8ZaXyyh5JnJfETkPkesvGoEf2rMPNSdjuX6MbgPJ4Vwj/tu3337rk36PCTxffy39ur5gsy3CBymjtBet+oc/hHNLMSq3AiX/EOEDxl4zqks7kL8tYHeIADydRhTX9KIi4L7bZkLNWjMc0j69qvsKYfj/rUSuPINHznZn3d/C+H634Iio7iuB8YWJaFliwUPR4knLQUm1ASXyh3lB2FFfoEdfWQU57U2wsWdUqchd9jL08zIGZ9U9TpjrXofJKqbNwuSUvgjDkxohjOekGXW/NMHaq4I6yQPv+FxU/B+99NGamEbXiq2okz7Ic1lr8AtpOz7VA1V4+80ipB+uR8GqLlQFlMUfb49UlolUlheoLA9IOROeAWr3VWHQLxDTw9p9qJomXQokzDP2ugLou6qwtb5ImgknZ7eqDPWZteKOGb1W1Ohr0XlJjVSVFz981AD9pHZUH9ehXd5Rg4V5zojOC/R7nAZVG6gcF8Llj2LfVY2yDZnC9Qn0e2lLJoyNFEYW+FnSn2UmqKu3wfh4+I9A2XZ6urXnULF50+DHqmxHkeJqmGfUDuaLCExPvOqFY0s19FtpAEZDs9S5NXi7+i50UJk78gbriSE8a80PkE0AbJu7vzPC/CnFMp7y5E3DwtVGGiCwPIsyjBpfTLkOVz/V0DxajZXVeUgPWQ4T0W4xh2nZfjzSGP3D5ZsCQRYm3PsK/2Du+oY58zSgemRjxCUsrL/icG5Wxpxj3f/HP16XG9CPpmOdlJSEcT/4gXjCij4aa1jZTgtJKqgixT3AZvii3JeJFY9AiBPK1i+H+YgvEG8/BRknnYTC/ggKuTvq6FGIUDk8A+SIKwyrqMyjDPsDJOzjyGj5YH/QRKWoUNcBVF/epOjlUQSrSy/VZSS9iEFkuSZYP4mIdktyJoXla/ePjv1gM8UVjaEL5BjsD9NcDw696KgJy+euiVPNZmmHfkQowNZCx5zlvXkQ+jnpg1T2VjacYx3UX3E4NyFjzrH2/ulP1+ZDsmuIijp11fe/L53dCMSY3eVwrimJ18+b0W5xbk5uvP6Kw4mPMbcrCGuwbER8s8DKeuMZKRXUd6RCfYt0yuFcVyReP282u8W5Obkx+ysOJz7G3Iw147vvvsMVr/e6XBKSSJiRuoVG/9/73g2+KyKHcxNws9gtzs0J7684HJEx6VjLsNerrJO60ToqZqD4yJ/DuTG5Ue0W5+aE91ccTjBj2rHmcDgcDofD4XCuF/g7Gw6Hw+FwOBwOJwFwx5rD4XA4HA6Hw0kA3LHmcDgcDofD4XASAHesORwOh8PhcDicBMAdaw6Hw+FwOBwOJwFwx5rD4XA4HA6Hw0kA3LHmcDgcDofD4XASAHesORwOh8PhcDicBMAdaw6Hw+FwOBwOJwFwx5rD4XA4HA6Hw0kA3LHmcDgcDofD4XASAHesORwOh8PhcDicBMAdaw6Hw+FwOBwOJwFwx5rD4XA4HA6Hw0kA3LHmcDgcDofD4XASAHesORwOh8PhcDicBMAdaw6Hw+FwOBwOJwFwx5rD4XA4HA6Hw0kA3LHmcDgcDofD4XASAHesORwOh8PhcDicBMAdaw6Hw+FwOBwOJwFwx5rD4XA4HA6Hw0kA3LHmcDgcDofD4XASAHesORwOh8PhcDicBMAdaw6Hw+FwOBwOJwFwx5rD4XA4HA6Hw0kA3LHmcDgcDofD4XASAHesORwOh8PhcDicBMAdaw6Hw+FwOBwOJwH8t2+//dYn/eZwOBzOGMP7pz9hYGBAOK4GSUlJwqH6/velKxwOh8OR4Y41h8PhjEG+++47XPF6r5pDHQpzrm9RqfC97/EXnxwOhyMzKhbRfcoGe49HOgvFC5fdBtspt3Q+NnAdNqNpQz3qdzuoBMpw76lB2RoLxlZJR8iAC52b62H+VK5/B5oWl6HpU+mUc+0520m6bIYjUhMdCZ82oWxxDSwXpPNY9LtgP2iDMwGNxHPaimbWRjd3wiVduz5ww7KmDDV7EmsJrqVTzWBpszyMCEFfmshKRGE09TUKnk/Noi5dOxFzRoQHjl31aNp/LayB2ObLNkfV7FHlpvQ/rhNGxbHued8AfaUB5rPShSD6YNtkgOH9Hun8+se1qxpLV1vQ/aMMPJQ1ESrpeiCe/euGdJxX+t1wnffiinQ+NnCi+ZnQjs6DzlqFztKpPajbTh3SDhs9xfDCc9YFTwKEEE7GnPhx7qtDM3U4LbZR8FSueOA664ZXqTNyyYbNqw2wfCGdDxPP4XoseaoBR5LSkPWXk5AiXR8Rlzqxbhgdk3N7ZchA8gq8511w9yfOEsjLP641LA8sL8NG0BdP1MkKWV/b7CN04gOIbUs8sO2oh3l7Hfacki5dE8LZ45sbxf2Ax4YWGpA1N+whKSojcX2M2OZdnig6O0z7Eo4bx/+4MRi9d3heB+r19bD3S+djFgd2b3MgY9nLqHmyEDmTkqXrwTg/7Uhox3nNuHAMh06GdnQ9OHZQobN0Xzneqq/DVkMe1NKlRHHDyPgak1H6Furqt8IwI9E1dK0gJ2inGZ65BtRWFiEvOzXs4DduvjiCjrg7JjeO2ZwJGUhG43pwqmVGOy+yvuqnJ6RWBWLbEjXyntuEOlMDyu+TLl0LwtrjmxvF/YA6D/p/rEPDhnJkSJdicVX7mGHZl/DwvvH6YvQc69wiFMEMY6NdmrmMjdfjgecSHWGsiDfgopeFuRTZ1MjxKJ41G/CK6YaN00vpAZlpqdJ5ODxwn41h+ryRyyYg5yFSgGjPR81/eCLK+j97yY0OgUa+fSSDUIbUiXSa8uM03Cr+HELYupPyH1pfQh79A7MYMh6J/EKJIk9/mcPlOVYeAhhpPEFyZOFlOYWLjwiWZQrSfhxQQ+wZOSlBTiHp9rNrdETKTjyyjUVgXmQ5xBycX8bly+SA3TVBOg8mml0RkMsXko7ngmsYDk0ves9IPyMQyz7Fus8I68yeb8cLRUXQ+Y9VaD8v3YvBud+sovAmHJXO4yGmYy3XY4wyRa7vEH2VkcNHUbzwda/AXjPGUbp/HjL4VKqT1Cb8ZY3VPiLon0A4exyFcLojXAuXtlCWkBuRZMquy5eUyiDwmWHYlfDtIELdBcqbxStFqvrzNEwcJ/wMJqzMR9jHELF8k0Ci2hc5rSHlD8fY8z9udEbl40V7XQH0qEXb/zyAJassmLiCRv7zZMfUBXNVGeoza7GvOlu8dMmOphcNaD5Jg8zxpCbkxKX/1IBfVeciOYkFsKO+YB3UhnJ0b65FZ69Ygar7ylG7rgQaueFcsMH0cg1az6iRmgz0XbgFOc+9gZpHIzvF3Xtq8FJdJ1xJaqgHSInH5aD8dQMW3kcG1V4Prd4crPxzA/LNuGBBzYp6dLoDQk2pwtb6ImBXNcqsD2LlXx1C/VanGI8qFbl6ylOenCcPnLtq8UqjDZeTU3Brfx/6JixE7Rvl0Ag23QP7hqdh2NUH9R0p8F7ow625BrxlINnQXbfNBMOaVvSMS6Xuh55V5UC/tgZ5d7Bnw9BjgbGmHtYeKb8B+XFsLoNhhyty45PQrNhK9QmhHo/Na0DW7mrUf0oPCbIB1ZUeXUIYVkZWd3p4nzNCtbsG5lNi5KqJRTA2VCGblbHXjOrSemSu3YeqacJtIkBPFrkiyjh1hPILgurfvs2AmncdfhkE65ioh8m1K+Feq4f5giyLW2PkIZQRxHPWippV1AbcKlHHkY9CjQVmtVHUy1iyZGEO16NgVReqttWhaCLdZud1yaitdsO4ygw3NOI9tRPm9a/AdPAyUm67FZdJdhN/VovaxRrpbYQHji166Em3kZwKNeU3TZMB+2EMxh2L0PwKeVHDUNqNpvXULoV6UCFjcS3qyjRDZ6Iv0POL6oNflcu6EUXXBTxS+fb3kT6q4e31IGWGHm8YsmE3VqJ+vzug7UsyiVYmtl745Va4AjsYoU1MEOTf8Vcr8eCherJz4n3VxFzoa6mtynHGYb88X38t/QqAOdbLTLj3FTOWUzUzZ7miEVjeuBba26UwERDD3os15gpMla7Fg/qHP5R+BeOxN0G/uhnOAbKvSdT5Ih2F+l9h5Qyp9Qm66MVKowrmGjOcUn2nzjPi7RXZop6F6mvMNk/IsqQ+JXmiCh7qM9LKSHe13aiNaEuCYUsAyzZkonYf2Sl2vluPpXUOqrcUqC6RnbyrHHVvliAjzES68OzxQhjvMKMmku0f6IbF+BLpmQsYTxknvVHlkL0xLEQGnYazx0VB7TqAKLrT/e5SLN37ODb940KS/iCOBh2qv6hAy9pCsoUxZBpvu2QM1654yD6ypaSXqCzjvehz34rcVW/BoDkUva89rkPDlDZUb2DfQRVRvS1Ad6ivEanNL78CU9Vw+xhiiF3OQEaSHY5pAWn7YeuvI9uXmG0mkLHmf9wsMMc60cfHv57pm/nrj4XfZ1qf8c2audi3xSnfP+Pb+fTg/W+vnPJt+ZuZvtmv/tZ35ooUpu8j3/qFM31PvP2J9MzHvvUzZ/pmLV3v++hLOcxvfa/Omul7pvVMUDxP/Poj30U5nu6dvmdmPeHbcFQ6DzkudrxKeXvG1+i46L926p8ov7Oe9/32vBTuyke+tZS2P52wh1im0DCs7DNnPuF7qfWEP08nNi32zZy13vexdC7kYdYzvnc+l5+7SPJ7wjfr+d/6zrPzj9dTHl/y/bZPun/ljO8Tx3nxt3OLbzHFv/6jwfwL8l64wfeJLIOQ44z5Vd+rAfk5Q+WdOetV3+8uS2EOrac8U/4Cnvn2S5IjyWmnLHvhEMs8u+gpKt8nvjN9F30Xv2HXxboalIVUd/9fqjtZplL9zvq73/m+8cc/07f+kHQ/IH6/nkSQ8YjkF3pc/ti34cUNgzp2keq+aKZvcfMpKYxYltkLn/WtP3DKd5HK/A3JMWYehhzDjCdCW2F59MtJiSyFOg6oT+F8tu+JZ6mOPqd67PuGrl/0/e7VWb5ZP3/Hd0pO6yLle+Es3/MWUX5h208z0/lQXYlyhOZXyMss31NvfeQv48XfiulEjvOM752lgboiHtF1XSzfzIVU5gDd+PgAhZefZ+336Z2+M9K5skOs27DyX/iSb6csqysnfI1Ul7NC7KBS+3Xx0qWhR9c7vkpK+4398rVO3xt0Xtl80n9vpv94w3cg4JnB6+IhxiE+P3i90re9S447+AjNn3AI9mm271XLYJu9+NF63xNks/xlkup7EdX3ebm+hTCzfK/+jumhHGaw/pW2kyDd7Tvh++hjud2HtyWhh2i/JVvoYnq6iHRdun/lou/UUWq7AeEDj9i2X9K/pxt9J/z6d8r3zs+pzQXaDaHsIfY49IilO+ff8z1L9bDBLt0TnvnEt4HsxrO/CWjL0WQ6nHYpPBO/Xfn4LZLLS78dLMuXn/hOuKTfEepOkHfRbN9TL+30ffIlpXWRpRVi92K2+fBxK9W3qHY5zBHWvihpM0OOKDK5zvyPm+UY9X2S2MyDIc+FphfrYQ+3JuTobjSf1qB8SR5ShdlpYnwOShZnw/1uGzoDXtUULq9Cjjy7Mz4Xj+TSqPvMOfHczuLJQ/WyHBrliZdwRxFK82h02Bnu0w83OnZZgblLUM5mpyXS51WiaJwNTe93ixeSVOFH40qZUoKKeRn+PGXMoHJ6u9AtfAjoQscOK1IWrcTCNOE2oUb2/IVIs+2DnS2/8HpppBmwFCMpFZr7xJGrfXczuvOqUZEzmP/UuaXIp1HsgZPShRBSf2qAISA/qbn50Hh7wy71UIJ3Win08zRIHU+j6yiCKnyO6k4ecFP9LijWwLv/yAg/yhmZ/IYwLhsVayoGdUydg/wZQPe5P0gXRFK0Vaiang41lVmVpCAPEYg7npN70Ho6FQufDGwrdyHjx9LvEZGCop9THaVRPY6niuztQIs1BSXPLkS6nJY6Gwvmp8H2L2x5lwe2D6zw5hWjJLD9ZGRKv0ZCISpX5PjLqJ7+CHJJU3rCfgwtogqje1F1/QIrH1CkpzKPF+8z3cieTuGl00SjKa5AkSyrpAzkzUiFt6ubtJiI237Fye1a/NJsRptwbMTy+9uxuuGo/7pp2WQKpMUaKQyb8QamYrn/GTPWFJ7Axtp2SBY3Jvb3yT5NKUd5wIy7OqcE5dPcaN3VGTBbV4iVVN/i20kWZgFKpnjR+R/hyq2gnUh9SsULAbo7PgM52RHavRIEO3IZ7j6pE0tSI30KtV3xLDzRbL+sf39Tjgy//qVj4VNFUNmaYDktXVNCLN1JfhjaHA/M7w/K3HuwDeb+POiEWVClNiz+dhm/XaG89VMu+/rQJ94FJmqQcZv0Oxr9OSjVF0EzkdIK1xkNq81fXbusvM0o5DrzP24WRt2xZhWVW20U1lsbXjIP2brI9UUXVVwm0mVnRiI5PZOejObwqajxSD8JVw+Lx4qaOQUoKBg8DHuYboRTxx70fBpmXWZSGjLvp/j+EOxMJYwfqPEj6Seoi+o5TmltWRqU54LFJjjJxFxm2Z72JKqmOWFaooXuWSOard3wCDJ0obuLAlhroA189jEDLCQJb7TvGAaoqZyyw2Y1o2lbR1xr+ELJmDIpilGKTGoaOWCsgfdKF4bFSOQXhf5uOA7aYNlejxa7dC2AbE3gC1UFeYhAvPG4ThyjXznIult6JKFkB8d7toe6TBoQPxWQFzrKGpzAN5dJw5w4ZiNnkeo/yngqMYxTR1yzH5NIut7DypeBtGv4ylKlHrQE8duv+DnaIK+9Xo6Nn0kXYyCuvRafW22RLiqC7NMJyndmesgSi2QafJHFcAU4TkNIBZl/eE9Ig44gFLSTCH3KiLiDnMp5t6JjtQ7aJQaYdtnj34Yv0PZH0r+7MqGhUrsjC2cIsXWH+mBtHrC3HZ1Cf+pGx3tWqObqkCsscRumDVPULuO1K0DOoipknzZh6Rwdqo3NsJ5W+JXWpCxMitYZDavNX027PJI2o5Drwf+4CbgKjjVBI9Kq2ipknDTh9d1nhMYTkytspKScW9iITMXWVe3DvpCjfUXoGqdoeHH5G+nn1YC8Ek11y5A879tXhyI2SqcRYtHadrRvMaJ8sgfW9UtRvJIGKLiF7tHj82rDPNuOqghFdu9fh6XFxah59wjFkYqsKenDd1pGAjk8wESkyDMHw2XY8guDx4lWgw66FSZYvuhDyj0PIUvJTEmsPCglUfEkAqZbbN3fO6F5oePNImF93fXOdaPrCkic/Qrg/Bl8Tv/ce+cEwUFebZmM5Y3yjLUYJCp2EyoaT0D7ijxjLV0fIUoGCkKQ1BSE3TbxmrQTNbJXbEV7SwP0BWoc22ZAWeko7HrlvUwuTXwo0R3VdB2KxtvQftBNDmYHdhxOR4lWI9wTuFoyVWJX7qCytLVj65pyZPVbUftUMap3X4u9qCWuA7ucqMH1EGKVLcH+x83C1XGsGdRYXlyWAecGGvV8JV0jUidnkcmy4VjIqy93bze8qkykK1Tc5EyKx2tHl+Lp1wxk5QCO46eCHfgB8at+TYQdBhIL5YEU0Hk89h+dUd2RjaJKIzatK0HKpx2w9SYjM0sN75EuSItWYtPfiYa1B6BZtQ11hnIU5eUgZ1pGwAj26uH49wPA3Zm4i82YjLt1WLPeI5OfdCOA7vdfh+lyCd5uNGIl21pxeg6yYs5uKM9DdGLHk3pPJtnBGLP8w5ZlCPdkIZvNSn8WKTdpSHuA8isvxbreiKXrGVnIgSNK+a4u8duv2Bz9ZxPILcZ0fyd3L+5iHzHa2xTPWAOTcSd7pX2+Hc1xzVinIvMvSBMPHwuxT264erxQDZmVC2DAgSMHgfRJd7F+PwQF7SRCn5IQkjOQ96QBdVv0yL1gxoHhrtKJpH/n2C4gmrhmVRXpTpIGjxenw76jA9b9u9E9bQHy/a//E2XDFBDTrkgkqZA6rQgVazahriwFjr228JMh8TCsNp8gu6yIEbSZYaG83hPif9xEXD3HmmDrrY1zVcKuH36mzEX5A31ofrMZDml/c+9pM2ob7UhfNBfZbDSuBCEeF5r+zgS7/IWs2wnLej2aj4unwaiRW0wjZGsdaq0ucUubATfsjevQ2p+H4ig7iUSi59QZeAY86D6tdMt3MQ/qvXUw7nFKefDCdbgJBqOVmhNxthPmg1L+CNexI+gbn4XMieT8zymH5qsmvE6y8hf5lAXr9CTLcK8padTroeOKPMsy4IJ12w4yc6F0iUa614luNn0i1AEZQ/anz7wuuIT1WfFh2dqKbjmPx5vRsNuLnJ/li1+pj5+EB++mMG0W8fUq1YNjlwk7wvxhhmAZj0x+oXz9X33kkA2+KfGcbMW2vdJJRBTkQREK4pmaj6LxDjRttopf5TM5vbsOpkD9jkOWURmfi+J5alhpIGyRdnJhdW/fYoDRynKTjIcfz4Z392Y0HRdL6T1rxboNliBnyLXbgLJnqE0memYvFrF0XShfMqwNtbDKW1W57WhaHZLXr5w4Q/bKc7obbpKn632pPDGmFbuc1N1Qms6If4E2hLjtV2TaX5aXbrA10+IuHxNml5KL3Y7VbFnH9ruwPGT2Oeg+HRvZEqhsHZbffwIbl9G1ZWfwiLAOWzmCfbrQjHVbHYLsmD53766Fic2WzvV7+4QFm3d0SzpP+rq9Aeb+HJQ8GrhUSkZBOwnbp1hgNFKbEE8F4rLXHgcse6RysNPPjpGLRgNvpRskhxJB/0y/bhW+W8gPsk8h9jgUhbqT/ugCZJ9uQu07fcibkx/w1ilRNkwBMe0KtbH9ZthkmVAbOnakD+q/yAxyKuPvawmFbT7uPiasXa5HkxKbG2JflLeZoVz3/sdNxFV1rFlFZq/4FSomBXa9qSh6rQ4Vt1uhLxbX6Wif2QHMr8NbZeEMaySkeNJtMBRrxfU+pXoy2VrkRtjgX5VdhQZjPno3LIX2MbY+qBiGTzSoaTQgN65pv1TkzMuFao8Busd0ePrNA4pHcXIe3I3VUh60WLqhC1naHMHweb7uw7FGyt8cHXRzCrB0ZzIqXi+B8BKPbVn3ZgXSDhpQrBVlV/q8BdDmQhNuQEKGpXRxGjrXFENXSsdiEy7PXYmFgW8FNPkomcTWVFF8S17BbuZM35aPJfNS0GnUoUC7FK/spUYoBVeGCoUzVDAtEuuleGUr1IvrYHhUNu3pKHqpAhr7OpQxGcz5BVpQioqfButJOBmPSH4haOZUI/ePzViqK0bZfB301nRUVlOa0v1IxMqDUmLGk6RByeskp8O1KGP1zeQ0vhjlU4THJZTIUgkqZFc2wDjDDVOV1J6o7uudWdBOE0uV/KgBNT/9Gq1VxcJ93d91I79G3JpMxItTx+1wnXb5De9VI6aus/K9BcPUU6hdLJVvcT1cf5mPDGn7ztTpOuSqLDDMp7JVrcMB9pEWdVx9J804MHQ0KqFBflkGnKRzBY9RW2lzKHy1H7/9GkLQB4rsCNw6L+BDxDe00FbSv5WBG+sFf6gofrw4Ado35GsV0M5eKzyr+F2eZJ8m/osexZI+P90CLHzzLZQErkdVFSJfZUIxWyNMNljfpkb5mwbkRWg8sdsbk2UtFqLV36foVlqQUvAQ3RHvx22v+z3oofCllJZuPh01x5Bv1CNv2EvZ5PbVi7plUn0XG3Bkag02rcqlnlIinD0egkLdSc6H7lFqleNooBTyx3YSZcNiE8uuePC1+xhMlaSjZIO11IZ2pFSgdpFssYff14ppR2vzw+tjwtvlCtTQACIaYe2L0jYTxBjxP24iRmUf65HgpZGjSurYRkLc8Xi98LIdQEaiEDTa8wyoou6OEZVoeWAbtJO5jRg3pe0lw6Eo/yyfXspnFPmwP2CiCk0sETKiOMJu4SARNt1Aosl4JPILgP1hAvZhzrDKmQgZMWLF45djmH3hJWLKMg7Yl/qqcRHiiqF7Map8dFGg64xoeQyWoxsWQwNuXU2D72hxkr55k4apQ0Qs+9X/xz+O+l88VEpSUhLG/eAH0lkEFNqnsPVwOHQf6wBitZNo6UazJZFQqE/xErV9EfG05RH3obFkmkCilTuqHR5O3YUQsc1HizuWbCJGGpmIdRtNd8MxUplEK1si/Y+bgKs8Yx2bRDjVjLjjocYwYqUgpRxJQ4+aB1UMpzAeQ8jyGUM+YRt6ImQUw+jE7DyiyXgk8gtApR6+Q5QQGTFixRNDjgylHbESonX6sXRPQVZHDwW6zoiWx0A5eqwNOFRQGd2pZpC+jUQPYtkv5sxeLyjKi0L7FFoP3ksuOD7tohsRvreJ1U6ipRvNlkRCoT7FS9T2RcTTlkfch8aSaQKJVu6odng4dRdCxDYfLe5YsokYaWQi1m003Q3HSGUSrWyJ9D9uAq47x5rD4cTDLVDdnorUkfYyHEWoZxhQE2mNwlVE9f3vXxfONcsDy8vo4EDzsl+gxqpCyRvlyr+34XA4nGvIdbcUhMPhcDix+e6773DF671mS0KYU32LSoXvfY/Pz3A4HI4Md6w5HA5nDOP9058E5/pqOdjMoR7dmWoOh8MZu3DHmsPhcDgcDofDSQD8HR6Hw+FwOBwOh5MAuGPN4XA4HA6Hw+EkAO5YczgcDofD4XA4CYA71hwOh8PhcDgcTgLgjjWHw+FwOBwOh5MA+K4gHA4nYVztrd+uB/j2cxwOh8OR4Y41h8MZMdf6j5VcD/A/mMLhcDicsdkDnO1E0wYzHB7x1L2nBmVrLHCLp2MEL1zHbbAddIbP9wWneC+cn+Jm92zoviSdc25MLlhQs7gMTZ9K56GEtANluGFZU4aaPYltLTe7U81g5Wdy4DBGR89ufDxwbDHA8K6DegglUPhd9Wja75LOrz6e01Y0b6hH/eZOjDgXw7JpI+TTJpQtroHlgnQ+GlzqhnU7yWhDEzp7pWtjEM9pG8ybWTmaYTnugjfI5LvhJL+E+SZBh538mOvULI6W73htHOtLnVg3pDBOND/TBId0Fg3nvjo0kzFpsYmt70q/G67zXlwRzkaGc3tlZEcmoahw65dtMKx+BZbT0qUAHDv1dE+P1uPShQC6338FhjWH8Ae1dIFz1bh6+kEMeOE+64IngmKHtgNG7Pxdgfe8C+7+RLQWEXn5B0d0rpk8wqPcxo01hupd4vXsxiOcPjjR8S45Iy0H6JcCPDa0kCPa3LAnIPzV0zPP4XoseaoBR5LSkHI2jJwAADGCSURBVPWXk5AiXQ9m+H37VeGKB66z7hAnMYF47KivXIqGf1chbcqDmDReuj6m8MC+oQzFzxjRwQYGlw7BtLIMOoMZLr/cemBZbUBNLTneDYNH7epKFOt0qN5ih+c66yYS6TsGcm0c6y+OoCO0MJd6cOykR9EoPaP0LdTVb4VhRqI9SzeO2ZwRHZlEo572MLJpjL/nQLd0RWLAgQN7vVCpPLB0hpqjbnTuc0E140FokqRLnKvE1dWPWAxtB9cmf9ypDiaiPC4cwyGFNm5scX21izFDWH3IRtXONrS9UwGNdCUq6jzo/7EODRvKkSFdunp65oFtpxmeuQbUVhYhLzsVKulOEHHkZ/T69muH52ALzJeKYFhbgaK8bKSOk26MJT5tRs2uH6G8oQ11hipUGerQ9g/lSD1swg67FEYio/QNbN2y1X+0vLcPW/UP4w/v6rFkAznXUrgbmdFzrAe88Fzy0DG0OXkuuIY2sj+4cEb6GYjXI4WU4hNHlSlI+/GtwuUheFmadIQm0E/XQi8GxcnoRW+4TMiwOMLFLeGNUN6IJGfj4SmAy2YPfoV2/AAsl3JRviQbnr0H4Ajsp3vtOHQWyP1JzqARiyLriER7Jso9f30QcZc3BK9H+fNCWpEEHy/h6nGILkgI1+WAw9QPFod8TZZtv3QeSqz7QYS2gxj5C4NYB8HlZrIOO3sTJItBYjrW59vxQlERNoYY4LDEE1YhRxuKoKM4haPhqHR19Igoj//sRY/0cwhyvUeSfTgi2TqGP77gm1HrNiSicLoRnth6FzOuGLZ1CLHkJccXph0F2bAI+VISRiZm2SLURUR9GKeGWjLuSupL9edpmBjorIXGK6QfQbBMTtFsTVQ5X8bly+RI3TVBOo9AuHKyeOUsCXosn4Tv22UZD9EPetafr2jtgYhZT6HIZY8cYdT0ZC5TupiUhgmBE2GB+WZ1EBJJxPISQ/rgwDBSnpSWMVo6gbi+dOHWx4tRmCZdYNydRcNAL7p6Yi8ASs1bibdX5cGzuwbNUd6ohvf3JKQ2HbFsMWyIIKtI7YChsD6VkPiPFwc8sG8zoOZdhz+DqvvKUbuuBJpxbN1dJer3u2OOXovW7kPVNDvqC9YhuXYl3Gv1MF8ANCu2oi5tBwpWdaFqWx2KJlKl76pGmfVBGPK6aeTeKS0xUSG7ehNq56YKZ/a6Aui7qrC1vgjiFeJw/WA8/9mEspdb4QoU/Nxa7KvOppGAE+b1r8B08DJSbrsVly/0YeLPalG7WANhXH3WDH1lPRyqVKQk9cHVn4bydXUouS/s+D0IIe8bVFjZUovCZPGao0GHarce7ZWXYSg2IfPNNlQ8IN4Tw09EzXsG5JIxddtMMKxpRc84Sht96FPlQL+2Bnl3iOGH4oFzVy1eaexEHz2j9rrgGZ8rPjMxWt2xM7E+1IZydG+uRWevGCg4jAIu2GB6uQbmcymCvPpUhTA2VCE73CRFjxmG50xwjEvBrf0UNomeoXRUBS9iU5miOZ1BotVjP5VtiR4HcmuxbUW2OGgZ6EZzxVJYZ2zCpgetw9cPpmd1ahhKu9G0vhMuIQoVMhbXoo7KIGuJa28Nnqf7rF5YXSIjg551IEdoC1KgQJTqbxAumKvK0PFXBuR/0YD6TmlB1rhsVDXUougOLzrX6lDjrkLL2kJIKkmI140woG1V7uCgjvB8/bX0KwLMWV5mwr2vmLE8NDuhxBNWCYmOTyHqH/5Q+iXi2FwGww5qawHVI9o4kp+9CfrVzXAOkEOVRIYd6SjU/worZwxKPxj2WvZpGHb1QX1HCrykb7fmGvCWIRfJUe1vpDoku7yqGKZ76tBWSW1Kap+tZ9RIpSz0XbgFOc+9gZpH/ZZzELY+NazeTZD0bCUePFSP5pPifdVEsjW1zNYIp7HbThhkm+ck7UxVeag9paHk9VqUP0BPUJu1GF+iPoY6+/F0TvlS5VD5DQuRIUQo6v+xx41IfZ86+bD5UhKGiCmnyLZ24gdD9SEIQYYaBfX1IyGv9ZliWw+rZ2tqcJkOd3ULah8P0Kn+ThjnGwFDGwy5gS1aJKpeXjCjehH1eVJYgSkh/SsRUe/BbGIyaqvdMK4yU4k0oh07G2DTmJx7LDDW1MPaI0VAfWyunmScJ6Yi9IfHqf+4w4yarU7RrwgJA48DTc/r0cr6G/UVqievoGuMvL/divIrIWn6682Gy8lSvzNhIWrfKIdG0KEo7Y/d9uOG+dli1Ac5kmI5cw6yfOvQMKUN1RvYevoi1O6jPvCSHU0vGkjnyIaMp5QuAek/NeBX1RS34JiLunnkUQNSyGcwC31wMsl0MxacrcHSOrtfBkVr3ib7EqEVxZCrItwW6IubkPUPLSi/j11g/oEeXcxHmxcmngEHTMXVMM+oRfuQfokh+RerFuBYXT3sbMCnInk1GpHexuQtTcj6+yp2QozAP5N9x5V/dQj1kfRnODDHOqHH5Y99G17c4PvoS+n84ke+tUUzfYubT/nDnGl9xjfz6Z2+M/Iz7Di03jdz5nrfx4HXvv3Yt37mTN/shc/61h845bvYd9H3zRU57DO+nVIaQnwzZ/mebT0l3qdrp/7pGd+smYt973wunn/865kR0hyMR05v/aGAMN9e9P3u1Vm+WT9/x3dKivvbixRu4Szf85bzdH7et/PnM32LNp7wP3PR+Ynv1EX5+RjH5+/4FlOaz1suiudXPvFtIHm92vENnZ/3vbeSyv/3n0jhL/p++zyV4/nf+i6yc+cWevYJ3/qPpGfpYLKYtXCD7xM5ryHHxY5XSS4hzxz6yHeC5Tdm3YnymbV0/WCYvt/6Xp010/dM6xkpTIxDkt0z/yTHKcov7PNMFiysfO/y74S0XpVlFdcRqx7p/OgG3xNMNh8z2X/r++TtJ0hn3vGd8ctyOPpB54KezfI99dZH/rgu/pbVQ4DuCXU5m8o2KIeLB9b6Zg9JL+BQpL+hxxnfzqdJhwqf9e10iuX89sop3zs/n+Wb+TdUBnZu30DpDrYd4Tj/nu9Zyt8Ge8A16bh46VKY46RvewWlQ/mRjzf2i/cOrA2+Xtl8Mmx44VjbKTzzWXNl2Osxj/1vUPhK3/au4Ovh8yDf7/S9EeFe0HNR8hAqI+EIZ+PC1ftH6wU93HA0IFzg8fF60p2XfL/tk86vnPF94pB0LVYbFur2Wd9756X77AisW9KFLX8z0/fErz/yXZT1uXun75lZUfITVu8kPVv4km+nQ7ZtJ3yNFPesX38shVHQdkIPQV6B9oPk5fjI97GL/Rbjm/l0o++EXzaibs8im3leCK8kXwrCKJBTVFvLzsPpg5y2nE6s+goNz44w8X7y97MH27d0nP/Ns76ZRRH6CkV6ecb3ztKQtMMd4copXJvte+JZ6ks+v0h9u2SLhOsBfbv5Vd+rrSf8Mj5D/frMWa/6fndZOhf6/id8LwWEObFpMYWh9KRzVvZZr1Kf6a+nd3zPkH3b4gifplBvs54JsH8XyX94YlCHorW/MMeZf3pqSPmFfBfN9j310k7fJ19S+S9SXiSdmk159fc5fR9ReyA9e1v2AWTdJLlJ6Qt9SeEs3+wX3xOfu3LR99Evqb5Z3UrphR6x5BrtOP/ZR773/t9XfU89sThIP2Q7ENkX+IbaJ+U91A/zH+LzgfaA1SUr21NvfyzmlbVnVn7ZB4ppQ6L7Z0r0ZzhH4peC0GiiYk0FcuRRvToH+TOA7nN/kC7ET4q2ClXT02kEp4Yq0rriKRVYOS/dfz993hIUqrpxwD7C7z17O9BiTUHJswuRLqetzsaC+Wmw/QtbL3QFXhpZXXa7/Qvz1XdrkB5hoDiEtBxhdtn2b9JIU1gGkodHctgMQjIe+l8By0H67fi9Dcj5XznCSMy+uxndedWoyBlMLHVuKfIvWHCARrxDcaNjlxWYa0BV4DPTcsTZHIV1V7i8ajDM+Fw8kgs4zpyTLkSn+/16mP+8Ai8uSBcv9Npx7IwKE28L89nLSZLFhXyUSm8dMO4upN9G/6qGzq7EJGY9EqRDv1p8K8xrTbAfNqFm10RUvbAQqZF0jqEkXoFCVK7I8celnv4IcuFAz1nx3LG3Fd13LERJwKyg+p4MBL55SySaJStRdLckx6R0LCwrhOr0AdjZl/EPPI6Su7vR3D44H9W9dwfsU8oxV3pzEoujDcuxERUwmc1oa6zAZOk6Y2olXWPX2fGKFicaf4328xOgfWMwrPYV6X7lVOGZCbPXDj7DwlheirFc5Cg2sqUfL7fT7xPYuIwtBVlF6Yh3w+eB3WHPvYT2wtf89385W3zVfe43q7D6c6lM5tegpTy88Btleh8J+/vUhkmu5YH1nlOC8mlutO7qFG1CKF4vXXejT94VKCkVmvukubJYbfiBh1E43o4dewe/6xDq9u4SPM7q1r4bzafzUL2MbIysz3cUoTTPHeZ7j9hoiitQdJ9ka5IykDcjFd6ubnHpm+K2M4gorwD7Qajvy0E2swsXWHxA0d+UI0P+QIzp9lNFUNmagj4Sj5oviahhYsophq1VSqz6UohGW4L0083Y45897UbHDjs0pXPDfqujVC+HY4oHSUHRz6kvSVNT3x4+otSfGmCYl+GXcWpuPjTe3kHdZ0wpQUVAmIwZeUj1dqFb2OXDja4THmRMmRJQT5nIpPK7L4dL00VysSJl0Uos9BtfNbLnL0SabR/sLN1o7S8cSRGE1J+DUn0RNBOp/Gztz1GmUxqUL6H8y3kdn4OSxdlwv9uGzoAlO5riBciRdFytyUJGvxcPzykUn0tSk4+QD1w6hq4IO50okmsELn9+CEf+/Th6+/vQ+9W5OD5IVFE5pZ9RKCwbtAcZD2STf5WGfG22mFdqz7l5GlLQY+LHuonwz6Lqz/AYvTXW/d1wHLTBsr0eLSNcL5mtGTSiikmagLRJ5LCcjriqURlne8j9caHpqQIUFAweZQ1Urd9cpgaWSo5mEW61GqDTLYWhwQx7XNvpkKIUkPHq/BA2UgBHpwWevEeQIy2rSM7JR/YlMzpIhl7bh7BCg4emMq1wobuLzJu1BtqAfBU8ZoCFcuUN+yFRD3rIsMZcExdX3SlrLCLd6GzvhnrgGHasN6CyWAttdTtS9JvCvorE/0jGRCqnv7Gf7oT1Qg5+MjWCoYpGzHoUSX/yNVT8uRn6Va2YuOzFwddNkVAY7xDGqTG4ktCFrk/IjZiWRdpwjbgjDRnM0ReaSzoZtzx4d2+DlY1LBxzY0+JC3s/IcLPbMTmKgxZg8iPTEFbTpHXUwppnwfFVguQos2OZiVzlWEzFcslpppxgeSNzhtdCe7t4N2Ie7B+hnYV/QnToBzmHwx9Sqp+ZUCE8R863dGf4UBs+QRqSmR4i12SkM+/L1ccWBA1l2pOomuaEaYkWumeNaLZ2D+3cIrZhDR4vTkd3yx6qbUKo225kL8gXdM/V00U6a0XNnGB9Nuxh/kREbVaMSv0j6RcRd9uJJC8JUl4HaXFaaJu9K5NK7YI7rDBFgvIVgcAwseWk0NbGJHp9KSatEOV5Xpi3W8klJD7dg+av8lD8eDhJDlMv4yYbWXdLP6MxQG7sKTtsVjOatnWEX5ceyA/UGKypZGRPT4fDugdOqR/x2A7ggCoPD4ZdSXgOPcepiFuWBtVrwWITOXIeXGZVq6T9KWFSFiYF9J2uL5hOZSJdHhRLJKdnkmsf2+kNO+kYLV/xylUi/dEqGGq3om2bAem79ajZq3Ty0o3uz+kfyuct4gWFqIaWTTYOo+GfBenP8Ei8Y+1xotWgg26FCZYv+pByz0PIYrMJ1wBm31J/NEIRUYWq2Lqod/Zh376Q480iarY0AppWha3vtaDhuTyoTzTBUFqMertc87FJ/6tcqL2dOHLUjgN7Pcj7nwEfJiY/hPxpXlj+1Qb7f3TS6Cpfmo0i1WR5m1c7NF/72lE1nPWko153f4D7LHU20wvw8Nwq1G5pR3tLLSqmR3DX7ihE5dwe1C+rhtFYjeKqZvxwWRXyokwORERBPQpcOo4jp9RIvk0F578dFzuhaCiN93qHjCwzQsnSiwN1rg5F42xo3tsN78E2mEHO5PRhDGiGQA4yc4zlGWHB8Y3FObQ/T47s/eFnwONnOHmQCJjJDpzNTjRRndikVBStpbazxYjyyR5Y1y9F8UozdS+Egjac/ugCGqxbcIAcP6Fu+/Ogk9Zz38I6MBVb7zlUn9tXJHiR+tVqO97LYWe/R8LVlFO0+lKOGrlz2cx9Mzp6vOh83wzM1Qnf6cRDIgZX8eDevw5Li4tR8+4R0u9UZE1JD5iQUEb6gtdQldSK6lItOV1alG68jJI3qyOXncycprplSL3u21eHItaWorW/0eAKs82JJW65esN8NDg+Bw9PB+wnFbrk7kOCDqdPz05c21ZgQ0bqnw2HhDvW3e+/DtPlErzdaMTKJwuRMz0HWbFm/UYDtx2HTqkw5R7RaVONUzytGsw97MtXJ459FqMikpKRkVcCw5vboM91w/xhHK9Np7DXfV7Ytm4OWAYiIy4H8e43wbTfi/TcbGkWIRmZWWp4j3QhZLO+KGQgKwdwHD8VtqFelbqjoiWnZSN7UirUMY26Gtlk4NrIgFVXv4jyqWl4OCeCEx4LRfXohrW2Fo48AzZv0CPbXovavTFca6X6EZVUpE8mwYS8ir6auI8eglM1Bemyn5gkz5Q1o7bditTix+PY3vF23Hk/cOJLcd3F0X8eOsM8+U42dUwO8/Y45n3vvUuYAQ8Xn7zzRzy7iYTNQ/ZfQ8uWjvxz6O4hE3DXvfSPZZt/OcnISUXmX5BdOnwspA274SLnRxVpZlZCdUc2iiqN2LSuBCmfdsDWq7ANJ+dD96gX5vet6PjQClWAg5WcmUWDfDu6RviiTxFxt51I8pLIyEIOHEPjO8d2pdAMnckeAbHlFN3WxkWU+ooLeYnXtlq0701FiTbSx98j08uE0d+JhrUHoFm1DXWGchTl5SBnWkbcs4ke1nf+mR4t77WTw9WOtn80DC7xGQLVG42LnMdj/4GecO1vJKROJp2CDcdC/q6Fu7cbXlWmuAwyEcQtVxdaq3Qobgz1abrRTYY44vLcQAaob20wwa7KQ/lPE/he9mr4Z8Mg4Y711//VRxU3OMLynGzFtr3SSSBfOXHmEt0/3S3+dUFh5GHHEbY22E0ORrxTDMebseOg5AR5XbA2NsF+2+AsW8aUHKiO78Zuuxix96wN9ZsszM8bQpeTzMmAC84eCjs+F8Xz1LBuMMJySioVxW/fYoBReE/ugWOPBQ7Z//KwSgZypoi7irp2G1D2DClUwPqooWjw8KNquKgxBy4DkRGXg5ASX0pF3kODSqmZUw7NV014vdHu/8tG7lMWrNM3B2/R50eN3GIaxVnrUGuV/moSKTwri4lGcIrrLhq9FhgWV8J0OFwFavDgDBWsO5r9r+Xcx1uhn1MJ81kSq92EysUGWAIMFHtVZT9qg812HD0XnWhtk9aiU2O3rC5DJZVdPPfC3liJstWBG9YHELMeWV3VoPazfBgqc6BOzkNVZQbs62vF5RABxKcfysieUQT18SY07ZXqxe1Aa10TmYz4CcpfBBwtO2CTsuc9a0XDFjuS5wV32OJMmRVWWzYWPBqPMZwArV5cB82c3dXkqg7OCU9F0bLJONG4nO4tx5ePhMw+365FSSHQ/rLoKIvb41F8T1IMUnzNd1YExDccouVhKpZLa7iF9OmQ11FPrdyI5ffL67XFI/5tAbtEZ6zXiW6qHqENX2jGuq0O0Q4OeNG9u5baTzpK5kaY+TzbCfPBwb965jp2BH3js5A5Uan9VSH3p0VQ7a9FvZXSCXSwpsxF+QMuNP0d2Sy/UXHCsl6P5jB/rCoQJXoXxDDaTlh57THC+D4NSYX4kqkDpzZ7Vs67HaZft8KbV4z8kFfsIyKmnKLb2kGC9SE8UeorIuHiTUf+gmx4rFbYpi1AfpQPOIall1FRUs4QvGxLPi+uyH0n6ZZ1245h2UR01qK0tIz6YgPWsb8Sud0a4S8Xi/Wm3lsH4x6nVG9euA43wWCUltFEaX8jQtCpPjS/Sf23bJtPm1FLfVz6ornIVjyxEYO45ZqKwifz4N1Rg5pdDriYffF0w7bhdTR9pUGFLlgfvP1fi9vWCUc3HNZW1CwuhbFzIha+UY3cYc5xhmWE/tlokXDHWjOHBPfHZizVFaNsvg56MgSV1cHbc6VOpw5cRQ7Y/ALoqtbhAPuAa+oCVExzofmZAhSUvoSmw+ENa0QeKELaf/ytuN5YW0YO0kOoqavwz7KpcitheJxG/XqdsAZH93dH8NAzFTQ+DUSD/LIMOBuXouCxpXiljRxdynl2ZQOMM9wwVbFXSSz+pah3ZkE7LVlodJ7TVJbSAmipvFqdAcdmGKHPY9rjxanjdrhOu2L+SU/N/5MvyChoGYiMsByE/r3jceQGrkmbWATjmxVIO2hAsVZcW1T6vAXQ5kacXVRlV+GtVdk4tb4M2sfomcdKUX+W4s9QKaq72JA8Ljhh/n24ZkodxIpalCSZUU11L+T3V114eJ24dY7X7ULPWSd62HdW7K9VlWrxi01ktMjYqcep8eDcIty6a7P0p2e/JhtN4b9wD77m9brhOtjhdxiDiVGPZ814vaEXhYYKyN8apf70RVTcZ0dtrUX60/LD0A+lPFCC2mUa2KR60Va3QF1ZgyL5IyxFhMtfeDTaNBzRi/nVLq7FqZwaNCwJ6bCTH2aqBNWjOuTH++6OHORfyksmKiuE9c7ydneBHyIun83CBax9JoI+LJQ+XkR2hf/aL+mZwPgY8jNDttQTnguOnxE1D4F5p2NwuYf0gWXAvbi28NPko2QSW5tJOrLkFexmf7dZasMT/0WPYqE9avF0C7DwzbdQEmH9qefrPhyjOtbO0UE3pwBLdyaj4vUSqn1KQmkbZrOXP6YOcoiDlYqi1+pQkW6DoVjS51I9LDSUyRW21AqHcr0LZhhth8nrjYVAmywvHX6xJwUFwpssOb5e1C2T4is24MjUGmxalUtWJJHEllM0WysQTh8iEbG+whAl3uRcyh/JKW9OfvTX8cPQy4jEU85AyGkqXZyGzjXF0JXSsdiEy3NXYmGcM7eXyXZnzChH9YoqVJXpoPkRXSNHe+kiY9AHgTKs3hqM+XA3Vkv1psXSDV3I0uYIMovW/kaGpFO3W6EvpnSZbX5mBzC/Dm+VJXCWdxhyVc8w4G19Ns5srkbZHC35OUtRczgNFW8ah3yH5NxcCR3ZHvFYCv2GPfDmkkzfaUAF2xIzoYzEPxs9Er+PtQTbeJx9oBXtNQHbDFwl74QvQ6MhjIvPlQuCBEmxRk6XCXpA5d+APyxsPVFS+Lx7KX+qCPnzsj1Tw3zdzJaljezraQXEKnc4ImRMSd1Fw73HgAZ1TfgPEmUi5FfOUvfWMiw9vAAtgWst2b6rc7Yhc0sDFrLGHBoH2ydz5TE8/ubCmB/2RKvHmAxTP5QyYn2Jkr8hREvMbSWD1IwHGzYFfCE/lP4//pH/9cUAkpKSMO4HP5DOhhLW7jHibcNUzx426AwT1UjbsAz7ol6ldNlBPHoXhrjbToyGkoi2qJSYcoqS14j6MELCxevea0Dpuw/i7X+MbSP9DKdvCcOwy0npe7zUZw9n+Yuw33YH8rfJe1RL9NL1Urr+jrRuOhJUb96kCGWP0v4SQVxtbzgMV6791M5VI7cto8Fw/LPRYNR2BVGpYws+bCMbqSGM1Ahk6H7MhhBFaaIZ6kiVNiInSSmxyh2OCBlTUncRuWRFw78VoDKaU82IkF85S7feNgE4cwgHTlEjJuPm6bGjdW0dOnOLkS+PkEPicG5vgKpCWYcxog53mPqhlBHrSzxGL0pi3XubYZsae4aMOZKcQWLJI6JzEW8bpnqOFNWI2nAAcXXsI+xs4247MRpKItqiUmLKKUpeR8OpZgyNtxsd79qgiXdHkeH0LWEYdjkp/WE51YzkTGTd5oRlpw3d8vIE1pc0NKN37hLkx5r9pnqLWPYo7S8RjKpTzRiuXBMwYB8thuOfjQajNmPNuYlhk5cjbXgDHjj3mtDwjh1O92XcmpyB7EWVqHh0cL/JISQiXY6I1w7TMw3Az+tQkR3bIPFZa5FYs9UczrWCfcPy9Eagal0FskfbabueuESO9eYGbD/sRJ8bSLlNQV/C4YwA7lhzOJwR89133+GK13tTO9fMqb5FpcL3vjdqLwI5HA6Hc53DHWsOh5MwvH/6k+Bc30wONnOo2aH6/velKxwOh8O5WeGONYfD4XA4HA6HkwD4O0sOh8PhcDgcDicBcMeaw+FwOBwOh8NJANyx5nA4HA6Hw+FwEgB3rDkcDofD4XA4nATAHWsOh8PhcDgcDicB8F1BODccN+OWb9cavuXc8OC6GgzXIw6HM9bhjjXnhoH/kZJrD3OK+B9JiQ3X1ehwPeJwOGOVxFutARc6N9fD/KlHusAZFc52ommDGY4YYnbvqUHZGgvc0vnIcMOypgw1exITW6Lhjsq1h8mf1cNV54IFNYvL0PSpdH6dw3U1OtdMjzgcDmeEJN6xPrUHddvNqN9hw1V1rS91Yl3CHMjrH+e+OjTvqkeLbVDKnv3rhji9V/rdcJ334op0PjKuwHveBXd/YmJLJPIrdc61h9UDq4+ryoAX7rMueKKoZrj2cS3guqqMa6JHHA6HM0IS71jfV4636uuw1ZAHtXTpqvDFEXQkzIG8/skofQt19VthmDEoZeenHdel03s1CO+onEP780XQFbFjFdrPS5c5I+Lcb1ZJMqWj4ah0NZjr0XG8XtoHd6qVw2XF4XDGGqOygC3lx2m4VfrNZpI88hs99vuSB55+6TwWcvhLsV8Jei64EDGUHI8/I4N4A655o6XlZffoiHg78n1/GlI+vKF9RX+Y51jYMJGxdMTnU5D2Y7+UCQ/cZyNkTiZGGUKJKg9CLvOQ8jD8dTf0fpDMo8XBYLJh8cTIc7QOePKyjWgzr4X2dukCjmKj7BgKh4mujCHOt+MFf96v/oBhwuy1JE8z1hRKF8IQ0yGS6zXUFjC9keta1qFI9iLW/SDCtA/WHiIolqCX7NZw8hPDXkWUjVSvG+3S+aggDTYjDIgiETSYer6dYrk6cMeaw+GMNUbBsbbDNF8Hw/su6dQE3bImWPfWoGyOFjq6p6N/K7c6ojjCHti3VAvhhPDztdA+0wxH2A6NrfstRvFaG3C8HmUFBSgoqIa5l93zwLmLpatD6Yqn8fRiHcXTFLAumfKqW4omqxU1pZRG2LQoLxvKoNUWY0n10yjVaVFm7BxccnLJjqZn6BldMUqXFEOn1WLperrv7w/ENJrtdtRTGqw8+t2SbCS6d/8CukUmOKRzhmu3HjqdAZbAN9fHTSjWGdHJ8s/kOp/uX6DfbH1pcTGMJAIH5bWAyaDKjMFU3CTPSioDKx8dujLUWIPzEMRZM/RzCqBbQjJbpkPBnEo0nwyorf+SyyzFt7gGVkHeIt17jFhKchLrLvS+C5YXtTC+b0frqsE4tDo9zGelIAyPE+Y1JPf5pXhaknvlFkeClhdNxXJyDJlz2GZ+DVq0Y3Wcjsa15Og/m3Di/gqYhPwHDhjGAKy9PEv1TW1S0I1QW6DQXrik+8VMR6ldla3vwB+ke0OI1D56LfgFtVtT6LrsnlY8rfsFLExnpfzY9q8Lyk/ZBnuQLrptJlSSjhYvE9uMtpR0PlCfxzjiYGojlt8vXeBwOBxOWEZlxnoIZ1vRclKLN97bh3379qHNkIueLQ1ixxUOrxOHnFkwbBbD72szIv9cE9bt7pYCBJKMwtUt2LRCA0ypwlYWfl8diiaSb7a/DtWNbsxtaEfbtq3YurMFxskW6I3WgLXYLrS+ewza2nYxrZ0G5J5uQsMeeWDQBMOuSdDvbEfLlq1oe28TXlygoVSJgW40rySH8E49tn5AaVCYfTtrkG2rQeXmIDcZrWu3AdWbKEwbauemStdF0h/KQ+qlThw5LV2g8DZrD9Tj7eiwDebU0WmBJ6cAOeOlCzK3FaKmZROqpgCaFVvFctQXwZ/KcQsO/Q89Wj4Q5dnwMxU6a3fAHnYyyA3zr+pxbl4D2neSzFqoXPXVyP2xSrpP+dhzCMnPtojpfNCAhT/oRG2LPM3mguPfgbnr2qT7W1H+I7q/pTPIMbI2bIPqaTnMJlRMcqD+l/JgwIPOumqY+ubi7ffasJXJvcWIrD16GPeOzhrZyXeOwDtlzleRCRsbQmeRQ2YHhXDivaMU9oXnpVnABnpWeE7JzPk5nPmc/rn3LkwQL4gEzWIPjStoxjHwXsTZ78BlNHQkaJbS+8UhdE02YJOki23GfPRuWQdzjxSAEctenG7GS2vtmPLcVlFHqd29rUvHZen2ECK1j7R8LJjmgfn9YN10tDeje9oC5KdJFyg/9Z8+jLfk/BgLcYUG7E2HpacoP39r6EDW6ja0t4htZtN8N2r1NFhWNOEqyXoZDZjorP1lSeb+wV5IXfivi29eXiD98ddh4ABR0Df5udA3Gx8NvrUZ6aAyQjpMxwd1m45AHRqir3SMNB8cDodzHXB1HGsUonJFDlKTxDP19EeQCwd6Is3ojMtGxZoK5JBzLKDOQf4MoPtcxDmpMLjQscOKlEUrsVDuIKFG9vyFSLPtg/2SdIkoXF41mNb4XDySS53rGakL8Hqp03WjTw6flArNfYJbTT3HbjSf1qB8CTnGUtkwPgcli7PhfrcNnQEz7CnaKlRNTydnWQ2VHFbm7lw8focLh45IznyvDR2nclBemgP7h/LMWDeOdHqQ/Uh2/GvXp5SgYl4G1FK6GTMov94udLPZ7iFcgZfyfdnthkdyCtR3a5AekKimuAJF90kXkjKQNyMV3q5uySlORaHBEHA/Fbl5Gni/7EOfeEVAs2Qliu6WnPWkdCx8Mp8GAB2wsTz1dqDFmoKSZxciXZaVOhsL5qfB9i/BM4XDxu8MvIT2+yvw3OwgN3UYtNN/r0mzeiew8Z9jOwknMAOmV7SA5XPc2chmzj/HmSDnJxjROV6OjZ/RieWlYGfkdi1+6Z+FZ3kYnIVnz1U0Assb5fsVmCrcIceMnLl7XxGvm5ZBOGdPnfvNrykdLdbIcb6hDXbkh4kquwLGygBbkJOPfNLt3iBdjG4vHHtb0X3HQpQ8OjhAVd+TAX8zV0wy8ufkAXvb0CGP1/o70bYbKCrOFwfPAoVYSflJ9ud5ARZO8sDye3HwbN9NjnheNSpyBhtJ6txS5F+w4MBJ6UJUJkD7Bsm4sQKT6Uwr1UdbpVRLDVTnkN5QsDBU9y/8ZnCYc8IClLB7gi5tEx1bpt8vtw/GFfpmQ9C5kGeGA3OQA9JZU0i6L+mQgKUdYPdYvj8zwSyMv2mgUEuDiELWXpjeUanZGxipvBwOhzOWuUqOdQjj1INrsKPR3w3HQRss2+vhnxBVzDn0HCf3estS8dWvfCw2wUmu2eXAKaogVFAHeq7TnkTVNCdMS7TQPWtEs7Xb73C6vugipzsT6bJTLpGcnknOb++gM05ka9KlX+FIR25BKhxWm+Ccuu0H4JzxCArzCpBDgwAbi6fXjkNns5GfM9jdD5sfqPEj6edQyDFeXoRbrQbodEthaDDDHunNgoRKHSY2rxtOuw3WXU3Yvj9wOjICaRnQUM0IztPZHnKjXGh6KqDe6ChrcALfXA6aXRw25OCJDgc5oTChYsQzspOx/Ik4HQP/rPO9uEtwek7gy6+EC2EJeh0vOSWy88UQZgiFwYLkfAucw+EPT1D40qFLRuwf0WBgcIa0opHNl4pMuPNe+j8556M0k+jtccB20ILmDS2I2bSD7IULXZ/Q0GpaFrWakaOaXoKSu+1o2ik6ye79bbD+uARzpw2+oRlKKjKzqAw0mHRTfrq7SCOtNdAG6GrBYwZYSFO9I/5W8ihITJj8yDRRV26fhkeo/k98OegJT16mEwdKgk6LDvTR31PNkrNalC0EGUo4fRgG52z7SWu1mC6lM/Un5KgHDhCj5GFEb4k4HA7nOuXaONax8DjRatBBt8IEyxd9SLnnIWTdJt2LB+obNdXSkoWgow5FSuNLSkXR2na0bzGifLIH1vVLUbwycP1yGK6wWe74SH/4caQeP4Tjl9w49C8O5P7PHKjGZ+PhaTb83u6F62AHHNPy8VAC/OpYqKdVYet7LWh4Lg/qE00wlBajnvKgiAE3OklGukU1aPl3ktLELGjSFQyjBpjMVFDdQr+TWNVpUPVOaL3R8WZRwExiIpiAaY9MBj47g+FO2l0PsFnp1RZy7oVZ6XjWwsrPyIc0my0NPIQPFIXZ8dClBMPDc7IVhvk6PN1oQdelFGT+ZVaUQd5VICkdhQuy4d7F3jB1o2OHHdkL8mM67cIWy//9VtJTUlimr/Nqh+rqvnZURXJsb2rENneicbl/QKd9MjFvRDgcDudac1061t3vvw7T5RK83WjEyicLkTM9B1l3SDcVk4Es6tScx6N8JBkHqjuyUVRpxKZ1JUj5tAO2XiB1chbUsOGYf220iLu3G15VJtLjGQzc/SByx5MTbT2AA0dz8YgwY5aMh/5XNqz/aoHt3xzQ/CQ7wU5lFJKSkZFXAsOb26DPdcP8YeCa8ch4DzbA2KmBYUsdDEuKkEd1l313bNfJffQQnKB6vptO7slCNp0d+ywRNReLozCzmdr774J//kxe/5nQ3Q/OoX07mx8eTaSZb3tbwIy1NHAI97r/x3eRWx192crUSnK22XKBGLPpyuiG5Q0TPIvexqY1K1HyeA617XhnnlORPpnahn/p0chJnqFDHqxoX9+M5q/yoJsRo5UNOHDkIOVkyiRq/8nIzFLDe6SLSjca3I472Qz1h4dFXTx/GB9S3Wp/Ev3tiDBz7F96EQ/yem5lAyn5zcZBKR1xpnwGpkWdjBbb3OAyFTOW8wEIh8O5QbguHeuv/6sP6B+c9WWzXNv2SifR+MqJM5co/OluuAfUyC0ugnpvHYx7nOJ2bgNeuA43wRD08WIMznbCfNDl3w7OdewI+sZnIZMt/5gyF+UP9KH5zWY4pAi9p82obbQjfdFcZEtrMpWhwcOPk5u+rQn2GY8gZ5x4NTknH9mdJphsGuRPD/7oMRw9p87AM+BB9+nhfuTngWOPxV8e9vbgGHXkOVMypAvR8fZ76LgyOJjptWL7Tqd0MoijZQfk7zK9Z61o2GJH8s90yGXlHp+L4nlqWDcYYTklxeR1wb7FAKN1uOUKIOjDKXGNtSlwDfHtd5GLSox4FnuCMBMnzvgux4f3aoU1tKPBhNml4u4mrEzb78LygK3w2BISce2rXGZpDSxbly2ssZXWa7NDGkwEfez4MjlLha8lwPn5Gu4/0P+pbQuQnjrf3QaLeKaY7BnUro83oWmv1C7dDrTWNdFQLDZh28e4XOjmUtuzWoG5kg4GYcHmHTRYFmyIG47tDTD356D8p+KQQDOnHJqvmvA6tXu3VDT3KQvW6ckuSHZDEVQfJVRvwR8vsvXXr0FLTnIFu7bMBCzbGLsuskmnl00ejGuEbxzEZUbSEiMpL8I675B0Vlu0WBNzPf5UFAXlLXr+PIdNqFxsiPyxO4fD4VxH/Ldvv/3WJ/1OEHbUF+jRtWIr6uaRI3i4HgWrgNp9VRjsC8QwWLsPVdOkS4GQM1ajr0XnJTVSVV788FED9JPaUX1ch/bqCD0Ke+Y5IzrZR1DjNKjaUIeiNOrgbCbUrDXDIe0tq0rLQUm1ASXZbCF1+HzY6wqgRy32UVqek2bU/dIEa68K6iRyGsnpq/g/+sGP89i2cHWvw2Sljpedq1KRU/oiDE9qpI8MY5Q1kOMm6KrMyKlpgyFXXuPphmVVMdZ9U4WtgTt9CHLtQtU2cQcUhstag19IWwGqHqjC228WQbWrGmXW/OBne82oLu1AfsCzfshxsDXWwLjbAe84KgHJLW0BnS9jH2+5YK4qQ0eeVLcSrsA0+h3CTilNp1VIZQKYWo6XtW4Y/m8y3hLyIMZhmVyOzMPNsPQwqamQ4U9DiDIoHx5RsEifXoIqfQmyQ3dFITxffy39CoTNvpFD+8hG/DLOjxOZI7H68xCHmxOEICP2wWaEj87UP/yh9GsQpqPP13aiT50K1cAPUbhKj8z2ahyb0y62D0X2gjnkRui32ATdUE3MRZVRh57n9PAaIrezcO3DP1t+sgnFz3Ri4eZNAR87E0J++lCyzAtzQHpBNoDw2wlBnynMeBoIr1iJlXlD5+PD6+pNBBvYSh/NigMEtrvJS/icBgzh2mnfb6qxtPEySv6hBeX3SRc5HA7nOmUUHOvEwf5IA/twacguGlFgf3xEpQ7z4RHb3SNJFVdcQbA/JkGucrioZdhuGqohs11XGfZHKgZoEBAln0rxklOtGj/MiNjMtSpc3YU452yxqip6Gt5+yse46GH6//jHMH9MQnSsxWURbC2xgj2fpd0UhF0KroFTLe7gMfgR4SAK838VCMoj+4gyjGOdlJSEcT/4gXQWAtNRaivqBCipAvUJJkL7cDQWQ++uRtuqXBrCBRDi6MdMT/5WIIqdCa+rNxOB7VIiQnuT9SjueuZwOJxrxHXtWHNuRMLPeo8U75/+RJ2vOFvIufaoyAtSff/70tl1Tn8njPNrkfJGGyoekK7JhJ1BHxlcV5UzpvSIw+FwiOtzVxDODcwtUN2eiuRxbPuPxME6Xza7xbn2sHoYS86Qy9qO49MqMDfUqWbcokbqHergWewRwnVVGWNNjzgcDofBZ6w5Nwzfffcdrni9N/lr9msLc4ZuUanwve/xMXs0uK5Gh+sRh8MZq3DHmnPDwV61M4eFOy1XD+YI8RnG+OG6GgzXIw6HM9bhjjWHw+FwOBwOh5MA+Hs2DofD4XA4HA4nAXDHmsPhcDgcDofDSQDcseZwOBwOh8PhcBIAd6w5HA6Hw+FwOJwEwB1rDofD4XA4HA4nAXDHmsPhcDgcDofDGTHA/x+XJvS28bD/ygAAAABJRU5ErkJggg==)"
      ],
      "metadata": {
        "id": "MDg7b44hIHYV"
      }
    },
    {
      "cell_type": "code",
      "source": [
        "# number of nodes\n",
        "print(\"Number of nodes: \", c_ds.num_nodes)\n",
        "\n",
        "# number of edges\n",
        "print(\"Number of edges: \", c_ds.num_edges)\n",
        "\n",
        "# check if directed\n",
        "print(\"Is directed: \", c_ds.is_directed())"
      ],
      "metadata": {
        "id": "HhNxkgMm3LY7"
      },
      "execution_count": null,
      "outputs": []
    },
    {
      "cell_type": "code",
      "source": [
        "c_ds.x[:0].shape"
      ],
      "metadata": {
        "id": "KET8g1c07Hnn"
      },
      "execution_count": null,
      "outputs": []
    },
    {
      "cell_type": "code",
      "source": [
        "c_ds.x[:1].shape"
      ],
      "metadata": {
        "id": "2oPvItGo7Xi0"
      },
      "execution_count": null,
      "outputs": []
    },
    {
      "cell_type": "code",
      "source": [
        "c_ds.x[0].shape"
      ],
      "metadata": {
        "id": "mIs5LdJQ7Zpu"
      },
      "execution_count": null,
      "outputs": []
    },
    {
      "cell_type": "code",
      "source": [
        "# sample nodes from the graph\n",
        "print(\"Shape of sample nodes: \", c_ds.x[:5].shape)"
      ],
      "metadata": {
        "id": "TQuEWe1O3SRk"
      },
      "execution_count": null,
      "outputs": []
    },
    {
      "cell_type": "code",
      "source": [
        "c_ds_5 = c_ds.x[:5]"
      ],
      "metadata": {
        "id": "yYKResNh32t1"
      },
      "execution_count": null,
      "outputs": []
    },
    {
      "cell_type": "code",
      "source": [
        "c_ds_5.shape"
      ],
      "metadata": {
        "id": "xN2kaXaQ8AbY"
      },
      "execution_count": null,
      "outputs": []
    },
    {
      "cell_type": "code",
      "source": [
        "# number of graphs\n",
        "print(\"Number of graphs: \", len(c_ds_5))\n",
        "print(\"Number of features: \", len(c_ds_5[0]))"
      ],
      "metadata": {
        "id": "5mRi6qag8BKK"
      },
      "execution_count": null,
      "outputs": []
    },
    {
      "cell_type": "code",
      "source": [
        "c_ds"
      ],
      "metadata": {
        "id": "3_sVOc-1L6p3"
      },
      "execution_count": null,
      "outputs": []
    },
    {
      "cell_type": "code",
      "source": [
        "## train_mask=[2708], val_mask=[2708], test_mask=[2708]\n",
        "## Look Above"
      ],
      "metadata": {
        "id": "8awwD1KuL9yp"
      },
      "execution_count": null,
      "outputs": []
    },
    {
      "cell_type": "code",
      "source": [
        "# check training nodes\n",
        "print(\"# of nodes to train on: \", c_ds.train_mask.sum().item())\n",
        "# check test nodes\n",
        "print(\"# of nodes to test on: \", c_ds.test_mask.sum().item())\n",
        "# check validation nodes\n",
        "print(\"# of nodes to validate on: \", c_ds.val_mask.sum().item())"
      ],
      "metadata": {
        "id": "3rF4M_gS8IE4"
      },
      "execution_count": null,
      "outputs": []
    },
    {
      "cell_type": "code",
      "source": [
        "type(c_ds)"
      ],
      "metadata": {
        "id": "F2jn9vSQLqmO"
      },
      "execution_count": null,
      "outputs": []
    },
    {
      "cell_type": "code",
      "source": [
        "networkX_graph = to_networkx(c_ds)"
      ],
      "metadata": {
        "id": "ss7iyTRuJDjQ"
      },
      "execution_count": null,
      "outputs": []
    },
    {
      "cell_type": "code",
      "source": [
        "type(networkX_graph)"
      ],
      "metadata": {
        "id": "Nvu3C5nHJVE4"
      },
      "execution_count": null,
      "outputs": []
    },
    {
      "cell_type": "code",
      "source": [
        "nx.draw(networkX_graph)\n",
        "#nx.draw(networkX_graph, with_labels = True)"
      ],
      "metadata": {
        "id": "mU9nIN7fJan1"
      },
      "execution_count": null,
      "outputs": []
    },
    {
      "cell_type": "code",
      "source": [
        "networkX_graph"
      ],
      "metadata": {
        "id": "X_NqmxWLKEQk"
      },
      "execution_count": null,
      "outputs": []
    },
    {
      "cell_type": "code",
      "source": [
        "print(nx.is_weighted(networkX_graph))\n",
        "print(nx.is_directed(networkX_graph))\n",
        "print(networkX_graph.order())\n",
        "print(networkX_graph.number_of_edges())\n",
        "print(networkX_graph.number_of_nodes())\n",
        "print(networkX_graph.edges)\n",
        "print(networkX_graph.nodes)"
      ],
      "metadata": {
        "id": "lImzMOp7J1u2"
      },
      "execution_count": null,
      "outputs": []
    },
    {
      "cell_type": "code",
      "source": [
        "c_ds.x.shape"
      ],
      "metadata": {
        "id": "53wdxB97KnFg"
      },
      "execution_count": null,
      "outputs": []
    },
    {
      "cell_type": "code",
      "source": [
        "c_ds.x[1734].shape"
      ],
      "metadata": {
        "id": "vYCdT5K-Ky8I"
      },
      "execution_count": null,
      "outputs": []
    },
    {
      "cell_type": "code",
      "source": [
        "c_ds_10 = c_ds.x[:10]"
      ],
      "metadata": {
        "id": "cyxQId1_LHMk"
      },
      "execution_count": null,
      "outputs": []
    },
    {
      "cell_type": "code",
      "source": [
        "c_ds_10.shape"
      ],
      "metadata": {
        "id": "4-HsO5PeLL89"
      },
      "execution_count": null,
      "outputs": []
    },
    {
      "cell_type": "code",
      "source": [
        "type(c_ds_10)"
      ],
      "metadata": {
        "id": "WZ2GA7JtLOcF"
      },
      "execution_count": null,
      "outputs": []
    },
    {
      "cell_type": "code",
      "source": [
        "c_ds"
      ],
      "metadata": {
        "id": "V_Amcm3UMaCi"
      },
      "execution_count": null,
      "outputs": []
    },
    {
      "cell_type": "code",
      "source": [
        "# google drive에 networkX_graph를 gexf 파일로 저장\n",
        "\n",
        "nx.write_gexf(networkX_graph, 'cora_ex.gexf')"
      ],
      "metadata": {
        "id": "klkh59reKQhe"
      },
      "execution_count": null,
      "outputs": []
    },
    {
      "cell_type": "code",
      "source": [
        "# google drive에 networkX_graph를 graphml 파일로 저장\n",
        "\n",
        "]nx.write_graphml(networkX_graph, 'cora_ex.graphml')"
      ],
      "metadata": {
        "id": "vQ6L-sRqOUOf"
      },
      "execution_count": null,
      "outputs": []
    },
    {
      "cell_type": "markdown",
      "source": [
        "# **Cora Dataset from NetworkX**"
      ],
      "metadata": {
        "id": "nPl-bF5eNBy-"
      }
    },
    {
      "cell_type": "markdown",
      "source": [
        "**NetworkX에서 Cora 데이터 세트 받아 Colab에 올려 실습하기**"
      ],
      "metadata": {
        "id": "ZlyjIp3vNGEV"
      }
    },
    {
      "cell_type": "markdown",
      "source": [
        "- download cora.tgz from the link below:\n",
        "  -  https://linqs-data.soe.ucsc.edu/public/lbc/cora.tgz\n",
        "- upload cora.tgz to google colab"
      ],
      "metadata": {
        "id": "GT5xai_6QM6a"
      }
    },
    {
      "cell_type": "code",
      "source": [
        "# Colab에 올린 압축파일 풀기\n",
        "\n",
        "!tar -xvf /content/cora.tgz "
      ],
      "metadata": {
        "id": "qaCvDmSdQq4a"
      },
      "execution_count": null,
      "outputs": []
    },
    {
      "cell_type": "code",
      "source": [
        "import os\n",
        "import networkx as nx\n",
        "import pandas as pd\n",
        "data_dir = os.path.expanduser(\"/content/cora\") # 압축을 푼 파일 경로"
      ],
      "metadata": {
        "id": "Kngfh1l-PWVV"
      },
      "execution_count": null,
      "outputs": []
    },
    {
      "cell_type": "code",
      "source": [
        "edgelist = pd.read_csv(os.path.join(data_dir, \"cora.cites\"), sep='\\t', header=None, names=[\"target\", \"source\"])\n",
        "edgelist[\"label\"] = \"cites\""
      ],
      "metadata": {
        "id": "jpdaxxb1PWb2"
      },
      "execution_count": null,
      "outputs": []
    },
    {
      "cell_type": "code",
      "source": [
        "edgelist.sample(frac=1).head(10)"
      ],
      "metadata": {
        "id": "XmNmE1ojPsXi"
      },
      "execution_count": null,
      "outputs": []
    },
    {
      "cell_type": "code",
      "source": [
        "type(edgelist)"
      ],
      "metadata": {
        "id": "LRJ1fwl33vs4"
      },
      "execution_count": null,
      "outputs": []
    },
    {
      "cell_type": "code",
      "source": [
        "Gnx = nx.from_pandas_edgelist(edgelist, edge_attr=\"label\")\n",
        "nx.set_node_attributes(Gnx, \"paper\", \"label\")"
      ],
      "metadata": {
        "id": "lVC2xwGlRGKB"
      },
      "execution_count": null,
      "outputs": []
    },
    {
      "cell_type": "code",
      "source": [
        "print(nx.is_weighted(Gnx))\n",
        "print(nx.is_directed(Gnx))\n",
        "print(Gnx.order())\n",
        "print(Gnx.number_of_edges())\n",
        "print(Gnx.number_of_nodes())\n",
        "print(Gnx.edges)\n",
        "print(Gnx.nodes)"
      ],
      "metadata": {
        "id": "qJBV4vJ3RUDa"
      },
      "execution_count": null,
      "outputs": []
    },
    {
      "cell_type": "code",
      "source": [
        "Gnx"
      ],
      "metadata": {
        "id": "bJoLQbI5RGMr"
      },
      "execution_count": null,
      "outputs": []
    },
    {
      "cell_type": "code",
      "source": [
        "nx.draw(Gnx)"
      ],
      "metadata": {
        "id": "Xmsjy9vARGPH"
      },
      "execution_count": null,
      "outputs": []
    },
    {
      "cell_type": "code",
      "source": [
        "Gnx.number_of_nodes()"
      ],
      "metadata": {
        "id": "Z0cyac8LRdbH"
      },
      "execution_count": null,
      "outputs": []
    },
    {
      "cell_type": "code",
      "source": [
        "Gnx.nodes"
      ],
      "metadata": {
        "id": "dE8wvCguRdRx"
      },
      "execution_count": null,
      "outputs": []
    },
    {
      "cell_type": "code",
      "source": [
        "# Get the node ID from the above list\n",
        "Gnx.nodes[1050679]"
      ],
      "metadata": {
        "id": "DGNulZFTRGQU"
      },
      "execution_count": null,
      "outputs": []
    },
    {
      "cell_type": "code",
      "source": [
        "feature_names = [\"w_{}\".format(ii) for ii in range(1433)]\n",
        "column_names =  feature_names + [\"subject\"]\n",
        "node_data = pd.read_csv(os.path.join(data_dir, \"cora.content\"), sep='\\t', header=None, names=column_names)"
      ],
      "metadata": {
        "id": "qLl_qG5lR0Ag"
      },
      "execution_count": null,
      "outputs": []
    },
    {
      "cell_type": "code",
      "source": [
        "node_data"
      ],
      "metadata": {
        "id": "tpzBUXPAR0F7"
      },
      "execution_count": null,
      "outputs": []
    },
    {
      "cell_type": "code",
      "source": [
        "set(node_data[\"subject\"])"
      ],
      "metadata": {
        "id": "0CjTJVJ6R0KY"
      },
      "execution_count": null,
      "outputs": []
    },
    {
      "cell_type": "code",
      "source": [
        "node_data"
      ],
      "metadata": {
        "id": "_KiXPektR0PC"
      },
      "execution_count": null,
      "outputs": []
    },
    {
      "cell_type": "code",
      "source": [],
      "metadata": {
        "id": "eEPLgbu8SBRe"
      },
      "execution_count": null,
      "outputs": []
    },
    {
      "cell_type": "code",
      "source": [],
      "metadata": {
        "id": "r6tnRMIGSBhV"
      },
      "execution_count": null,
      "outputs": []
    },
    {
      "cell_type": "code",
      "source": [
        "device = torch.device('cuda' if torch.cuda.is_available() else 'cpu')\n",
        "print(device)"
      ],
      "metadata": {
        "id": "mM7---hD9Ho8"
      },
      "execution_count": null,
      "outputs": []
    },
    {
      "cell_type": "code",
      "source": [
        "data = cora_dataset[0]\n",
        "print(f'Dataset: {cora_dataset}:')\n",
        "print('======================')\n",
        "print(f'Number of graphs: {len(cora_dataset)}')\n",
        "print(f'Number of features: {cora_dataset.num_features}')\n",
        "print(f'Number of classes: {cora_dataset.num_classes}')\n",
        "\n",
        "print(f'Number of nodes: {data.num_nodes}')\n",
        "print(f'Number of edges: {data.num_edges}')\n",
        "print(f'Average node degree: {data.num_edges / data.num_nodes:.2f}')\n",
        "print(f'Number of training nodes: {data.train_mask.sum()}')\n",
        "print(f'Training node label rate: {int(data.train_mask.sum()) / data.num_nodes:.2f}')\n",
        "print(f'Contains isolated nodes: {data.contains_isolated_nodes()}')\n",
        "print(f'Contains self-loops: {data.contains_self_loops()}')\n",
        "print(f'Is undirected: {data.is_undirected()}')"
      ],
      "metadata": {
        "id": "ig5H8MjYCY3V"
      },
      "execution_count": null,
      "outputs": []
    },
    {
      "cell_type": "code",
      "source": [
        "A = nx.adjacency_matrix(Gnx)"
      ],
      "metadata": {
        "id": "rFi5hCN4DBoI"
      },
      "execution_count": null,
      "outputs": []
    },
    {
      "cell_type": "code",
      "source": [
        "# 인접행렬\n",
        "\n",
        "A.todense()"
      ],
      "metadata": {
        "id": "Cfkqo16h4p_H"
      },
      "execution_count": null,
      "outputs": []
    },
    {
      "cell_type": "code",
      "source": [],
      "metadata": {
        "id": "-gYnjfO14tyg"
      },
      "execution_count": null,
      "outputs": []
    }
  ]
}